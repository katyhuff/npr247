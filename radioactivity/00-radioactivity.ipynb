{
 "cells": [
  {
   "cell_type": "code",
   "execution_count": 2,
   "metadata": {
    "collapsed": true,
    "deletable": true,
    "editable": true
   },
   "outputs": [],
   "source": [
    "%matplotlib inline\n",
    "\n",
    "import matplotlib\n",
    "import numpy as np\n",
    "import matplotlib.pyplot as plt\n",
    "\n",
    "plt.rcParams[\"figure.figsize\"] = (12, 9)\n",
    "plt.rcParams[\"font.size\"] = 18"
   ]
  },
  {
   "cell_type": "markdown",
   "metadata": {
    "deletable": true,
    "editable": true
   },
   "source": [
    "# Radioactivity\n",
    "\n",
    "Learning Objectives:\n",
    "\n",
    "- Explain how radioactivity was discovered\n",
    "- Explain the nuclear physical reason for radioactive decay\n",
    "- List the sources of natural and man made radiation\n",
    "- Read and understand a decay diagram\n",
    "- Calculate Q values for various types of decay\n",
    "- Describe the physics of various types of decay\n",
    "- State the radioactive decay law"
   ]
  },
  {
   "cell_type": "markdown",
   "metadata": {
    "deletable": true,
    "editable": true
   },
   "source": [
    "## Discovery of Radioactivity\n",
    "- Radioactivity was first discovered in 1896 by  Henri Becquerel, while working on phosphorescent materials.\n",
    "- These materials glow in the dark after exposure to light, and he thought that the glow produced in cathode ray tubes by X-rays might be connected with phosphorescence.\n",
    "- He wrapped a photographic plate in black paper and placed various phosphorescent minerals on it.\n",
    "- All results were negative until he used uranium salts.\n",
    "\n",
    "<a title=\"By UnknownUnknown author (http://ihm.nlm.nih.gov/images/B02617) [Public domain], via Wikimedia Commons\" href=\"https://commons.wikimedia.org/wiki/File:Becquerel_in_the_lab.jpg\"><img width=\"256\" alt=\"Becquerel in the lab\" src=\"https://upload.wikimedia.org/wikipedia/commons/thumb/b/b6/Becquerel_in_the_lab.jpg/256px-Becquerel_in_the_lab.jpg\"></a>\n",
    "<center>Becquerel in the lab</center>\n",
    "\n",
    "<a title=\"By Henri Becquerel [Public domain], via Wikimedia Commons\" href=\"https://commons.wikimedia.org/wiki/File:Becquerel_plate.jpg\"><img width=\"256\" alt=\"Becquerel plate\" src=\"https://upload.wikimedia.org/wikipedia/commons/1/1e/Becquerel_plate.jpg\"></a>\n",
    "<center>Photographic plate made by Henri Becquerel showing effects of exposure to radioactivity.</center>\n"
   ]
  },
  {
   "cell_type": "markdown",
   "metadata": {
    "deletable": true,
    "editable": true
   },
   "source": [
    "**What is nuclear decay?**\n",
    "A spontaneous process where the protons and neutrons in a given nucleus are rearranged into a lower energy state.\n",
    "The transition may involve levels of the same nucleus (gamma emission, internal conversion) or levels of a different nucleus (alpha, beta decay).\n",
    "\n",
    "**Why do nuclei decay?** A nucleus decays when it is **unstable**.  It undergoes decay in order to become more stable (lower energy state).\n",
    "\n",
    "**Where do the unstable nuclei come from?**\n"
   ]
  },
  {
   "cell_type": "markdown",
   "metadata": {
    "deletable": true,
    "editable": true
   },
   "source": [
    "## Sources of Radiation\n",
    "\n",
    "> A chart of the public's exposure to ionizing radiation (displayed below) \n",
    "> shows that people generally receive a total annual dose of about 620 millirem. \n",
    "> Of this total, natural sources of radiation account for about 50 percent, \n",
    "> while man-made sources account for the remaining 50 percent. -- US NRC\n",
    "\n",
    "![https://www.nrc.gov/images/reading-rm/basic-ref/glossary/ionizing-radiation.jpg](https://www.nrc.gov/images/reading-rm/basic-ref/glossary/ionizing-radiation.jpg)\n",
    "\n",
    "## Natural Sources\n",
    "\n",
    "\n",
    "\n",
    "### Terrestrial\n",
    "\n",
    "Uranium, thorium, radium, etc. are all present naturally inside rocks and soil and are part of the four major decay chains. Others are 'primordial.' Primoidal radioactive isotopes include about 20 isotopes that are long lived and not part of any decay chain (K-40, Rubidium-87) Potassium has a quite radioactive isotope, $^{40}K$. (bananas)\n",
    "\n",
    "<a title=\"By Offnfopt [Public domain or CC0], via Wikimedia Commons\" href=\"https://commons.wikimedia.org/wiki/File:Evolution_of_Earth%27s_radiogenic_heat.svg\"><img width=\"512\" alt=\"Evolution of Earth&#039;s radiogenic heat\" src=\"https://upload.wikimedia.org/wikipedia/commons/thumb/b/b9/Evolution_of_Earth%27s_radiogenic_heat.svg/512px-Evolution_of_Earth%27s_radiogenic_heat.svg.png\"></a>\n",
    "<center>Evolution of the earth's radiogenic heat (in the mantle).</center>\n",
    "\n",
    "### Internal\n",
    "\n",
    "Mostly $^{40}K$ and $^{14}C$ inside your body.\n",
    "\n",
    "### Cosmic\n",
    "Commonly, cosmic radiation includes $^{14}C$, tritium ($^3H$), and others.\n",
    "\n",
    "<p><a href=\"https://commons.wikimedia.org/wiki/File:Shower_detection.png#/media/File:Shower_detection.png\"><img src=\"https://upload.wikimedia.org/wikipedia/commons/2/27/Shower_detection.png\" alt=\"Shower detection.png\"></a><br><a href=\"http://creativecommons.org/licenses/by-sa/3.0/\" title=\"Creative Commons Attribution-Share Alike 3.0\">CC BY-SA 3.0</a>, <a href=\"https://commons.wikimedia.org/w/index.php?curid=44271\">Link</a></p>\n",
    "\n",
    "\n",
    "![https://astrobiology.nasa.gov/uploads/filer_public/a2/c0/a2c0db08-192f-4694-a97c-f8650e1774fe/image-of-cosmic-ray-tracks.jpg](https://astrobiology.nasa.gov/uploads/filer_public/a2/c0/a2c0db08-192f-4694-a97c-f8650e1774fe/image-of-cosmic-ray-tracks.jpg)\n",
    "\n",
    "Air showers ensuing from very-high-energy cosmic rays can enter Earth’s atmosphere from multiple directions. Credit: Simon Swordy/NASA.\n",
    "\n",
    "\n",
    "## Man-Made Radiation\n",
    "\n",
    "Of approximately 3200 known nuclides:\n",
    "- **266** are stable, \n",
    "- **65** long-lived radioactive isotopes are found in nature, \n",
    "- and the remaining **~2900** have been made by humans.\n",
    "\n",
    "One of the heaviest named elements is Livermorium (Z=116), its most stable isotope $^{293}Lv$ has half-life $t_{1/2} = 60 ms$.\n",
    "\n",
    "![decay-modes.png](./decay-modes.png)"
   ]
  },
  {
   "cell_type": "markdown",
   "metadata": {
    "deletable": true,
    "editable": true
   },
   "source": [
    "### Types of Decay "
   ]
  },
  {
   "cell_type": "code",
   "execution_count": 3,
   "metadata": {
    "collapsed": false,
    "deletable": true,
    "editable": true
   },
   "outputs": [
    {
     "data": {
      "text/html": [
       "\n",
       "        <iframe\n",
       "            width=\"1000\"\n",
       "            height=\"1000\"\n",
       "            src=\"https://bookshelf.vitalsource.com/books/9781498769303/pageid/121\"\n",
       "            frameborder=\"0\"\n",
       "            allowfullscreen\n",
       "        ></iframe>\n",
       "        "
      ],
      "text/plain": [
       "<IPython.lib.display.IFrame at 0x10b3a7518>"
      ]
     },
     "execution_count": 3,
     "metadata": {},
     "output_type": "execute_result"
    }
   ],
   "source": [
    "# The below IFrame displays Page 99 of your textbook:\n",
    "# Shultis, J. K. (2016). Fundamentals of Nuclear Science and Engineering Third Edition, \n",
    "# 3rd Edition. [Vitalsource]. Retrieved from https://bookshelf.vitalsource.com/#/books/9781498769303/\n",
    "\n",
    "from IPython.display import IFrame\n",
    "IFrame(\"https://bookshelf.vitalsource.com/books/9781498769303/pageid/121\", width=1000, height=1000)\n"
   ]
  },
  {
   "cell_type": "markdown",
   "metadata": {
    "deletable": true,
    "editable": true
   },
   "source": [
    "All elements smaller than Z=83 (Bismuth) have at least one stable isotope.\n",
    "Exceptions: Technetium (Z=43) and Promethium (Z=61).\n",
    "\n",
    "Once nucleus gets past a certain size, it is unstable\n",
    "The largest stable nucleus is Pb-208, all isotopes larger than this are unstable\n",
    "\n",
    "Nuclear conservation laws apply. The following are conserved:\n",
    "- charge\n",
    "- number of nucleons (proton + neutron)\n",
    "- total energy (mass + energy)\n",
    "- linear momentum (in inertial frame of reference)\n",
    "- angular momentum (spin)\n",
    "  - alternatively: leptons (electrons + neutrinos)"
   ]
  },
  {
   "cell_type": "code",
   "execution_count": 4,
   "metadata": {
    "collapsed": false,
    "deletable": true,
    "editable": true
   },
   "outputs": [
    {
     "data": {
      "text/html": [
       "\n",
       "        <iframe\n",
       "            width=\"1000\"\n",
       "            height=\"1000\"\n",
       "            src=\"https://bookshelf.vitalsource.com/books/9781498769303/pageid/122\"\n",
       "            frameborder=\"0\"\n",
       "            allowfullscreen\n",
       "        ></iframe>\n",
       "        "
      ],
      "text/plain": [
       "<IPython.lib.display.IFrame at 0x10b3a7588>"
      ]
     },
     "execution_count": 4,
     "metadata": {},
     "output_type": "execute_result"
    }
   ],
   "source": [
    "# The below IFrame displays Page 100 of your textbook:\n",
    "# Shultis, J. K. (2016). Fundamentals of Nuclear Science and Engineering Third Edition, \n",
    "# 3rd Edition. [Vitalsource]. Retrieved from https://bookshelf.vitalsource.com/#/books/9781498769303/\n",
    "from IPython.display import IFrame\n",
    "IFrame(\"https://bookshelf.vitalsource.com/books/9781498769303/pageid/122\", width=1000, height=1000)"
   ]
  },
  {
   "cell_type": "markdown",
   "metadata": {
    "collapsed": true,
    "deletable": true,
    "editable": true
   },
   "source": [
    "## Energetics of Decay\n",
    "\n",
    "<a title=\"By User:Stannered (Traced from this PNG image.) [GFDL (http://www.gnu.org/copyleft/fdl.html), CC-BY-SA-3.0 (http://creativecommons.org/licenses/by-sa/3.0/) or CC BY 2.5 \n",
    " (https://creativecommons.org/licenses/by/2.5\n",
    ")], via Wikimedia Commons\" href=\"https://commons.wikimedia.org/wiki/File:Alfa_beta_gamma_radiation.svg\"><img width=\"256\" alt=\"Alfa beta gamma radiation\" src=\"https://upload.wikimedia.org/wikipedia/commons/thumb/d/d6/Alfa_beta_gamma_radiation.svg/256px-Alfa_beta_gamma_radiation.svg.png\"></a>\n",
    "\n",
    "\n",
    "### Alpha ($\\alpha$) Decay\n",
    "\n",
    "An $\\alpha$ particle is emitted.\n",
    "The daughter is left with 2 fewer neutrons and 2 fewer protons than the parent.\n",
    "\n",
    "\\begin{align}\n",
    "^{A}_{Z}P \\longrightarrow ^{A-4}_{Z-2}D^{2-} + ^4_2\\alpha\n",
    "\\end{align}\n",
    "\n",
    "\\begin{align}\n",
    "\\frac{Q}{c^2} = M\\left(^{A}_{Z}P\\right)-\\left[ M\\left(^{A-4}_{Z-2}D\\right) + M\\left(^{4}_{2}He\\right)\\right]\n",
    "\\end{align}\n",
    "\n",
    "<a title=\"By Inductiveload [Public domain], from Wikimedia Commons\" href=\"https://commons.wikimedia.org/wiki/File:Alpha_Decay.svg\"><img width=\"128\" alt=\"Alpha Decay\" src=\"https://upload.wikimedia.org/wikipedia/commons/thumb/7/79/Alpha_Decay.svg/128px-Alpha_Decay.svg.png\"></a>\n",
    "\n",
    "### Gamma ($\\gamma$) Decay\n",
    "\n",
    "An excited nucleus decays to its ground state by the emission of a gamma photon.\n",
    "\n",
    "\\begin{align}\n",
    "^{A}_{Z}P^* \\longrightarrow ^{A}_{Z}P + \\gamma\n",
    "\\end{align}\n",
    "\n",
    "\n",
    "\\begin{align}\n",
    "Q = E^*\n",
    "\\end{align}\n",
    "\n",
    "<a title=\"By Inductiveload [Public domain], via Wikimedia Commons\" href=\"https://commons.wikimedia.org/wiki/File:Gamma_Decay.svg\"><img width=\"128\" alt=\"Gamma Decay\" src=\"https://upload.wikimedia.org/wikipedia/commons/thumb/c/c2/Gamma_Decay.svg/128px-Gamma_Decay.svg.png\"></a>\n",
    "\n",
    "### Negatron ($\\beta -$) Decay\n",
    "A neutron changes into a proton in the nucleus (nuclear weak force). An electron ($\\beta -$) and an antineutrino ($\\bar{\\nu}$) are emitted.\n",
    "\n",
    "\\begin{align}\n",
    "^{A}_{Z}P \\longrightarrow ^{A}_{Z+1}D^{+} + ^0_{-1}e + \\bar{\\nu}\n",
    "\\end{align}\n",
    "\n",
    "\n",
    "\\begin{align}\n",
    "\\frac{Q}{c^2} = M\\left(^{A}_{Z}P\\right)- M\\left(^{A}_{Z+1}D\\right)\n",
    "\\end{align}\n",
    "\n",
    "<a title=\"By Inductiveload [Public domain], from Wikimedia Commons\" href=\"https://commons.wikimedia.org/wiki/File:Beta-minus_Decay.svg\"><img width=\"128\" alt=\"Beta-minus Decay\" src=\"https://upload.wikimedia.org/wikipedia/commons/thumb/a/aa/Beta-minus_Decay.svg/128px-Beta-minus_Decay.svg.png\"></a>\n",
    "\n",
    "### Positron ($\\beta +$) Decay\n",
    "\n",
    "A proton changes into a neutron in the nucleus (nuclear weak force). A positron ($\\beta +$) and a neutrino ($\\nu$) are emitted.\n",
    "\n",
    "\\begin{align}\n",
    "^{A}_{Z}P \\longrightarrow ^{A}_{Z-1}D^{-} + ^0_{+1}e + \\nu\n",
    "\\end{align}\n",
    "\n",
    "\n",
    "\\begin{align}\n",
    "\\frac{Q}{c^2} = M\\left(^{A}_{Z}P\\right)- \\left[ M\\left(^{A}_{Z-1}D\\right) + 2m_e\\right]\n",
    "\\end{align}\n",
    "\n",
    "<a title=\"By Master-m1000 [Public domain], via Wikimedia Commons\" href=\"https://commons.wikimedia.org/wiki/File:Beta-plus_Decay.svg\"><img width=\"128\" alt=\"Beta-plus Decay\" src=\"https://upload.wikimedia.org/wikipedia/commons/thumb/3/3f/Beta-plus_Decay.svg/128px-Beta-plus_Decay.svg.png\"></a>\n",
    "\n",
    "### Electron Capture\n",
    "1. An orbital electron is absorbed by the nucleus,\n",
    "2. converts a nuclear proton into a neutron and a neutrino ($\\nu$), \n",
    "3. and typically leaves the nucleus in an excited state.\n",
    "\n",
    "\\begin{align}\n",
    "^{A}_{Z}P + \\left(^0_{-1}e\\right) \\longrightarrow ^{A}_{Z-1}D + \\nu\n",
    "\\end{align}\n",
    "\n",
    "\n",
    "\\begin{align}\n",
    "\\frac{Q}{c^2} = M\\left(^{A}_{Z}P\\right)-  M\\left(^{A}_{Z-1}D\\right) \n",
    "\\end{align}\n",
    "\n",
    "<a title=\"By Pamputt [CC BY-SA 4.0 \n",
    " (https://creativecommons.org/licenses/by-sa/4.0\n",
    ")], from Wikimedia Commons\" href=\"https://commons.wikimedia.org/wiki/File:Atomic_rearrangement_following_an_electron_capture.svg\"><img width=\"256\" alt=\"Atomic rearrangement following an electron capture\" src=\"https://upload.wikimedia.org/wikipedia/commons/thumb/b/b1/Atomic_rearrangement_following_an_electron_capture.svg/256px-Atomic_rearrangement_following_an_electron_capture.svg.png\"></a>\n",
    "\n",
    "### Proton Emission\n",
    "A proton is ejected from the nucleus.\n",
    "\n",
    "\\begin{align}\n",
    "^{A}_{Z}P \\longrightarrow ^{A-1}_{Z-1}D^{-} + ^1_1p\n",
    "\\end{align}\n",
    "\n",
    "\\begin{align}\n",
    "\\frac{Q}{c^2} = M\\left(^{A}_{Z}P\\right)-\\left[ M\\left(^{A-1}_{Z-1}D\\right) + M\\left(^{1}_{1}H\\right)\\right]\n",
    "\\end{align}\n",
    "\n",
    "<a title=\"By No machine-readable author provided. Abschalom~commonswiki assumed (based on copyright claims). [Public domain], via Wikimedia Commons\" href=\"https://commons.wikimedia.org/wiki/File:Zerfallsschema.png\"><img width=\"512\" alt=\"Zerfallsschema\" src=\"https://upload.wikimedia.org/wikipedia/commons/1/1f/Zerfallsschema.png\"></a>\n",
    "\n",
    "The decay of a proton rich nucleus A populates excited states of a daughter nucleus B by β+ emission or electron capture (EC). Those excited states that lie below the separation energy for protons (Sp) decay by γ emission towards the groundstate of daughter B. For the higher excited states a competitive decay channel of proton emission to the granddaughter C exists, called β-delayed proton emission.\n",
    "\n",
    "### Neutron Emission\n",
    "A neutron is ejected from the nucleus.\n",
    "\n",
    "\\begin{align}\n",
    "^{A}_{Z}P \\longrightarrow ^{A-1}_{Z}P + ^1_0n\n",
    "\\end{align}\n",
    "\n",
    "\\begin{align}\n",
    "\\frac{Q}{c^2} = M\\left(^{A}_{Z}P\\right)-\\left[ M\\left(^{A-1}_{Z}P\\right) + m_n\\right]\n",
    "\\end{align}\n",
    "\n",
    "### Internal Conversion\n",
    "\n",
    "The excitation energy of a nucleus is used to eject an orbital electron (typically a K-shell) electron.\n",
    "\n",
    "\\begin{align}\n",
    "^{A}_{Z}P^* \\longrightarrow ^{A-1}_{Z}P^+ + ^0_{-1}e\n",
    "\\end{align}\n",
    "\n",
    "\\begin{align}\n",
    "Q = E* - BE^K_e\n",
    "\\end{align}\n",
    "\n",
    "<a title=\"By HPaul [CC BY-SA 4.0 \n",
    " (https://creativecommons.org/licenses/by-sa/4.0\n",
    ")], from Wikimedia Commons\" href=\"https://commons.wikimedia.org/wiki/File:Decay_scheme_of_203Hg.jpg\"><img width=\"512\" alt=\"Decay scheme of 203Hg\" src=\"https://upload.wikimedia.org/wikipedia/commons/thumb/d/df/Decay_scheme_of_203Hg.jpg/512px-Decay_scheme_of_203Hg.jpg\"></a>"
   ]
  },
  {
   "cell_type": "markdown",
   "metadata": {
    "deletable": true,
    "editable": true
   },
   "source": [
    "### An Aside on The Nuclear Weak Force\n",
    "\n",
    "Beta ($\\beta \\pm$) decay is a consequence of the **weak force**, which is characterized by long decay times (thousands of years). Nucleons are composed of up quarks and down quarks, and **the weak force allows a quark to change type** by the exchange of a W boson and the creation of an electron/antineutrino or positron/neutrino pair. For example, **a neutron, composed of two down quarks and an up quark, decays to a proton composed of a down quark and two up quarks.** "
   ]
  },
  {
   "cell_type": "markdown",
   "metadata": {
    "deletable": true,
    "editable": true
   },
   "source": [
    "\n",
    "\n",
    "## Radioactive Decay Law\n",
    "\n",
    "\n",
    "**The Law:** The probability that an unstable parent nucleus will decay spontaneously into one or more particles of lower mass/energy is independent of the past history of the nucleus and is the same for all radionuclides of the same type.\n",
    "\n",
    "### Decay Constant \n",
    "Radioactive decay takes place stochastically in a single atom, and quite predictably in a large group of radioactive atoms of the same type.\n",
    "\n",
    "The probability that any one of the radionuclides in the sample decays in $\\Delta t$ is $\\frac{\\Delta N}{N}$. This **decay probability** $\\frac{\\Delta N}{N}$ per unit time for a time interval $\\Delta t$ should vary smoothly for large $\\Delta t$. \n",
    "\n",
    "The statistically averaged **decay probability per unit time**, in the limit of infinitely small $\\Delta t$, approaches a constant $\\lambda$.\n",
    "Thus:\n",
    "\n",
    "\\begin{align}\n",
    "       \\lambda &= \\mbox{decay constant}\\\\\n",
    "        &\\equiv \\lim_{\\Delta t \\to 0} \\frac{\\left(\\Delta N/N\\right)}{\\Delta t}\\\\\n",
    "N(t) &= \\mbox{expected number of nuclides in a sample at time t}\\\\\n",
    "\\implies \\mbox{ } -dN &= \\mbox{decrease in number of radionuclides}\\\\\n",
    "                      &= \\lambda N(t) dt\\\\\n",
    "\\implies \\mbox{ } \\frac{dN(t)}{dt} &=-\\lambda N(t)\\\\       \n",
    "\\end{align}\n",
    "\n",
    "The above is a differential equation. The solution to this differential equation give a definition of N as a function of t. We can now describe the change in radioactive nuclides over time as:\n",
    "\n",
    "\\begin{align}\n",
    "        \\frac{dN}{dt} &= -\\lambda N \\\\\n",
    "       \\Rightarrow N_i(t) &= N_i(0)e^{-\\lambda t}\\\\\n",
    "\\end{align}\n",
    "\n",
    "where\n",
    "\n",
    "\\begin{align}\n",
    "        N_i(t) &= \\mbox{number of isotopes i adjusted for decay}\\\\\n",
    "        N_i(0)&= \\mbox{initial condition}\\\\"
   ]
  },
  {
   "cell_type": "code",
   "execution_count": 48,
   "metadata": {
    "collapsed": false,
    "deletable": true,
    "editable": true
   },
   "outputs": [
    {
     "data": {
      "text/html": [
       "\n",
       "\n",
       "<style>\n",
       "\n",
       "</style>\n",
       "\n",
       "<div id=\"fig_el1052645567083289529607960\"></div>\n",
       "<script>\n",
       "function mpld3_load_lib(url, callback){\n",
       "  var s = document.createElement('script');\n",
       "  s.src = url;\n",
       "  s.async = true;\n",
       "  s.onreadystatechange = s.onload = callback;\n",
       "  s.onerror = function(){console.warn(\"failed to load library \" + url);};\n",
       "  document.getElementsByTagName(\"head\")[0].appendChild(s);\n",
       "}\n",
       "\n",
       "if(typeof(mpld3) !== \"undefined\" && mpld3._mpld3IsLoaded){\n",
       "   // already loaded: just create the figure\n",
       "   !function(mpld3){\n",
       "       \n",
       "       mpld3.draw_figure(\"fig_el1052645567083289529607960\", {\"width\": 960.0, \"height\": 720.0, \"id\": \"el105264556708328\", \"data\": {\"data01\": [[0.0, 100.0], [1.0, 36.787944117144235], [2.0, 13.53352832366127], [3.0, 4.978706836786395], [4.0, 1.8315638888734178], [5.0, 0.6737946999085467], [6.0, 0.24787521766663584], [7.0, 0.09118819655545163], [8.0, 0.033546262790251184], [9.0, 0.012340980408667957], [10.0, 0.004539992976248485], [11.0, 0.0016701700790245659], [12.0, 0.000614421235332821], [13.0, 0.00022603294069810544], [14.0, 8.315287191035679e-05], [15.0, 3.059023205018258e-05], [16.0, 1.1253517471925912e-05], [17.0, 4.139937718785167e-06], [18.0, 1.522997974471263e-06], [19.0, 5.602796437537268e-07], [20.0, 2.061153622438558e-07], [21.0, 7.582560427911906e-08], [22.0, 2.7894680928689246e-08], [23.0, 1.026187963170189e-08]]}, \"plugins\": [{\"type\": \"reset\"}, {\"type\": \"zoom\", \"enabled\": false, \"button\": true}, {\"type\": \"boxzoom\", \"enabled\": false, \"button\": true}, {\"type\": \"tooltip\", \"labels\": [\"100.0% remaining\", \"36.787944117144235% remaining\", \"13.53352832366127% remaining\", \"4.978706836786395% remaining\", \"1.8315638888734178% remaining\", \"0.6737946999085467% remaining\", \"0.24787521766663584% remaining\", \"0.09118819655545163% remaining\", \"0.033546262790251184% remaining\", \"0.012340980408667957% remaining\", \"0.004539992976248485% remaining\", \"0.0016701700790245659% remaining\", \"0.000614421235332821% remaining\", \"0.00022603294069810544% remaining\", \"8.315287191035679e-05% remaining\", \"3.059023205018258e-05% remaining\", \"1.1253517471925912e-05% remaining\", \"4.139937718785167e-06% remaining\", \"1.522997974471263e-06% remaining\", \"5.602796437537268e-07% remaining\", \"2.061153622438558e-07% remaining\", \"7.582560427911906e-08% remaining\", \"2.7894680928689246e-08% remaining\", \"1.026187963170189e-08% remaining\"], \"hoffset\": 0, \"voffset\": 10, \"id\": \"el105264542438088\", \"location\": \"mouse\"}], \"axes\": [{\"collections\": [{\"paths\": [[[[0.0, -0.5], [0.13260155, -0.5], [0.25978993539242673, -0.44731684579412084], [0.3535533905932738, -0.3535533905932738], [0.44731684579412084, -0.25978993539242673], [0.5, -0.13260155], [0.5, 0.0], [0.5, 0.13260155], [0.44731684579412084, 0.25978993539242673], [0.3535533905932738, 0.3535533905932738], [0.25978993539242673, 0.44731684579412084], [0.13260155, 0.5], [0.0, 0.5], [-0.13260155, 0.5], [-0.25978993539242673, 0.44731684579412084], [-0.3535533905932738, 0.3535533905932738], [-0.44731684579412084, 0.25978993539242673], [-0.5, 0.13260155], [-0.5, 0.0], [-0.5, -0.13260155], [-0.44731684579412084, -0.25978993539242673], [-0.3535533905932738, -0.3535533905932738], [-0.25978993539242673, -0.44731684579412084], [-0.13260155, -0.5], [0.0, -0.5]], [\"M\", \"C\", \"C\", \"C\", \"C\", \"C\", \"C\", \"C\", \"C\", \"Z\"]]], \"yindex\": 1, \"edgecolors\": [\"#0000FF\"], \"pathcoordinates\": \"display\", \"id\": \"el105264542438088\", \"zorder\": 1, \"xindex\": 0, \"facecolors\": [\"#0000FF\"], \"offsets\": \"data01\", \"alphas\": [0.4], \"pathtransforms\": [[49.69039949999532, 0.0, 0.0, 49.69039949999532, 0.0, 0.0], [30.138750790116475, 0.0, 0.0, 30.138750790116475, 0.0, 0.0], [18.280076399644, 0.0, 0.0, 18.280076399644, 0.0, 0.0], [11.087426798273416, 0.0, 0.0, 11.087426798273416, 0.0, 0.0], [6.724864290472305, 0.0, 0.0, 6.724864290472305, 0.0, 0.0], [4.078836374578097, 0.0, 0.0, 4.078836374578097, 0.0, 0.0], [2.47393931713274, 0.0, 0.0, 2.47393931713274, 0.0, 0.0], [1.5005200461095423, 0.0, 0.0, 1.5005200461095423, 0.0, 0.0], [0.9101114134788519, 0.0, 0.0, 0.9101114134788519, 0.0, 0.0], [0.5520104760293253, 0.0, 0.0, 0.5520104760293253, 0.0, 0.0], [0.3348112781943515, 0.0, 0.0, 0.3348112781943515, 0.0, 0.0], [0.20307330544245009, 0.0, 0.0, 0.20307330544245009, 0.0, 0.0], [0.12317018592003433, 0.0, 0.0, 0.12317018592003433, 0.0, 0.0], [0.07470649412300615, 0.0, 0.0, 0.07470649412300615, 0.0, 0.0], [0.04531177916524489, 0.0, 0.0, 0.04531177916524489, 0.0, 0.0], [0.02748298330984914, 0.0, 0.0, 0.02748298330984914, 0.0, 0.0], [0.016669271997794097, 0.0, 0.0, 0.016669271997794097, 0.0, 0.0], [0.01011042454175138, 0.0, 0.0, 0.01011042454175138, 0.0, 0.0], [0.0061322824672832635, 0.0, 0.0, 0.0061322824672832635, 0.0, 0.0], [0.003719417330425533, 0.0, 0.0, 0.003719417330425533, 0.0, 0.0], [0.0022559406471696, 0.0, 0.0, 0.0022559406471696, 0.0, 0.0], [0.0013682971690003227, 0.0, 0.0, 0.0013682971690003227, 0.0, 0.0], [0.0008299141845966944, 0.0, 0.0, 0.0008299141845966944, 0.0, 0.0], [0.0005033683978883053, 0.0, 0.0, 0.0005033683978883053, 0.0, 0.0]], \"offsetcoordinates\": \"data\", \"edgewidths\": [1.0]}], \"texts\": [{\"position\": [0.5, -0.05197132616487454], \"fontsize\": 18.0, \"color\": \"#000000\", \"v_baseline\": \"hanging\", \"id\": \"el105264571913240\", \"coordinates\": \"axes\", \"zorder\": 3, \"alpha\": 1, \"h_anchor\": \"middle\", \"text\": \"Time\", \"rotation\": -0.0}, {\"position\": [-0.07022849462365593, 0.5], \"fontsize\": 18.0, \"color\": \"#000000\", \"v_baseline\": \"auto\", \"id\": \"el105264542556984\", \"coordinates\": \"axes\", \"zorder\": 3, \"alpha\": 1, \"h_anchor\": \"middle\", \"text\": \"N_i(t)\", \"rotation\": -90.0}, {\"position\": [0.5, 1.0099561927518916], \"fontsize\": 21.599999999999998, \"color\": \"#000000\", \"v_baseline\": \"auto\", \"id\": \"el105264571592408\", \"coordinates\": \"axes\", \"zorder\": 3, \"alpha\": 1, \"h_anchor\": \"middle\", \"text\": \"N_i\", \"rotation\": -0.0}], \"bbox\": [0.125, 0.125, 0.775, 0.775], \"zoomable\": true, \"axesbgalpha\": null, \"xlim\": [-5.0, 25.0], \"yscale\": \"linear\", \"lines\": [{\"linewidth\": 1.0, \"xindex\": 0, \"dasharray\": \"10,0\", \"yindex\": 1, \"alpha\": 1, \"id\": \"el105264571712592\", \"data\": \"data01\", \"coordinates\": \"data\", \"color\": \"#FF0000\", \"zorder\": 2}], \"axes\": [{\"position\": \"bottom\", \"nticks\": 7, \"tickformat\": null, \"tickvalues\": null, \"scale\": \"linear\", \"fontsize\": 18.0, \"grid\": {\"gridOn\": false}}, {\"position\": \"left\", \"nticks\": 8, \"tickformat\": null, \"tickvalues\": null, \"scale\": \"linear\", \"fontsize\": 18.0, \"grid\": {\"gridOn\": false}}], \"paths\": [], \"id\": \"el105264542678744\", \"sharex\": [], \"axesbg\": \"#FFFFFF\", \"images\": [], \"xscale\": \"linear\", \"xdomain\": [-5.0, 25.0], \"ydomain\": [-20.0, 120.0], \"sharey\": [], \"ylim\": [-20.0, 120.0], \"markers\": []}]});\n",
       "   }(mpld3);\n",
       "}else if(typeof define === \"function\" && define.amd){\n",
       "   // require.js is available: use it to load d3/mpld3\n",
       "   require.config({paths: {d3: \"https://mpld3.github.io/js/d3.v3.min\"}});\n",
       "   require([\"d3\"], function(d3){\n",
       "      window.d3 = d3;\n",
       "      mpld3_load_lib(\"https://mpld3.github.io/js/mpld3.v0.2.js\", function(){\n",
       "         \n",
       "         mpld3.draw_figure(\"fig_el1052645567083289529607960\", {\"width\": 960.0, \"height\": 720.0, \"id\": \"el105264556708328\", \"data\": {\"data01\": [[0.0, 100.0], [1.0, 36.787944117144235], [2.0, 13.53352832366127], [3.0, 4.978706836786395], [4.0, 1.8315638888734178], [5.0, 0.6737946999085467], [6.0, 0.24787521766663584], [7.0, 0.09118819655545163], [8.0, 0.033546262790251184], [9.0, 0.012340980408667957], [10.0, 0.004539992976248485], [11.0, 0.0016701700790245659], [12.0, 0.000614421235332821], [13.0, 0.00022603294069810544], [14.0, 8.315287191035679e-05], [15.0, 3.059023205018258e-05], [16.0, 1.1253517471925912e-05], [17.0, 4.139937718785167e-06], [18.0, 1.522997974471263e-06], [19.0, 5.602796437537268e-07], [20.0, 2.061153622438558e-07], [21.0, 7.582560427911906e-08], [22.0, 2.7894680928689246e-08], [23.0, 1.026187963170189e-08]]}, \"plugins\": [{\"type\": \"reset\"}, {\"type\": \"zoom\", \"enabled\": false, \"button\": true}, {\"type\": \"boxzoom\", \"enabled\": false, \"button\": true}, {\"type\": \"tooltip\", \"labels\": [\"100.0% remaining\", \"36.787944117144235% remaining\", \"13.53352832366127% remaining\", \"4.978706836786395% remaining\", \"1.8315638888734178% remaining\", \"0.6737946999085467% remaining\", \"0.24787521766663584% remaining\", \"0.09118819655545163% remaining\", \"0.033546262790251184% remaining\", \"0.012340980408667957% remaining\", \"0.004539992976248485% remaining\", \"0.0016701700790245659% remaining\", \"0.000614421235332821% remaining\", \"0.00022603294069810544% remaining\", \"8.315287191035679e-05% remaining\", \"3.059023205018258e-05% remaining\", \"1.1253517471925912e-05% remaining\", \"4.139937718785167e-06% remaining\", \"1.522997974471263e-06% remaining\", \"5.602796437537268e-07% remaining\", \"2.061153622438558e-07% remaining\", \"7.582560427911906e-08% remaining\", \"2.7894680928689246e-08% remaining\", \"1.026187963170189e-08% remaining\"], \"hoffset\": 0, \"voffset\": 10, \"id\": \"el105264542438088\", \"location\": \"mouse\"}], \"axes\": [{\"collections\": [{\"paths\": [[[[0.0, -0.5], [0.13260155, -0.5], [0.25978993539242673, -0.44731684579412084], [0.3535533905932738, -0.3535533905932738], [0.44731684579412084, -0.25978993539242673], [0.5, -0.13260155], [0.5, 0.0], [0.5, 0.13260155], [0.44731684579412084, 0.25978993539242673], [0.3535533905932738, 0.3535533905932738], [0.25978993539242673, 0.44731684579412084], [0.13260155, 0.5], [0.0, 0.5], [-0.13260155, 0.5], [-0.25978993539242673, 0.44731684579412084], [-0.3535533905932738, 0.3535533905932738], [-0.44731684579412084, 0.25978993539242673], [-0.5, 0.13260155], [-0.5, 0.0], [-0.5, -0.13260155], [-0.44731684579412084, -0.25978993539242673], [-0.3535533905932738, -0.3535533905932738], [-0.25978993539242673, -0.44731684579412084], [-0.13260155, -0.5], [0.0, -0.5]], [\"M\", \"C\", \"C\", \"C\", \"C\", \"C\", \"C\", \"C\", \"C\", \"Z\"]]], \"yindex\": 1, \"edgecolors\": [\"#0000FF\"], \"pathcoordinates\": \"display\", \"id\": \"el105264542438088\", \"zorder\": 1, \"xindex\": 0, \"facecolors\": [\"#0000FF\"], \"offsets\": \"data01\", \"alphas\": [0.4], \"pathtransforms\": [[49.69039949999532, 0.0, 0.0, 49.69039949999532, 0.0, 0.0], [30.138750790116475, 0.0, 0.0, 30.138750790116475, 0.0, 0.0], [18.280076399644, 0.0, 0.0, 18.280076399644, 0.0, 0.0], [11.087426798273416, 0.0, 0.0, 11.087426798273416, 0.0, 0.0], [6.724864290472305, 0.0, 0.0, 6.724864290472305, 0.0, 0.0], [4.078836374578097, 0.0, 0.0, 4.078836374578097, 0.0, 0.0], [2.47393931713274, 0.0, 0.0, 2.47393931713274, 0.0, 0.0], [1.5005200461095423, 0.0, 0.0, 1.5005200461095423, 0.0, 0.0], [0.9101114134788519, 0.0, 0.0, 0.9101114134788519, 0.0, 0.0], [0.5520104760293253, 0.0, 0.0, 0.5520104760293253, 0.0, 0.0], [0.3348112781943515, 0.0, 0.0, 0.3348112781943515, 0.0, 0.0], [0.20307330544245009, 0.0, 0.0, 0.20307330544245009, 0.0, 0.0], [0.12317018592003433, 0.0, 0.0, 0.12317018592003433, 0.0, 0.0], [0.07470649412300615, 0.0, 0.0, 0.07470649412300615, 0.0, 0.0], [0.04531177916524489, 0.0, 0.0, 0.04531177916524489, 0.0, 0.0], [0.02748298330984914, 0.0, 0.0, 0.02748298330984914, 0.0, 0.0], [0.016669271997794097, 0.0, 0.0, 0.016669271997794097, 0.0, 0.0], [0.01011042454175138, 0.0, 0.0, 0.01011042454175138, 0.0, 0.0], [0.0061322824672832635, 0.0, 0.0, 0.0061322824672832635, 0.0, 0.0], [0.003719417330425533, 0.0, 0.0, 0.003719417330425533, 0.0, 0.0], [0.0022559406471696, 0.0, 0.0, 0.0022559406471696, 0.0, 0.0], [0.0013682971690003227, 0.0, 0.0, 0.0013682971690003227, 0.0, 0.0], [0.0008299141845966944, 0.0, 0.0, 0.0008299141845966944, 0.0, 0.0], [0.0005033683978883053, 0.0, 0.0, 0.0005033683978883053, 0.0, 0.0]], \"offsetcoordinates\": \"data\", \"edgewidths\": [1.0]}], \"texts\": [{\"position\": [0.5, -0.05197132616487454], \"fontsize\": 18.0, \"color\": \"#000000\", \"v_baseline\": \"hanging\", \"id\": \"el105264571913240\", \"coordinates\": \"axes\", \"zorder\": 3, \"alpha\": 1, \"h_anchor\": \"middle\", \"text\": \"Time\", \"rotation\": -0.0}, {\"position\": [-0.07022849462365593, 0.5], \"fontsize\": 18.0, \"color\": \"#000000\", \"v_baseline\": \"auto\", \"id\": \"el105264542556984\", \"coordinates\": \"axes\", \"zorder\": 3, \"alpha\": 1, \"h_anchor\": \"middle\", \"text\": \"N_i(t)\", \"rotation\": -90.0}, {\"position\": [0.5, 1.0099561927518916], \"fontsize\": 21.599999999999998, \"color\": \"#000000\", \"v_baseline\": \"auto\", \"id\": \"el105264571592408\", \"coordinates\": \"axes\", \"zorder\": 3, \"alpha\": 1, \"h_anchor\": \"middle\", \"text\": \"N_i\", \"rotation\": -0.0}], \"bbox\": [0.125, 0.125, 0.775, 0.775], \"zoomable\": true, \"axesbgalpha\": null, \"xlim\": [-5.0, 25.0], \"yscale\": \"linear\", \"lines\": [{\"linewidth\": 1.0, \"xindex\": 0, \"dasharray\": \"10,0\", \"yindex\": 1, \"alpha\": 1, \"id\": \"el105264571712592\", \"data\": \"data01\", \"coordinates\": \"data\", \"color\": \"#FF0000\", \"zorder\": 2}], \"axes\": [{\"position\": \"bottom\", \"nticks\": 7, \"tickformat\": null, \"tickvalues\": null, \"scale\": \"linear\", \"fontsize\": 18.0, \"grid\": {\"gridOn\": false}}, {\"position\": \"left\", \"nticks\": 8, \"tickformat\": null, \"tickvalues\": null, \"scale\": \"linear\", \"fontsize\": 18.0, \"grid\": {\"gridOn\": false}}], \"paths\": [], \"id\": \"el105264542678744\", \"sharex\": [], \"axesbg\": \"#FFFFFF\", \"images\": [], \"xscale\": \"linear\", \"xdomain\": [-5.0, 25.0], \"ydomain\": [-20.0, 120.0], \"sharey\": [], \"ylim\": [-20.0, 120.0], \"markers\": []}]});\n",
       "      });\n",
       "    });\n",
       "}else{\n",
       "    // require.js not available: dynamically load d3 & mpld3\n",
       "    mpld3_load_lib(\"https://mpld3.github.io/js/d3.v3.min.js\", function(){\n",
       "         mpld3_load_lib(\"https://mpld3.github.io/js/mpld3.v0.2.js\", function(){\n",
       "                 \n",
       "                 mpld3.draw_figure(\"fig_el1052645567083289529607960\", {\"width\": 960.0, \"height\": 720.0, \"id\": \"el105264556708328\", \"data\": {\"data01\": [[0.0, 100.0], [1.0, 36.787944117144235], [2.0, 13.53352832366127], [3.0, 4.978706836786395], [4.0, 1.8315638888734178], [5.0, 0.6737946999085467], [6.0, 0.24787521766663584], [7.0, 0.09118819655545163], [8.0, 0.033546262790251184], [9.0, 0.012340980408667957], [10.0, 0.004539992976248485], [11.0, 0.0016701700790245659], [12.0, 0.000614421235332821], [13.0, 0.00022603294069810544], [14.0, 8.315287191035679e-05], [15.0, 3.059023205018258e-05], [16.0, 1.1253517471925912e-05], [17.0, 4.139937718785167e-06], [18.0, 1.522997974471263e-06], [19.0, 5.602796437537268e-07], [20.0, 2.061153622438558e-07], [21.0, 7.582560427911906e-08], [22.0, 2.7894680928689246e-08], [23.0, 1.026187963170189e-08]]}, \"plugins\": [{\"type\": \"reset\"}, {\"type\": \"zoom\", \"enabled\": false, \"button\": true}, {\"type\": \"boxzoom\", \"enabled\": false, \"button\": true}, {\"type\": \"tooltip\", \"labels\": [\"100.0% remaining\", \"36.787944117144235% remaining\", \"13.53352832366127% remaining\", \"4.978706836786395% remaining\", \"1.8315638888734178% remaining\", \"0.6737946999085467% remaining\", \"0.24787521766663584% remaining\", \"0.09118819655545163% remaining\", \"0.033546262790251184% remaining\", \"0.012340980408667957% remaining\", \"0.004539992976248485% remaining\", \"0.0016701700790245659% remaining\", \"0.000614421235332821% remaining\", \"0.00022603294069810544% remaining\", \"8.315287191035679e-05% remaining\", \"3.059023205018258e-05% remaining\", \"1.1253517471925912e-05% remaining\", \"4.139937718785167e-06% remaining\", \"1.522997974471263e-06% remaining\", \"5.602796437537268e-07% remaining\", \"2.061153622438558e-07% remaining\", \"7.582560427911906e-08% remaining\", \"2.7894680928689246e-08% remaining\", \"1.026187963170189e-08% remaining\"], \"hoffset\": 0, \"voffset\": 10, \"id\": \"el105264542438088\", \"location\": \"mouse\"}], \"axes\": [{\"collections\": [{\"paths\": [[[[0.0, -0.5], [0.13260155, -0.5], [0.25978993539242673, -0.44731684579412084], [0.3535533905932738, -0.3535533905932738], [0.44731684579412084, -0.25978993539242673], [0.5, -0.13260155], [0.5, 0.0], [0.5, 0.13260155], [0.44731684579412084, 0.25978993539242673], [0.3535533905932738, 0.3535533905932738], [0.25978993539242673, 0.44731684579412084], [0.13260155, 0.5], [0.0, 0.5], [-0.13260155, 0.5], [-0.25978993539242673, 0.44731684579412084], [-0.3535533905932738, 0.3535533905932738], [-0.44731684579412084, 0.25978993539242673], [-0.5, 0.13260155], [-0.5, 0.0], [-0.5, -0.13260155], [-0.44731684579412084, -0.25978993539242673], [-0.3535533905932738, -0.3535533905932738], [-0.25978993539242673, -0.44731684579412084], [-0.13260155, -0.5], [0.0, -0.5]], [\"M\", \"C\", \"C\", \"C\", \"C\", \"C\", \"C\", \"C\", \"C\", \"Z\"]]], \"yindex\": 1, \"edgecolors\": [\"#0000FF\"], \"pathcoordinates\": \"display\", \"id\": \"el105264542438088\", \"zorder\": 1, \"xindex\": 0, \"facecolors\": [\"#0000FF\"], \"offsets\": \"data01\", \"alphas\": [0.4], \"pathtransforms\": [[49.69039949999532, 0.0, 0.0, 49.69039949999532, 0.0, 0.0], [30.138750790116475, 0.0, 0.0, 30.138750790116475, 0.0, 0.0], [18.280076399644, 0.0, 0.0, 18.280076399644, 0.0, 0.0], [11.087426798273416, 0.0, 0.0, 11.087426798273416, 0.0, 0.0], [6.724864290472305, 0.0, 0.0, 6.724864290472305, 0.0, 0.0], [4.078836374578097, 0.0, 0.0, 4.078836374578097, 0.0, 0.0], [2.47393931713274, 0.0, 0.0, 2.47393931713274, 0.0, 0.0], [1.5005200461095423, 0.0, 0.0, 1.5005200461095423, 0.0, 0.0], [0.9101114134788519, 0.0, 0.0, 0.9101114134788519, 0.0, 0.0], [0.5520104760293253, 0.0, 0.0, 0.5520104760293253, 0.0, 0.0], [0.3348112781943515, 0.0, 0.0, 0.3348112781943515, 0.0, 0.0], [0.20307330544245009, 0.0, 0.0, 0.20307330544245009, 0.0, 0.0], [0.12317018592003433, 0.0, 0.0, 0.12317018592003433, 0.0, 0.0], [0.07470649412300615, 0.0, 0.0, 0.07470649412300615, 0.0, 0.0], [0.04531177916524489, 0.0, 0.0, 0.04531177916524489, 0.0, 0.0], [0.02748298330984914, 0.0, 0.0, 0.02748298330984914, 0.0, 0.0], [0.016669271997794097, 0.0, 0.0, 0.016669271997794097, 0.0, 0.0], [0.01011042454175138, 0.0, 0.0, 0.01011042454175138, 0.0, 0.0], [0.0061322824672832635, 0.0, 0.0, 0.0061322824672832635, 0.0, 0.0], [0.003719417330425533, 0.0, 0.0, 0.003719417330425533, 0.0, 0.0], [0.0022559406471696, 0.0, 0.0, 0.0022559406471696, 0.0, 0.0], [0.0013682971690003227, 0.0, 0.0, 0.0013682971690003227, 0.0, 0.0], [0.0008299141845966944, 0.0, 0.0, 0.0008299141845966944, 0.0, 0.0], [0.0005033683978883053, 0.0, 0.0, 0.0005033683978883053, 0.0, 0.0]], \"offsetcoordinates\": \"data\", \"edgewidths\": [1.0]}], \"texts\": [{\"position\": [0.5, -0.05197132616487454], \"fontsize\": 18.0, \"color\": \"#000000\", \"v_baseline\": \"hanging\", \"id\": \"el105264571913240\", \"coordinates\": \"axes\", \"zorder\": 3, \"alpha\": 1, \"h_anchor\": \"middle\", \"text\": \"Time\", \"rotation\": -0.0}, {\"position\": [-0.07022849462365593, 0.5], \"fontsize\": 18.0, \"color\": \"#000000\", \"v_baseline\": \"auto\", \"id\": \"el105264542556984\", \"coordinates\": \"axes\", \"zorder\": 3, \"alpha\": 1, \"h_anchor\": \"middle\", \"text\": \"N_i(t)\", \"rotation\": -90.0}, {\"position\": [0.5, 1.0099561927518916], \"fontsize\": 21.599999999999998, \"color\": \"#000000\", \"v_baseline\": \"auto\", \"id\": \"el105264571592408\", \"coordinates\": \"axes\", \"zorder\": 3, \"alpha\": 1, \"h_anchor\": \"middle\", \"text\": \"N_i\", \"rotation\": -0.0}], \"bbox\": [0.125, 0.125, 0.775, 0.775], \"zoomable\": true, \"axesbgalpha\": null, \"xlim\": [-5.0, 25.0], \"yscale\": \"linear\", \"lines\": [{\"linewidth\": 1.0, \"xindex\": 0, \"dasharray\": \"10,0\", \"yindex\": 1, \"alpha\": 1, \"id\": \"el105264571712592\", \"data\": \"data01\", \"coordinates\": \"data\", \"color\": \"#FF0000\", \"zorder\": 2}], \"axes\": [{\"position\": \"bottom\", \"nticks\": 7, \"tickformat\": null, \"tickvalues\": null, \"scale\": \"linear\", \"fontsize\": 18.0, \"grid\": {\"gridOn\": false}}, {\"position\": \"left\", \"nticks\": 8, \"tickformat\": null, \"tickvalues\": null, \"scale\": \"linear\", \"fontsize\": 18.0, \"grid\": {\"gridOn\": false}}], \"paths\": [], \"id\": \"el105264542678744\", \"sharex\": [], \"axesbg\": \"#FFFFFF\", \"images\": [], \"xscale\": \"linear\", \"xdomain\": [-5.0, 25.0], \"ydomain\": [-20.0, 120.0], \"sharey\": [], \"ylim\": [-20.0, 120.0], \"markers\": []}]});\n",
       "            })\n",
       "         });\n",
       "}\n",
       "</script>"
      ],
      "text/plain": [
       "<IPython.core.display.HTML object>"
      ]
     },
     "execution_count": 48,
     "metadata": {},
     "output_type": "execute_result"
    }
   ],
   "source": [
    "import math\n",
    "def n_decay(t, n_initial=100, lam=1):\n",
    "    \"\"\"This function describes the decay of an isotope\"\"\"\n",
    "    return n_initial*math.exp(-lam*t)\n",
    "\n",
    "\n",
    "# This code plots the decay of an isotope\n",
    "import numpy as np\n",
    "y = np.arange(24.0)\n",
    "x = np.arange(24.0)\n",
    "for t in range(0,24):\n",
    "    x[t] = t\n",
    "    y[t] = n_decay(t)\n",
    "    \n",
    "# creates a figure and axes with matplotlib\n",
    "fig, ax = plt.subplots()\n",
    "scatter = plt.scatter(x, y, color='blue', s=y*20, alpha=0.4)    \n",
    "ax.plot(x, y, color='red')    \n",
    "\n",
    "# adds labels to the plot\n",
    "ax.set_ylabel('N_i(t)')\n",
    "ax.set_xlabel('Time')\n",
    "ax.set_title('N_i')\n",
    "\n",
    "# adds tooltips\n",
    "import mpld3\n",
    "labels = ['{0}% remaining'.format(i) for i in y]\n",
    "tooltip = mpld3.plugins.PointLabelTooltip(scatter, labels=labels)\n",
    "mpld3.plugins.connect(fig, tooltip)\n",
    "\n",
    "mpld3.display()"
   ]
  },
  {
   "cell_type": "markdown",
   "metadata": {
    "deletable": true,
    "editable": true
   },
   "source": [
    "## Half Life\n",
    "\n",
    "All dynamic processes which decay (or grow) exponentially can be characterized by their half life (or doubling time). In the case of radioactive decay\n",
    "\n",
    "\\begin{align}\n",
    "        \\tau_{1/2}&= \\mbox{half-life}\\\\\n",
    "               &=\\frac{ln(2)}{\\lambda}  \\\\\n",
    "        t &= \\mbox{time elapsed [s]}\\\\\n",
    "        \\tau_{1/2} &= 1 = \\mbox{half-life [s]} \\\\\n",
    "\\end{align}\n"
   ]
  },
  {
   "cell_type": "code",
   "execution_count": 73,
   "metadata": {
    "collapsed": false,
    "deletable": true,
    "editable": true
   },
   "outputs": [
    {
     "data": {
      "text/html": [
       "\n",
       "\n",
       "<style>\n",
       "\n",
       "</style>\n",
       "\n",
       "<div id=\"fig_el1052645494314248875563759\"></div>\n",
       "<script>\n",
       "function mpld3_load_lib(url, callback){\n",
       "  var s = document.createElement('script');\n",
       "  s.src = url;\n",
       "  s.async = true;\n",
       "  s.onreadystatechange = s.onload = callback;\n",
       "  s.onerror = function(){console.warn(\"failed to load library \" + url);};\n",
       "  document.getElementsByTagName(\"head\")[0].appendChild(s);\n",
       "}\n",
       "\n",
       "if(typeof(mpld3) !== \"undefined\" && mpld3._mpld3IsLoaded){\n",
       "   // already loaded: just create the figure\n",
       "   !function(mpld3){\n",
       "       \n",
       "       mpld3.draw_figure(\"fig_el1052645494314248875563759\", {\"width\": 960.0, \"height\": 720.0, \"id\": \"el105264549431424\", \"data\": {\"data01\": [[0.6931471805599453, 50.0], [1.3862943611198906, 25.0], [2.0794415416798357, 12.500000000000004], [2.772588722239781, 6.25], [3.4657359027997265, 3.125], [4.1588830833596715, 1.5625000000000007], [4.852030263919617, 0.7812500000000002], [5.545177444479562, 0.3906250000000001]]}, \"plugins\": [{\"type\": \"reset\"}, {\"type\": \"zoom\", \"enabled\": false, \"button\": true}, {\"type\": \"boxzoom\", \"enabled\": false, \"button\": true}, {\"type\": \"tooltip\", \"labels\": [\"50.0% remaining\", \"25.0% remaining\", \"12.500000000000004% remaining\", \"6.25% remaining\", \"3.125% remaining\", \"1.5625000000000007% remaining\", \"0.7812500000000002% remaining\", \"0.3906250000000001% remaining\"], \"hoffset\": 0, \"voffset\": 10, \"id\": \"el105264545631344\", \"location\": \"mouse\"}], \"axes\": [{\"collections\": [{\"paths\": [[[[0.0, -0.5], [0.13260155, -0.5], [0.25978993539242673, -0.44731684579412084], [0.3535533905932738, -0.3535533905932738], [0.44731684579412084, -0.25978993539242673], [0.5, -0.13260155], [0.5, 0.0], [0.5, 0.13260155], [0.44731684579412084, 0.25978993539242673], [0.3535533905932738, 0.3535533905932738], [0.25978993539242673, 0.44731684579412084], [0.13260155, 0.5], [0.0, 0.5], [-0.13260155, 0.5], [-0.25978993539242673, 0.44731684579412084], [-0.3535533905932738, 0.3535533905932738], [-0.44731684579412084, 0.25978993539242673], [-0.5, 0.13260155], [-0.5, 0.0], [-0.5, -0.13260155], [-0.44731684579412084, -0.25978993539242673], [-0.3535533905932738, -0.3535533905932738], [-0.25978993539242673, -0.44731684579412084], [-0.13260155, -0.5], [0.0, -0.5]], [\"M\", \"C\", \"C\", \"C\", \"C\", \"C\", \"C\", \"C\", \"C\", \"Z\"]]], \"yindex\": 1, \"edgecolors\": [\"#0000FF\"], \"pathcoordinates\": \"display\", \"id\": \"el105264545631344\", \"zorder\": 1, \"xindex\": 0, \"facecolors\": [\"#0000FF\"], \"offsets\": \"data01\", \"alphas\": [0.4], \"pathtransforms\": [[35.136418446315325, 0.0, 0.0, 35.136418446315325, 0.0, 0.0], [24.84519974999766, 0.0, 0.0, 24.84519974999766, 0.0, 0.0], [17.568209223157666, 0.0, 0.0, 17.568209223157666, 0.0, 0.0], [12.42259987499883, 0.0, 0.0, 12.42259987499883, 0.0, 0.0], [8.784104611578831, 0.0, 0.0, 8.784104611578831, 0.0, 0.0], [6.211299937499417, 0.0, 0.0, 6.211299937499417, 0.0, 0.0], [4.3920523057894165, 0.0, 0.0, 4.3920523057894165, 0.0, 0.0], [3.1056499687497077, 0.0, 0.0, 3.1056499687497077, 0.0, 0.0]], \"offsetcoordinates\": \"data\", \"edgewidths\": [1.0]}], \"texts\": [{\"position\": [0.5, -0.05197132616487454], \"fontsize\": 18.0, \"color\": \"#000000\", \"v_baseline\": \"hanging\", \"id\": \"el105264574970880\", \"coordinates\": \"axes\", \"zorder\": 3, \"alpha\": 1, \"h_anchor\": \"middle\", \"text\": \"Time\", \"rotation\": -0.0}, {\"position\": [-0.07022849462365593, 0.5], \"fontsize\": 18.0, \"color\": \"#000000\", \"v_baseline\": \"auto\", \"id\": \"el105264575079112\", \"coordinates\": \"axes\", \"zorder\": 3, \"alpha\": 1, \"h_anchor\": \"middle\", \"text\": \"N_i(t)\", \"rotation\": -90.0}, {\"position\": [0.5, 1.0099561927518916], \"fontsize\": 21.599999999999998, \"color\": \"#000000\", \"v_baseline\": \"auto\", \"id\": \"el105264574960272\", \"coordinates\": \"axes\", \"zorder\": 3, \"alpha\": 1, \"h_anchor\": \"middle\", \"text\": \"N_i\", \"rotation\": -0.0}], \"bbox\": [0.125, 0.125, 0.775, 0.775], \"zoomable\": true, \"axesbgalpha\": null, \"xlim\": [0.0, 6.0], \"yscale\": \"linear\", \"lines\": [{\"linewidth\": 1.0, \"xindex\": 0, \"dasharray\": \"10,0\", \"yindex\": 1, \"alpha\": 1, \"id\": \"el105264577968024\", \"data\": \"data01\", \"coordinates\": \"data\", \"color\": \"#FF0000\", \"zorder\": 2}], \"axes\": [{\"position\": \"bottom\", \"nticks\": 7, \"tickformat\": null, \"tickvalues\": null, \"scale\": \"linear\", \"fontsize\": 18.0, \"grid\": {\"gridOn\": false}}, {\"position\": \"left\", \"nticks\": 8, \"tickformat\": null, \"tickvalues\": null, \"scale\": \"linear\", \"fontsize\": 18.0, \"grid\": {\"gridOn\": false}}], \"paths\": [], \"id\": \"el105264575036248\", \"sharex\": [], \"axesbg\": \"#FFFFFF\", \"images\": [], \"xscale\": \"linear\", \"xdomain\": [0.0, 6.0], \"ydomain\": [-10.0, 60.0], \"sharey\": [], \"ylim\": [-10.0, 60.0], \"markers\": []}]});\n",
       "   }(mpld3);\n",
       "}else if(typeof define === \"function\" && define.amd){\n",
       "   // require.js is available: use it to load d3/mpld3\n",
       "   require.config({paths: {d3: \"https://mpld3.github.io/js/d3.v3.min\"}});\n",
       "   require([\"d3\"], function(d3){\n",
       "      window.d3 = d3;\n",
       "      mpld3_load_lib(\"https://mpld3.github.io/js/mpld3.v0.2.js\", function(){\n",
       "         \n",
       "         mpld3.draw_figure(\"fig_el1052645494314248875563759\", {\"width\": 960.0, \"height\": 720.0, \"id\": \"el105264549431424\", \"data\": {\"data01\": [[0.6931471805599453, 50.0], [1.3862943611198906, 25.0], [2.0794415416798357, 12.500000000000004], [2.772588722239781, 6.25], [3.4657359027997265, 3.125], [4.1588830833596715, 1.5625000000000007], [4.852030263919617, 0.7812500000000002], [5.545177444479562, 0.3906250000000001]]}, \"plugins\": [{\"type\": \"reset\"}, {\"type\": \"zoom\", \"enabled\": false, \"button\": true}, {\"type\": \"boxzoom\", \"enabled\": false, \"button\": true}, {\"type\": \"tooltip\", \"labels\": [\"50.0% remaining\", \"25.0% remaining\", \"12.500000000000004% remaining\", \"6.25% remaining\", \"3.125% remaining\", \"1.5625000000000007% remaining\", \"0.7812500000000002% remaining\", \"0.3906250000000001% remaining\"], \"hoffset\": 0, \"voffset\": 10, \"id\": \"el105264545631344\", \"location\": \"mouse\"}], \"axes\": [{\"collections\": [{\"paths\": [[[[0.0, -0.5], [0.13260155, -0.5], [0.25978993539242673, -0.44731684579412084], [0.3535533905932738, -0.3535533905932738], [0.44731684579412084, -0.25978993539242673], [0.5, -0.13260155], [0.5, 0.0], [0.5, 0.13260155], [0.44731684579412084, 0.25978993539242673], [0.3535533905932738, 0.3535533905932738], [0.25978993539242673, 0.44731684579412084], [0.13260155, 0.5], [0.0, 0.5], [-0.13260155, 0.5], [-0.25978993539242673, 0.44731684579412084], [-0.3535533905932738, 0.3535533905932738], [-0.44731684579412084, 0.25978993539242673], [-0.5, 0.13260155], [-0.5, 0.0], [-0.5, -0.13260155], [-0.44731684579412084, -0.25978993539242673], [-0.3535533905932738, -0.3535533905932738], [-0.25978993539242673, -0.44731684579412084], [-0.13260155, -0.5], [0.0, -0.5]], [\"M\", \"C\", \"C\", \"C\", \"C\", \"C\", \"C\", \"C\", \"C\", \"Z\"]]], \"yindex\": 1, \"edgecolors\": [\"#0000FF\"], \"pathcoordinates\": \"display\", \"id\": \"el105264545631344\", \"zorder\": 1, \"xindex\": 0, \"facecolors\": [\"#0000FF\"], \"offsets\": \"data01\", \"alphas\": [0.4], \"pathtransforms\": [[35.136418446315325, 0.0, 0.0, 35.136418446315325, 0.0, 0.0], [24.84519974999766, 0.0, 0.0, 24.84519974999766, 0.0, 0.0], [17.568209223157666, 0.0, 0.0, 17.568209223157666, 0.0, 0.0], [12.42259987499883, 0.0, 0.0, 12.42259987499883, 0.0, 0.0], [8.784104611578831, 0.0, 0.0, 8.784104611578831, 0.0, 0.0], [6.211299937499417, 0.0, 0.0, 6.211299937499417, 0.0, 0.0], [4.3920523057894165, 0.0, 0.0, 4.3920523057894165, 0.0, 0.0], [3.1056499687497077, 0.0, 0.0, 3.1056499687497077, 0.0, 0.0]], \"offsetcoordinates\": \"data\", \"edgewidths\": [1.0]}], \"texts\": [{\"position\": [0.5, -0.05197132616487454], \"fontsize\": 18.0, \"color\": \"#000000\", \"v_baseline\": \"hanging\", \"id\": \"el105264574970880\", \"coordinates\": \"axes\", \"zorder\": 3, \"alpha\": 1, \"h_anchor\": \"middle\", \"text\": \"Time\", \"rotation\": -0.0}, {\"position\": [-0.07022849462365593, 0.5], \"fontsize\": 18.0, \"color\": \"#000000\", \"v_baseline\": \"auto\", \"id\": \"el105264575079112\", \"coordinates\": \"axes\", \"zorder\": 3, \"alpha\": 1, \"h_anchor\": \"middle\", \"text\": \"N_i(t)\", \"rotation\": -90.0}, {\"position\": [0.5, 1.0099561927518916], \"fontsize\": 21.599999999999998, \"color\": \"#000000\", \"v_baseline\": \"auto\", \"id\": \"el105264574960272\", \"coordinates\": \"axes\", \"zorder\": 3, \"alpha\": 1, \"h_anchor\": \"middle\", \"text\": \"N_i\", \"rotation\": -0.0}], \"bbox\": [0.125, 0.125, 0.775, 0.775], \"zoomable\": true, \"axesbgalpha\": null, \"xlim\": [0.0, 6.0], \"yscale\": \"linear\", \"lines\": [{\"linewidth\": 1.0, \"xindex\": 0, \"dasharray\": \"10,0\", \"yindex\": 1, \"alpha\": 1, \"id\": \"el105264577968024\", \"data\": \"data01\", \"coordinates\": \"data\", \"color\": \"#FF0000\", \"zorder\": 2}], \"axes\": [{\"position\": \"bottom\", \"nticks\": 7, \"tickformat\": null, \"tickvalues\": null, \"scale\": \"linear\", \"fontsize\": 18.0, \"grid\": {\"gridOn\": false}}, {\"position\": \"left\", \"nticks\": 8, \"tickformat\": null, \"tickvalues\": null, \"scale\": \"linear\", \"fontsize\": 18.0, \"grid\": {\"gridOn\": false}}], \"paths\": [], \"id\": \"el105264575036248\", \"sharex\": [], \"axesbg\": \"#FFFFFF\", \"images\": [], \"xscale\": \"linear\", \"xdomain\": [0.0, 6.0], \"ydomain\": [-10.0, 60.0], \"sharey\": [], \"ylim\": [-10.0, 60.0], \"markers\": []}]});\n",
       "      });\n",
       "    });\n",
       "}else{\n",
       "    // require.js not available: dynamically load d3 & mpld3\n",
       "    mpld3_load_lib(\"https://mpld3.github.io/js/d3.v3.min.js\", function(){\n",
       "         mpld3_load_lib(\"https://mpld3.github.io/js/mpld3.v0.2.js\", function(){\n",
       "                 \n",
       "                 mpld3.draw_figure(\"fig_el1052645494314248875563759\", {\"width\": 960.0, \"height\": 720.0, \"id\": \"el105264549431424\", \"data\": {\"data01\": [[0.6931471805599453, 50.0], [1.3862943611198906, 25.0], [2.0794415416798357, 12.500000000000004], [2.772588722239781, 6.25], [3.4657359027997265, 3.125], [4.1588830833596715, 1.5625000000000007], [4.852030263919617, 0.7812500000000002], [5.545177444479562, 0.3906250000000001]]}, \"plugins\": [{\"type\": \"reset\"}, {\"type\": \"zoom\", \"enabled\": false, \"button\": true}, {\"type\": \"boxzoom\", \"enabled\": false, \"button\": true}, {\"type\": \"tooltip\", \"labels\": [\"50.0% remaining\", \"25.0% remaining\", \"12.500000000000004% remaining\", \"6.25% remaining\", \"3.125% remaining\", \"1.5625000000000007% remaining\", \"0.7812500000000002% remaining\", \"0.3906250000000001% remaining\"], \"hoffset\": 0, \"voffset\": 10, \"id\": \"el105264545631344\", \"location\": \"mouse\"}], \"axes\": [{\"collections\": [{\"paths\": [[[[0.0, -0.5], [0.13260155, -0.5], [0.25978993539242673, -0.44731684579412084], [0.3535533905932738, -0.3535533905932738], [0.44731684579412084, -0.25978993539242673], [0.5, -0.13260155], [0.5, 0.0], [0.5, 0.13260155], [0.44731684579412084, 0.25978993539242673], [0.3535533905932738, 0.3535533905932738], [0.25978993539242673, 0.44731684579412084], [0.13260155, 0.5], [0.0, 0.5], [-0.13260155, 0.5], [-0.25978993539242673, 0.44731684579412084], [-0.3535533905932738, 0.3535533905932738], [-0.44731684579412084, 0.25978993539242673], [-0.5, 0.13260155], [-0.5, 0.0], [-0.5, -0.13260155], [-0.44731684579412084, -0.25978993539242673], [-0.3535533905932738, -0.3535533905932738], [-0.25978993539242673, -0.44731684579412084], [-0.13260155, -0.5], [0.0, -0.5]], [\"M\", \"C\", \"C\", \"C\", \"C\", \"C\", \"C\", \"C\", \"C\", \"Z\"]]], \"yindex\": 1, \"edgecolors\": [\"#0000FF\"], \"pathcoordinates\": \"display\", \"id\": \"el105264545631344\", \"zorder\": 1, \"xindex\": 0, \"facecolors\": [\"#0000FF\"], \"offsets\": \"data01\", \"alphas\": [0.4], \"pathtransforms\": [[35.136418446315325, 0.0, 0.0, 35.136418446315325, 0.0, 0.0], [24.84519974999766, 0.0, 0.0, 24.84519974999766, 0.0, 0.0], [17.568209223157666, 0.0, 0.0, 17.568209223157666, 0.0, 0.0], [12.42259987499883, 0.0, 0.0, 12.42259987499883, 0.0, 0.0], [8.784104611578831, 0.0, 0.0, 8.784104611578831, 0.0, 0.0], [6.211299937499417, 0.0, 0.0, 6.211299937499417, 0.0, 0.0], [4.3920523057894165, 0.0, 0.0, 4.3920523057894165, 0.0, 0.0], [3.1056499687497077, 0.0, 0.0, 3.1056499687497077, 0.0, 0.0]], \"offsetcoordinates\": \"data\", \"edgewidths\": [1.0]}], \"texts\": [{\"position\": [0.5, -0.05197132616487454], \"fontsize\": 18.0, \"color\": \"#000000\", \"v_baseline\": \"hanging\", \"id\": \"el105264574970880\", \"coordinates\": \"axes\", \"zorder\": 3, \"alpha\": 1, \"h_anchor\": \"middle\", \"text\": \"Time\", \"rotation\": -0.0}, {\"position\": [-0.07022849462365593, 0.5], \"fontsize\": 18.0, \"color\": \"#000000\", \"v_baseline\": \"auto\", \"id\": \"el105264575079112\", \"coordinates\": \"axes\", \"zorder\": 3, \"alpha\": 1, \"h_anchor\": \"middle\", \"text\": \"N_i(t)\", \"rotation\": -90.0}, {\"position\": [0.5, 1.0099561927518916], \"fontsize\": 21.599999999999998, \"color\": \"#000000\", \"v_baseline\": \"auto\", \"id\": \"el105264574960272\", \"coordinates\": \"axes\", \"zorder\": 3, \"alpha\": 1, \"h_anchor\": \"middle\", \"text\": \"N_i\", \"rotation\": -0.0}], \"bbox\": [0.125, 0.125, 0.775, 0.775], \"zoomable\": true, \"axesbgalpha\": null, \"xlim\": [0.0, 6.0], \"yscale\": \"linear\", \"lines\": [{\"linewidth\": 1.0, \"xindex\": 0, \"dasharray\": \"10,0\", \"yindex\": 1, \"alpha\": 1, \"id\": \"el105264577968024\", \"data\": \"data01\", \"coordinates\": \"data\", \"color\": \"#FF0000\", \"zorder\": 2}], \"axes\": [{\"position\": \"bottom\", \"nticks\": 7, \"tickformat\": null, \"tickvalues\": null, \"scale\": \"linear\", \"fontsize\": 18.0, \"grid\": {\"gridOn\": false}}, {\"position\": \"left\", \"nticks\": 8, \"tickformat\": null, \"tickvalues\": null, \"scale\": \"linear\", \"fontsize\": 18.0, \"grid\": {\"gridOn\": false}}], \"paths\": [], \"id\": \"el105264575036248\", \"sharex\": [], \"axesbg\": \"#FFFFFF\", \"images\": [], \"xscale\": \"linear\", \"xdomain\": [0.0, 6.0], \"ydomain\": [-10.0, 60.0], \"sharey\": [], \"ylim\": [-10.0, 60.0], \"markers\": []}]});\n",
       "            })\n",
       "         });\n",
       "}\n",
       "</script>"
      ],
      "text/plain": [
       "<IPython.core.display.HTML object>"
      ]
     },
     "execution_count": 73,
     "metadata": {},
     "output_type": "execute_result"
    }
   ],
   "source": [
    "# This code converts decay constant to half life\n",
    "\n",
    "def half_life(lam):\n",
    "    return math.log(2)/lam \n",
    "lam = 1.0\n",
    "\n",
    "# This code plots the decay of an isotope for various half lives\n",
    "import numpy as np\n",
    "y = np.arange(8.0)\n",
    "x = np.arange(8.0)\n",
    "\n",
    "lives = np.arange(half_life(lam), 9*half_life(lam), half_life(lam))\n",
    "for i, t in enumerate(lives):\n",
    "    x[i] = float(t)\n",
    "    y[i] = n_decay(t)\n",
    "    \n",
    "# creates a figure and axes with matplotlib\n",
    "fig, ax = plt.subplots()\n",
    "scatter = plt.scatter(x, y, color='blue', s=y*20, alpha=0.4)    \n",
    "ax.plot(x, y, color='red')    \n",
    "\n",
    "# adds labels to the plot\n",
    "ax.set_ylabel('N_i(t)')\n",
    "ax.set_xlabel('Time')\n",
    "ax.set_title('N_i')\n",
    "\n",
    "# adds tooltips\n",
    "import mpld3\n",
    "labels = ['{0}% remaining'.format(i) for i in y]\n",
    "tooltip = mpld3.plugins.PointLabelTooltip(scatter, labels=labels)\n",
    "mpld3.plugins.connect(fig, tooltip)\n",
    "\n",
    "mpld3.display()"
   ]
  },
  {
   "cell_type": "markdown",
   "metadata": {
    "collapsed": true,
    "deletable": true,
    "editable": true
   },
   "source": [
    "After n half lives, only $\\frac{1}{2^n}$ of the original sample remain.\n",
    "\\begin{align}\n",
    "N(n\\tau_{1/2})= \\frac{1}{2^n}N_0\n",
    "\\end{align}\n",
    "\n",
    "In a sample, $N_0$ has has been reduced to a fraction of $N_0$, $\\epsilon$. How many half lives have passed?\n",
    "\n",
    "\\begin{align}\n",
    "n = \\frac{-ln\\epsilon}{ln2}\n",
    "\\end{align}\n",
    "\n",
    "Finally, the radioactive decay law can be expressed using the half-life:\n",
    "\n",
    "\\begin{align}\n",
    "N(t) = N_0\\left(\\frac{1}{2}\\right)^{t/\\tau_{1/2}}\n",
    "\\end{align}"
   ]
  },
  {
   "cell_type": "markdown",
   "metadata": {
    "deletable": true,
    "editable": true
   },
   "source": [
    "## Decay by competing processes\n",
    "\n",
    "\\begin{align}\n",
    "\\frac{dN(t)}{dt} &= -\\lambda_1N(t) - \\lambda_2N(t) - \\cdots \\lambda_nN(t)\\\\\n",
    " &= -\\sum_{i=1}^n \\lambda_iN(t)\\\\\n",
    " &\\equiv\\lambda N(t)\n",
    "\\end{align}\n",
    "\n",
    "A nuclide will decay by the $i^{th}$ mode with probability $f_i$.\n",
    "\n",
    "\\begin{align}\n",
    "f_i &= \\frac{\\mbox{decay rate by ith mode}}{\\mbox{decay rate by all modes}}\\\\\n",
    "    &=\\frac{\\lambda_i}{\\lambda}\n",
    "\\end{align}"
   ]
  },
  {
   "cell_type": "markdown",
   "metadata": {
    "deletable": true,
    "editable": true
   },
   "source": [
    "## Decay with Production\n",
    "\n",
    "In reactors, isotopes decay into one another and still others are born from fission. Thus, if there is production, we can rewrite the standard decay differential equation as:\n",
    "\n",
    "\n",
    "\\begin{align}\n",
    "\\frac{dN(t)}{dt} &= -\\mbox{rate of decay} + \\mbox{rate of production}\\\\\n",
    "\\implies N(t) &= N_0 e^{-\\lambda t} + \\int_0^t dt'Q(t')e^{-\\lambda (t-t')}\\\\\n",
    "\\end{align}\n",
    "\n",
    "If the production rate is constant, this simplifies:\n",
    "\n",
    "\n",
    "\\begin{align}\n",
    "N(t) &= N_0 e^{-\\lambda t} + \\frac{Q_0}{\\lambda}\\left[1-e^{-\\lambda t}\\right]\\\\\n",
    "\\end{align}\n",
    "\n",
    "### Fuel Depletion\n",
    "\n",
    "Decays, fissions, and absorptions compete throughout the life of the reactor.\n",
    "\n",
    "![./fuel_comp.png](./fuel_comp.png)\n",
    "\n",
    "#### Aside: Reaction Rates\n",
    "\n",
    "In a reactor, this Q can be characterized via reaction rates.\n",
    "\n",
    "- The microscopic cross section $\\sigma_{i,j}$ is just the likelihood of the event per unit area.\n",
    "- The macroscopic cross section $\\Sigma_{i,j}$is just the likelihood of the event per unit area of a certain density of target isotopes.\n",
    "- The reaction rate is the macroscopic cross section times the flux of incident neutrons.\n",
    "\n",
    "\\begin{align}\n",
    "R_{i,j}(\\vec{r}) &= N_j(\\vec{r})\\int dE \\phi(\\vec{r},E)\\sigma_{i,j}(E)\\\\\n",
    "R_{i,j}(\\vec{r}) &= \\mbox{reactions of type i involving isotope j } [reactions/cm^2s]\\\\\n",
    "N_j(\\vec{r}) &= \\mbox{number of nuclei participating in the reactions }\\\\\n",
    "E &= \\mbox{energy}\\\\\n",
    "\\phi(\\vec{r},E)&= \\mbox{flux of neutrons with energy E at position i}\\\\\n",
    "\\sigma_{i,j}(E)&= \\mbox{cross section}\\\\\n",
    "\\end{align}\n",
    "\n",
    "\n",
    "We said this can be written more simply as $R_x = \\sigma_x I N$, where I is intensity of the neutron flux. In the notation of the above equation, we can describe the production of an isotope by neutron absorption by another isotope as :\n",
    "\n",
    "\\begin{align}\n",
    "\\mbox{isotope i production via neutron absorption in m} = f_{im}\\sigma_{am}N_m  \\phi\n",
    "\\end{align}\n",
    "\n",
    "\n",
    "### Total composition evolution\n",
    "\n",
    "\\begin{align}\n",
    "\\frac{dN_i}{dt} &= \\sum_{m=1}^{M}l_{im}\\lambda_mN_m + \\phi\\sum_{m=1}^{M}f_{im}\\sigma_mN_m - (\\lambda_i + \\phi\\sigma_i + r_i - c_i)N_i + F_i\\Big|_{i\\in [1,M]}\\\\\n",
    "\\end{align}\n",
    "\\begin{align}\n",
    "N_i &= \\mbox{atom density of nuclide i}\\\\\n",
    "M &= \\mbox{number of nuclides}\\\\\n",
    "l_{im} &= \\mbox{fraction of decays of nuclide m that result in formation of nuclide i}\\\\\n",
    "\\lambda_i &= \\mbox{radioactive decay constant of nuclide i}\\\\\n",
    "\\phi &= \\mbox{neutron flux, averaged over position and energy}\\\\\n",
    "f_{im} &= \\mbox{fraction of neutron absorption by nuclide m leading to the formation of nuclide i}\\\\\n",
    "\\sigma_m &= \\mbox{average neutron absorption cross section of nuclide m}\\\\\n",
    "r_i &= \\mbox{continuous removal rate of nuclide i from the system}\\\\\n",
    "c_i &= \\mbox{continuous feed rate of nuclide i}\\\\\n",
    "F_i &= \\mbox{production rate of nuclide i directly from fission}\\\\\n",
    "\\end{align}\n",
    "\n",
    "\n",
    "![./u_conc_bu.png](./u_conc_bu.png)\n",
    "\n",
    "![./pu_conc_bu.png](./pu_conc_bu.png)\n"
   ]
  },
  {
   "cell_type": "markdown",
   "metadata": {
    "collapsed": true,
    "deletable": true,
    "editable": true
   },
   "source": [
    "### Example: $^{135}Xe$\n",
    "\n",
    "**Discussion: What is interesting about Xenon?**\n",
    "    \n",
    "    \n",
    "$^{135}Xe$ is produced directly by fission and from the decay of iodine.\n",
    "\n",
    "\\begin{align}\n",
    "\\frac{dN_{xe}}{dt} &= \\sum_{m=1}^{M}l_{Xem}\\lambda_mN_m + \\phi\\sum_{m=1}^{M}f_{Xem}\\sigma_mN_m - (\\lambda_{Xe} + \\phi\\sigma_{Xe} + r_{Xe} - c_{Xe})N_{Xe} + F_{Xe}\\\\\n",
    " &= -\\lambda_{Xe}N_{Xe}  - \\sigma_{aXe}\\phi N_{Xe} + \\lambda_IN_I + F_{Xe}\\\\\n",
    " &= -\\lambda_{Xe}N_{Xe}  - \\sigma_{aXe}\\phi N_{Xe} + \\lambda_IN_I + \\gamma_{Xe}\\Sigma_f\\phi\\\\\n",
    " \\gamma_{Xe} &= 0.003\\\\\n",
    " \\gamma_{I} &= 0.061\\\\\n",
    "\\end{align}"
   ]
  },
  {
   "cell_type": "markdown",
   "metadata": {},
   "source": [
    "### Example: $^{239}Pu$    \n",
    "\n",
    "\n",
    "\\begin{align}\n",
    "\\frac{dN_{Pu}}{dt} &= \\sum_{m=1}^{M}l_{Pum}\\lambda_mN_m + \\phi\\sum_{m=1}^{M}f_{Pum}\\sigma_mN_m - (\\lambda_{Pu} + \\phi\\sigma_{Pu} + r_{Pu} - c_{Pu})N_{Pu} + F_{Pu}\\\\\n",
    "\\end{align}\n",
    "\n",
    "\n",
    "Let's formulate this equation together.\n",
    "\n",
    "\n",
    "$$\\mathrm{^{238}_{\\ 92}U \\ + \\ ^{1}_{0}n \\ \\longrightarrow \\ ^{239}_{\\ 92}U \\ \\xrightarrow [23.5\\ min]{\\beta^-} \\ ^{239}_{\\ 93}Np \\ \\xrightarrow [2.3565\\ d]{\\beta^-} \\ ^{239}_{\\ 94}Pu}$$\n",
    "\n",
    "\n",
    "- Decay of what nuclides result in the formation of $^{239}Pu$?\n",
    "- Does $^{239}Pu$ decay?\n",
    "- Is there a nuclide that becomes  $^{239}Pu$ after it absorbs a neutron?\n",
    "- Does  $^{239}Pu$ ever absorb neutrons?\n",
    "- Is  $^{239}Pu$ ever produced directly from fission?\n"
   ]
  },
  {
   "cell_type": "markdown",
   "metadata": {},
   "source": [
    "## Burnable Poisons\n",
    "\n",
    "- Gadolinia ($Gd_2O_3$) or erbia ($Er_2O_3$) common\n",
    "- Natural Erbium consists of Er166, Er167, Er168  and Er170 primarily.  Er167 has large thermal  cross section.\n",
    "- Gd is an early life burnable poison, typically gone by 10‐20 GWd\n",
    "- Boron also used widely.\n",
    "- Can be mixed with the fuel or a coating on the pellet.\n",
    "\n"
   ]
  },
  {
   "cell_type": "markdown",
   "metadata": {},
   "source": [
    "\\begin{align}\n",
    "\\frac{dN^P(t)}{dt} &= -g(t)\\sigma_{aP}N^P(t)\\phi\\\\\n",
    "g(t) &= \\frac{\\mbox{average flux inside BP}}{\\mbox{average flux in core}}\\\\\n",
    "\\sigma_{aP} &=\\mbox{neutron absorption cross section of the BP}\\\\\n",
    "N^P(t) &= \\mbox{number of atoms of the BP at time t}\n",
    "\\end{align}\n",
    "\n",
    "![./er_conc_bu.png](./er_conc_bu.png)\n",
    "\n",
    "![./er_reactivity_bu.png](./er_reactivity_bu.png)"
   ]
  },
  {
   "cell_type": "code",
   "execution_count": null,
   "metadata": {
    "collapsed": true
   },
   "outputs": [],
   "source": []
  }
 ],
 "metadata": {
  "kernelspec": {
   "display_name": "Python 3",
   "language": "python",
   "name": "python3"
  },
  "language_info": {
   "codemirror_mode": {
    "name": "ipython",
    "version": 3
   },
   "file_extension": ".py",
   "mimetype": "text/x-python",
   "name": "python",
   "nbconvert_exporter": "python",
   "pygments_lexer": "ipython3",
   "version": "3.5.2"
  }
 },
 "nbformat": 4,
 "nbformat_minor": 0
}
