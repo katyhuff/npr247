{
 "cells": [
  {
   "cell_type": "code",
   "execution_count": 7,
   "metadata": {
    "collapsed": true,
    "deletable": true,
    "editable": true
   },
   "outputs": [],
   "source": [
    "%matplotlib inline\n",
    "\n",
    "import matplotlib\n",
    "import numpy as np\n",
    "import matplotlib.pyplot as plt\n",
    "\n",
    "plt.rcParams[\"figure.figsize\"] = (12, 9)\n",
    "plt.rcParams[\"font.size\"] = 18"
   ]
  },
  {
   "cell_type": "markdown",
   "metadata": {
    "deletable": true,
    "editable": true
   },
   "source": [
    "# Radioactivity\n",
    "\n",
    "Learning Objectives:\n",
    "\n",
    "- Explain how radioactivity was discovered\n",
    "- Explain the nuclear physical reason for radioactive decay\n",
    "- List the sources of natural and man made radiation\n",
    "- Read and understand a decay diagram\n",
    "- Calculate Q values for various types of decay\n",
    "- Describe the physics of various types of decay\n",
    "- State the radioactive decay law"
   ]
  },
  {
   "cell_type": "markdown",
   "metadata": {
    "deletable": true,
    "editable": true
   },
   "source": [
    "## Discovery of Radioactivity\n",
    "- Radioactivity was first discovered in 1896 by  Henri Becquerel, while working on phosphorescent materials.\n",
    "- These materials glow in the dark after exposure to light, and he thought that the glow produced in cathode ray tubes by X-rays might be connected with phosphorescence.\n",
    "- He wrapped a photographic plate in black paper and placed various phosphorescent minerals on it.\n",
    "- All results were negative until he used uranium salts.\n",
    "\n",
    "<a title=\"By UnknownUnknown author (http://ihm.nlm.nih.gov/images/B02617) [Public domain], via Wikimedia Commons\" href=\"https://commons.wikimedia.org/wiki/File:Becquerel_in_the_lab.jpg\"><img width=\"256\" alt=\"Becquerel in the lab\" src=\"https://upload.wikimedia.org/wikipedia/commons/thumb/b/b6/Becquerel_in_the_lab.jpg/256px-Becquerel_in_the_lab.jpg\"></a>\n",
    "<center>Becquerel in the lab</center>\n",
    "\n",
    "<a title=\"By Henri Becquerel [Public domain], via Wikimedia Commons\" href=\"https://commons.wikimedia.org/wiki/File:Becquerel_plate.jpg\"><img width=\"256\" alt=\"Becquerel plate\" src=\"https://upload.wikimedia.org/wikipedia/commons/1/1e/Becquerel_plate.jpg\"></a>\n",
    "<center>Photographic plate made by Henri Becquerel showing effects of exposure to radioactivity.</center>\n"
   ]
  },
  {
   "cell_type": "markdown",
   "metadata": {
    "deletable": true,
    "editable": true
   },
   "source": [
    "**What is nuclear decay?**\n",
    "A spontaneous process where the protons and neutrons in a given nucleus are rearranged into a lower energy state.\n",
    "The transition may involve levels of the same nucleus (gamma emission, internal conversion) or levels of a different nucleus (alpha, beta decay).\n",
    "\n",
    "**Why do nuclei decay?** A nucleus decays when it is **unstable**.  It undergoes decay in order to become more stable (lower energy state).\n",
    "\n",
    "**Where do the unstable nuclei come from?**\n"
   ]
  },
  {
   "cell_type": "markdown",
   "metadata": {
    "deletable": true,
    "editable": true
   },
   "source": [
    "## Sources of Radiation\n",
    "\n",
    "> A chart of the public's exposure to ionizing radiation (displayed below) \n",
    "> shows that people generally receive a total annual dose of about 620 millirem. \n",
    "> Of this total, natural sources of radiation account for about 50 percent, \n",
    "> while man-made sources account for the remaining 50 percent. -- US NRC\n",
    "\n",
    "![https://www.nrc.gov/images/reading-rm/basic-ref/glossary/ionizing-radiation.jpg](https://www.nrc.gov/images/reading-rm/basic-ref/glossary/ionizing-radiation.jpg)\n",
    "\n",
    "## Natural Sources\n",
    "\n",
    "\n",
    "\n",
    "### Terrestrial\n",
    "\n",
    "Uranium, thorium, radium, etc. are all present naturally inside rocks and soil and are part of the four major decay chains. Others are 'primordial.' Primoidal radioactive isotopes include about 20 isotopes that are long lived and not part of any decay chain (K-40, Rubidium-87) Potassium has a quite radioactive isotope, $^{40}K$. (bananas)\n",
    "\n",
    "<a title=\"By Offnfopt [Public domain or CC0], via Wikimedia Commons\" href=\"https://commons.wikimedia.org/wiki/File:Evolution_of_Earth%27s_radiogenic_heat.svg\"><img width=\"512\" alt=\"Evolution of Earth&#039;s radiogenic heat\" src=\"https://upload.wikimedia.org/wikipedia/commons/thumb/b/b9/Evolution_of_Earth%27s_radiogenic_heat.svg/512px-Evolution_of_Earth%27s_radiogenic_heat.svg.png\"></a>\n",
    "<center>Evolution of the earth's radiogenic heat (in the mantle).</center>\n",
    "\n",
    "### Internal\n",
    "\n",
    "Mostly $^{40}K$ and $^{14}C$ inside your body.\n",
    "\n",
    "### Cosmic\n",
    "Commonly, cosmic radiation includes $^{14}C$, tritium ($^3H$), and others.\n",
    "\n",
    "<p><a href=\"https://commons.wikimedia.org/wiki/File:Shower_detection.png#/media/File:Shower_detection.png\"><img src=\"https://upload.wikimedia.org/wikipedia/commons/2/27/Shower_detection.png\" alt=\"Shower detection.png\"></a><br><a href=\"http://creativecommons.org/licenses/by-sa/3.0/\" title=\"Creative Commons Attribution-Share Alike 3.0\">CC BY-SA 3.0</a>, <a href=\"https://commons.wikimedia.org/w/index.php?curid=44271\">Link</a></p>\n",
    "\n",
    "\n",
    "![https://astrobiology.nasa.gov/uploads/filer_public/a2/c0/a2c0db08-192f-4694-a97c-f8650e1774fe/image-of-cosmic-ray-tracks.jpg](https://astrobiology.nasa.gov/uploads/filer_public/a2/c0/a2c0db08-192f-4694-a97c-f8650e1774fe/image-of-cosmic-ray-tracks.jpg)\n",
    "\n",
    "Air showers ensuing from very-high-energy cosmic rays can enter Earth’s atmosphere from multiple directions. Credit: Simon Swordy/NASA.\n",
    "\n",
    "\n",
    "## Man-Made Radiation\n",
    "\n",
    "Of approximately 3200 known nuclides:\n",
    "- **266** are stable, \n",
    "- **65** long-lived radioactive isotopes are found in nature, \n",
    "- and the remaining **~2900** have been made by humans.\n",
    "\n",
    "One of the heaviest named elements is Livermorium (Z=116), its most stable isotope $^{293}Lv$ has half-life $t_{1/2} = 60 ms$.\n",
    "\n",
    "![decay-modes.png](./decay-modes.png)"
   ]
  },
  {
   "cell_type": "markdown",
   "metadata": {},
   "source": [
    "### Types of Decay "
   ]
  },
  {
   "cell_type": "code",
   "execution_count": 9,
   "metadata": {
    "collapsed": false
   },
   "outputs": [
    {
     "data": {
      "text/html": [
       "\n",
       "        <iframe\n",
       "            width=\"1000\"\n",
       "            height=\"1000\"\n",
       "            src=\"https://bookshelf.vitalsource.com/books/9781498769303/pageid/121\"\n",
       "            frameborder=\"0\"\n",
       "            allowfullscreen\n",
       "        ></iframe>\n",
       "        "
      ],
      "text/plain": [
       "<IPython.lib.display.IFrame at 0x10c14f5f8>"
      ]
     },
     "execution_count": 9,
     "metadata": {},
     "output_type": "execute_result"
    }
   ],
   "source": [
    "# The below IFrame displays Page 99 of your textbook:\n",
    "# Shultis, J. K. (2016). Fundamentals of Nuclear Science and Engineering Third Edition, \n",
    "# 3rd Edition. [Vitalsource]. Retrieved from https://bookshelf.vitalsource.com/#/books/9781498769303/\n",
    "\n",
    "from IPython.display import IFrame\n",
    "IFrame(\"https://bookshelf.vitalsource.com/books/9781498769303/pageid/121\", width=1000, height=1000)\n"
   ]
  },
  {
   "cell_type": "markdown",
   "metadata": {
    "deletable": true,
    "editable": true
   },
   "source": [
    "All elements smaller than Z=83 (Bismuth) have at least one stable isotope\n",
    "Exceptions: Technetium (Z=43) and Promethium (Z=61)\n",
    "\n",
    "Once nucleus gets past a certain size, it is unstable\n",
    "The larges stable nucleus is Pb-208, all isotopes larger than this are unstable\n",
    "\n",
    "Nuclear conservation laws apply. The following are conserved:\n",
    "- charge\n",
    "- number of nucleons (proton + neutron)\n",
    "- total energy (mass + energy)\n",
    "- linear momentum (in inertial frame of reference)\n",
    "- angular momentum (spin)\n",
    "  - alternatively: leptons (electrons + neutrinos)"
   ]
  },
  {
   "cell_type": "code",
   "execution_count": 10,
   "metadata": {
    "collapsed": false
   },
   "outputs": [
    {
     "data": {
      "text/html": [
       "\n",
       "        <iframe\n",
       "            width=\"1000\"\n",
       "            height=\"1000\"\n",
       "            src=\"https://bookshelf.vitalsource.com/books/9781498769303/pageid/122\"\n",
       "            frameborder=\"0\"\n",
       "            allowfullscreen\n",
       "        ></iframe>\n",
       "        "
      ],
      "text/plain": [
       "<IPython.lib.display.IFrame at 0x10c14f710>"
      ]
     },
     "execution_count": 10,
     "metadata": {},
     "output_type": "execute_result"
    }
   ],
   "source": [
    "# The below IFrame displays Page 100 of your textbook:\n",
    "# Shultis, J. K. (2016). Fundamentals of Nuclear Science and Engineering Third Edition, \n",
    "# 3rd Edition. [Vitalsource]. Retrieved from https://bookshelf.vitalsource.com/#/books/9781498769303/\n",
    "from IPython.display import IFrame\n",
    "IFrame(\"https://bookshelf.vitalsource.com/books/9781498769303/pageid/122\", width=1000, height=1000)"
   ]
  },
  {
   "cell_type": "markdown",
   "metadata": {
    "collapsed": true,
    "deletable": true,
    "editable": true
   },
   "source": [
    "## Energetics of Decay\n",
    "\n",
    "<a title=\"By User:Stannered (Traced from this PNG image.) [GFDL (http://www.gnu.org/copyleft/fdl.html), CC-BY-SA-3.0 (http://creativecommons.org/licenses/by-sa/3.0/) or CC BY 2.5 \n",
    " (https://creativecommons.org/licenses/by/2.5\n",
    ")], via Wikimedia Commons\" href=\"https://commons.wikimedia.org/wiki/File:Alfa_beta_gamma_radiation.svg\"><img width=\"256\" alt=\"Alfa beta gamma radiation\" src=\"https://upload.wikimedia.org/wikipedia/commons/thumb/d/d6/Alfa_beta_gamma_radiation.svg/256px-Alfa_beta_gamma_radiation.svg.png\"></a>\n",
    "\n",
    "\n",
    "### Alpha ($\\alpha$) Decay\n",
    "\n",
    "An $\\alpha$ particle is emitted.\n",
    "The daughter is left with 2 fewer neutrons and 2 fewer protons than the parent.\n",
    "\n",
    "\\begin{align}\n",
    "^{A}_{Z}P \\longrightarrow ^{A-4}_{Z-2}D^{2-} + ^4_2\\alpha\n",
    "\\end{align}\n",
    "\n",
    "\\begin{align}\n",
    "Q = M\\left(^{A}_{Z}P\\right)-\\left[ M\\left(^{A-4}_{Z-2}D\\right) + M\\left(^{4}_{2}He\\right)\\right]\n",
    "\\end{align}\n",
    "\n",
    "<a title=\"By Inductiveload [Public domain], from Wikimedia Commons\" href=\"https://commons.wikimedia.org/wiki/File:Alpha_Decay.svg\"><img width=\"128\" alt=\"Alpha Decay\" src=\"https://upload.wikimedia.org/wikipedia/commons/thumb/7/79/Alpha_Decay.svg/128px-Alpha_Decay.svg.png\"></a>\n",
    "\n",
    "### Gamma ($\\gamma$) Decay\n",
    "\n",
    "An excited nucleus decays to its ground state by the emission of a gamma photon.\n",
    "\n",
    "\\begin{align}\n",
    "^{A}_{Z}P^* \\longrightarrow ^{A}_{Z}P + \\gamma\n",
    "\\end{align}\n",
    "\n",
    "\n",
    "\\begin{align}\n",
    "Q = E^*\n",
    "\\end{align}\n",
    "\n",
    "<a title=\"By Inductiveload [Public domain], via Wikimedia Commons\" href=\"https://commons.wikimedia.org/wiki/File:Gamma_Decay.svg\"><img width=\"128\" alt=\"Gamma Decay\" src=\"https://upload.wikimedia.org/wikipedia/commons/thumb/c/c2/Gamma_Decay.svg/128px-Gamma_Decay.svg.png\"></a>\n",
    "\n",
    "### Negatron ($\\beta -$) Decay\n",
    "A neutron changes into a proton in the nucleus (nuclear weak force). An electron ($\\beta -$) and an antineutrino ($\\bar{\\nu}$) are emitted.\n",
    "\n",
    "\\begin{align}\n",
    "^{A}_{Z}P \\longrightarrow ^{A}_{Z+1}D^{+} + ^0_{-1}e + \\bar{\\nu}\n",
    "\\end{align}\n",
    "\n",
    "\n",
    "\\begin{align}\n",
    "Q = M\\left(^{A}_{Z}P\\right)- M\\left(^{A}_{Z+1}D\\right)\n",
    "\\end{align}\n",
    "\n",
    "<a title=\"By Inductiveload [Public domain], from Wikimedia Commons\" href=\"https://commons.wikimedia.org/wiki/File:Beta-minus_Decay.svg\"><img width=\"128\" alt=\"Beta-minus Decay\" src=\"https://upload.wikimedia.org/wikipedia/commons/thumb/a/aa/Beta-minus_Decay.svg/128px-Beta-minus_Decay.svg.png\"></a>\n",
    "\n",
    "### Positron ($\\beta +$) Decay\n",
    "\n",
    "A proton changes into a neutron in the nucleus (nuclear weak force). A positron ($\\beta +$) and a neutrino ($\\nu$) are emitted.\n",
    "\n",
    "\\begin{align}\n",
    "^{A}_{Z}P \\longrightarrow ^{A}_{Z-1}D^{-} + ^0_{+1}e + \\nu\n",
    "\\end{align}\n",
    "\n",
    "\n",
    "\\begin{align}\n",
    "Q = M\\left(^{A}_{Z}P\\right)- \\left[ M\\left(^{A}_{Z-1}D\\right) + 2m_e\\right]\n",
    "\\end{align}\n",
    "\n",
    "<a title=\"By Master-m1000 [Public domain], via Wikimedia Commons\" href=\"https://commons.wikimedia.org/wiki/File:Beta-plus_Decay.svg\"><img width=\"128\" alt=\"Beta-plus Decay\" src=\"https://upload.wikimedia.org/wikipedia/commons/thumb/3/3f/Beta-plus_Decay.svg/128px-Beta-plus_Decay.svg.png\"></a>\n",
    "\n",
    "### Electron Capture\n",
    "1. An orbital electron is absorbed by the nucleus,\n",
    "2. converts a nuclear proton into a neutron and a neutrino ($\\nu$), \n",
    "3. and typically leaves the nucleus in an excited state.\n",
    "\n",
    "\\begin{align}\n",
    "^{A}_{Z}P + \\left(^0_{-1}e\\right) \\longrightarrow ^{A}_{Z-1}D + \\nu\n",
    "\\end{align}\n",
    "\n",
    "\n",
    "\\begin{align}\n",
    "Q = M\\left(^{A}_{Z}P\\right)-  M\\left(^{A}_{Z-1}D\\right) \n",
    "\\end{align}\n",
    "\n",
    "<a title=\"By Pamputt [CC BY-SA 4.0 \n",
    " (https://creativecommons.org/licenses/by-sa/4.0\n",
    ")], from Wikimedia Commons\" href=\"https://commons.wikimedia.org/wiki/File:Atomic_rearrangement_following_an_electron_capture.svg\"><img width=\"256\" alt=\"Atomic rearrangement following an electron capture\" src=\"https://upload.wikimedia.org/wikipedia/commons/thumb/b/b1/Atomic_rearrangement_following_an_electron_capture.svg/256px-Atomic_rearrangement_following_an_electron_capture.svg.png\"></a>\n",
    "\n",
    "### Proton Emission\n",
    "A proton is ejected from the nucleus.\n",
    "\n",
    "\\begin{align}\n",
    "^{A}_{Z}P \\longrightarrow ^{A-1}_{Z-1}D^{-} + ^1_1p\n",
    "\\end{align}\n",
    "\n",
    "\\begin{align}\n",
    "Q = M\\left(^{A}_{Z}P\\right)-\\left[ M\\left(^{A-1}_{Z-1}D\\right) + M\\left(^{1}_{1}H\\right)\\right]\n",
    "\\end{align}\n",
    "\n",
    "<a title=\"By No machine-readable author provided. Abschalom~commonswiki assumed (based on copyright claims). [Public domain], via Wikimedia Commons\" href=\"https://commons.wikimedia.org/wiki/File:Zerfallsschema.png\"><img width=\"512\" alt=\"Zerfallsschema\" src=\"https://upload.wikimedia.org/wikipedia/commons/1/1f/Zerfallsschema.png\"></a>\n",
    "\n",
    "The decay of a proton rich nucleus A populates excited states of a daughter nucleus B by β+ emission or electron capture (EC). Those excited states that lie below the separation energy for protons (Sp) decay by γ emission towards the groundstate of daughter B. For the higher excited states a competitive decay channel of proton emission to the granddaughter C exists, called β-delayed proton emission.\n",
    "\n",
    "### Neutron Emission\n",
    "A neutron is ejected from the nucleus.\n",
    "\n",
    "\\begin{align}\n",
    "^{A}_{Z}P \\longrightarrow ^{A-1}_{Z}P + ^1_0n\n",
    "\\end{align}\n",
    "\n",
    "\\begin{align}\n",
    "Q = M\\left(^{A}_{Z}P\\right)-\\left[ M\\left(^{A-1}_{Z}P\\right) + m_n\\right]\n",
    "\\end{align}\n",
    "\n",
    "### Internal Conversion\n",
    "\n",
    "The excitation energy of a nucleus is used to eject an orbital electron (typically a K-shell) electron.\n",
    "\n",
    "\\begin{align}\n",
    "^{A}_{Z}P^* \\longrightarrow ^{A-1}_{Z}P^+ + ^0_{-1}e\n",
    "\\end{align}\n",
    "\n",
    "\\begin{align}\n",
    "Q = E* - BE^K_e\n",
    "\\end{align}\n",
    "\n",
    "<a title=\"By HPaul [CC BY-SA 4.0 \n",
    " (https://creativecommons.org/licenses/by-sa/4.0\n",
    ")], from Wikimedia Commons\" href=\"https://commons.wikimedia.org/wiki/File:Decay_scheme_of_203Hg.jpg\"><img width=\"512\" alt=\"Decay scheme of 203Hg\" src=\"https://upload.wikimedia.org/wikipedia/commons/thumb/d/df/Decay_scheme_of_203Hg.jpg/512px-Decay_scheme_of_203Hg.jpg\"></a>"
   ]
  },
  {
   "cell_type": "markdown",
   "metadata": {},
   "source": [
    "### An Aside on The Nuclear Weak Force\n",
    "\n",
    "Beta ($\\beta \\pm$) decay is a consequence of the **weak force**, which is characterized by long decay times (thousands of years). Nucleons are composed of up quarks and down quarks, and **the weak force allows a quark to change type** by the exchange of a W boson and the creation of an electron/antineutrino or positron/neutrino pair. For example, **a neutron, composed of two down quarks and an up quark, decays to a proton composed of a down quark and two up quarks.** "
   ]
  },
  {
   "cell_type": "markdown",
   "metadata": {
    "deletable": true,
    "editable": true
   },
   "source": [
    "\n",
    "\n",
    "## Radioactive Decay Law\n",
    "\n",
    "\n",
    "**The Law:** The probability that an unstable parent nucleus will decay spontaneously into one or more particles of lower mass/energy is independent of the past history of the nucleus and is the same for all radionuclides of the same type.\n",
    "\n",
    "### Decay Constant \n",
    "Radioactive decay takes place stochastically in a single atom, and quite predictably in a large group of radioactive atoms of the same type.\n",
    "\n",
    "The probability that any one of the radionuclides in the sample decays in $\\Delta t$ is $\\frac{\\Delta N}{N}$. \n",
    "\n",
    "The **decay probability** $\\frac{\\Delta N}{N}$ per unit time for a time interval $\\Delta t$ should vary smoothly for large $\\Delta t$. \n",
    "\n",
    "The statistically averaged **decay probability per unit time**, in the limit of infinitely small $\\Delta t$, approaches a constant $\\lambda$.\n",
    "Thus:\n",
    "\n",
    "\\begin{align}\n",
    "       \\lambda &\\equiv \\lim_{\\Delta t \\to 0} \\frac{\\left(\\Delta N/N\\right)}{\\Delta t}\\\\\n",
    "       &= \\mbox{\"decay constant\"}\n",
    "\\end{align}\n",
    "\n",
    "And, it is indeed constant. We can then describe the change in radioactive nuclides over time as:\n",
    "\n",
    "\\begin{align}\n",
    "        \\frac{dN}{dt} &= -\\lambda N \\\\\n",
    "       \\Rightarrow N_i(t) &= N_i(0)e^{-\\lambda t}\\\\\n",
    "\\end{align}\n",
    "\n",
    "where\n",
    "\n",
    "$$\n",
    "\\begin{align}\n",
    "        N_i(t) &= \\mbox{number of isotopes i adjusted for decay}\\\\\n",
    "        N_i(0)&= \\mbox{initial condition}\\\\\n",
    "        \\lambda &= \\frac{ln(2)}{t_{1/2}} = \\mbox{decay constant} \\\\\n",
    "        t &= \\mbox{time elapsed [s]}\\\\\n",
    "        t_{1/2} &= 1 = \\mbox{half-life [s]} \\\\\n",
    "\\end{align}\n",
    "$$\n"
   ]
  },
  {
   "cell_type": "code",
   "execution_count": 11,
   "metadata": {
    "collapsed": false,
    "deletable": true,
    "editable": true
   },
   "outputs": [
    {
     "data": {
      "text/html": [
       "\n",
       "\n",
       "<style>\n",
       "\n",
       "</style>\n",
       "\n",
       "<div id=\"fig_el555345350209605697223653\"></div>\n",
       "<script>\n",
       "function mpld3_load_lib(url, callback){\n",
       "  var s = document.createElement('script');\n",
       "  s.src = url;\n",
       "  s.async = true;\n",
       "  s.onreadystatechange = s.onload = callback;\n",
       "  s.onerror = function(){console.warn(\"failed to load library \" + url);};\n",
       "  document.getElementsByTagName(\"head\")[0].appendChild(s);\n",
       "}\n",
       "\n",
       "if(typeof(mpld3) !== \"undefined\" && mpld3._mpld3IsLoaded){\n",
       "   // already loaded: just create the figure\n",
       "   !function(mpld3){\n",
       "       \n",
       "       mpld3.draw_figure(\"fig_el555345350209605697223653\", {\"id\": \"el55534535020960\", \"data\": {\"data01\": [[0.0, 100.0], [1.0, 50.0], [2.0, 25.0], [3.0, 12.0], [4.0, 6.0], [5.0, 3.0], [6.0, 1.0], [7.0, 0.0], [8.0, 0.0], [9.0, 0.0], [10.0, 0.0], [11.0, 0.0], [12.0, 0.0], [13.0, 0.0], [14.0, 0.0], [15.0, 0.0], [16.0, 0.0], [17.0, 0.0], [18.0, 0.0], [19.0, 0.0], [20.0, 0.0], [21.0, 0.0], [22.0, 0.0], [23.0, 0.0]]}, \"plugins\": [{\"type\": \"reset\"}, {\"type\": \"zoom\", \"enabled\": false, \"button\": true}, {\"type\": \"boxzoom\", \"enabled\": false, \"button\": true}, {\"type\": \"tooltip\", \"id\": \"el55534535020512\", \"hoffset\": 0, \"voffset\": 10, \"location\": \"mouse\", \"labels\": [\"100% remaining\", \"50% remaining\", \"25% remaining\", \"12% remaining\", \"6% remaining\", \"3% remaining\", \"1% remaining\", \"0% remaining\", \"0% remaining\", \"0% remaining\", \"0% remaining\", \"0% remaining\", \"0% remaining\", \"0% remaining\", \"0% remaining\", \"0% remaining\", \"0% remaining\", \"0% remaining\", \"0% remaining\", \"0% remaining\", \"0% remaining\", \"0% remaining\", \"0% remaining\", \"0% remaining\"]}], \"axes\": [{\"texts\": [{\"id\": \"el55534537914144\", \"h_anchor\": \"middle\", \"text\": \"Time\", \"rotation\": -0.0, \"v_baseline\": \"hanging\", \"alpha\": 1, \"fontsize\": 18.0, \"position\": [0.5, -0.05197132616487454], \"color\": \"#000000\", \"coordinates\": \"axes\", \"zorder\": 3}, {\"id\": \"el55534537977320\", \"h_anchor\": \"middle\", \"text\": \"N_i(t)\", \"rotation\": -90.0, \"v_baseline\": \"auto\", \"alpha\": 1, \"fontsize\": 18.0, \"position\": [-0.07022849462365593, 0.5], \"color\": \"#000000\", \"coordinates\": \"axes\", \"zorder\": 3}, {\"id\": \"el55534538032928\", \"h_anchor\": \"middle\", \"text\": \"N_i\", \"rotation\": -0.0, \"v_baseline\": \"auto\", \"alpha\": 1, \"fontsize\": 21.599999999999998, \"position\": [0.5, 1.0099561927518916], \"color\": \"#000000\", \"coordinates\": \"axes\", \"zorder\": 3}], \"yscale\": \"linear\", \"zoomable\": true, \"sharex\": [], \"images\": [], \"xlim\": [-5.0, 25.0], \"bbox\": [0.125, 0.125, 0.775, 0.775], \"axesbgalpha\": null, \"ylim\": [-20.0, 120.0], \"id\": \"el55534537942536\", \"lines\": [{\"id\": \"el55534538232616\", \"data\": \"data01\", \"alpha\": 1, \"zorder\": 2, \"yindex\": 1, \"color\": \"#FF0000\", \"dasharray\": \"10,0\", \"coordinates\": \"data\", \"xindex\": 0, \"linewidth\": 1.0}], \"sharey\": [], \"paths\": [], \"axesbg\": \"#FFFFFF\", \"markers\": [], \"collections\": [{\"facecolors\": [\"#0000FF\"], \"id\": \"el55534535020512\", \"xindex\": 0, \"offsets\": \"data01\", \"pathtransforms\": [[49.69039949999532, 0.0, 0.0, 49.69039949999532, 0.0, 0.0], [35.136418446315325, 0.0, 0.0, 35.136418446315325, 0.0, 0.0], [24.84519974999766, 0.0, 0.0, 24.84519974999766, 0.0, 0.0], [17.21325931647741, 0.0, 0.0, 17.21325931647741, 0.0, 0.0], [12.171612389003691, 0.0, 0.0, 12.171612389003691, 0.0, 0.0], [8.606629658238704, 0.0, 0.0, 8.606629658238704, 0.0, 0.0], [4.969039949999533, 0.0, 0.0, 4.969039949999533, 0.0, 0.0], [0.0, 0.0, 0.0, 0.0, 0.0, 0.0], [0.0, 0.0, 0.0, 0.0, 0.0, 0.0], [0.0, 0.0, 0.0, 0.0, 0.0, 0.0], [0.0, 0.0, 0.0, 0.0, 0.0, 0.0], [0.0, 0.0, 0.0, 0.0, 0.0, 0.0], [0.0, 0.0, 0.0, 0.0, 0.0, 0.0], [0.0, 0.0, 0.0, 0.0, 0.0, 0.0], [0.0, 0.0, 0.0, 0.0, 0.0, 0.0], [0.0, 0.0, 0.0, 0.0, 0.0, 0.0], [0.0, 0.0, 0.0, 0.0, 0.0, 0.0], [0.0, 0.0, 0.0, 0.0, 0.0, 0.0], [0.0, 0.0, 0.0, 0.0, 0.0, 0.0], [0.0, 0.0, 0.0, 0.0, 0.0, 0.0], [0.0, 0.0, 0.0, 0.0, 0.0, 0.0], [0.0, 0.0, 0.0, 0.0, 0.0, 0.0], [0.0, 0.0, 0.0, 0.0, 0.0, 0.0], [0.0, 0.0, 0.0, 0.0, 0.0, 0.0]], \"yindex\": 1, \"alphas\": [0.4], \"paths\": [[[[0.0, -0.5], [0.13260155, -0.5], [0.25978993539242673, -0.44731684579412084], [0.3535533905932738, -0.3535533905932738], [0.44731684579412084, -0.25978993539242673], [0.5, -0.13260155], [0.5, 0.0], [0.5, 0.13260155], [0.44731684579412084, 0.25978993539242673], [0.3535533905932738, 0.3535533905932738], [0.25978993539242673, 0.44731684579412084], [0.13260155, 0.5], [0.0, 0.5], [-0.13260155, 0.5], [-0.25978993539242673, 0.44731684579412084], [-0.3535533905932738, 0.3535533905932738], [-0.44731684579412084, 0.25978993539242673], [-0.5, 0.13260155], [-0.5, 0.0], [-0.5, -0.13260155], [-0.44731684579412084, -0.25978993539242673], [-0.3535533905932738, -0.3535533905932738], [-0.25978993539242673, -0.44731684579412084], [-0.13260155, -0.5], [0.0, -0.5]], [\"M\", \"C\", \"C\", \"C\", \"C\", \"C\", \"C\", \"C\", \"C\", \"Z\"]]], \"pathcoordinates\": \"display\", \"edgecolors\": [\"#0000FF\"], \"edgewidths\": [1.0], \"offsetcoordinates\": \"data\", \"zorder\": 1}], \"xscale\": \"linear\", \"xdomain\": [-5.0, 25.0], \"axes\": [{\"nticks\": 7, \"fontsize\": 18.0, \"tickformat\": null, \"grid\": {\"gridOn\": false}, \"tickvalues\": null, \"scale\": \"linear\", \"position\": \"bottom\"}, {\"nticks\": 8, \"fontsize\": 18.0, \"tickformat\": null, \"grid\": {\"gridOn\": false}, \"tickvalues\": null, \"scale\": \"linear\", \"position\": \"left\"}], \"ydomain\": [-20.0, 120.0]}], \"height\": 720.0, \"width\": 960.0});\n",
       "   }(mpld3);\n",
       "}else if(typeof define === \"function\" && define.amd){\n",
       "   // require.js is available: use it to load d3/mpld3\n",
       "   require.config({paths: {d3: \"https://mpld3.github.io/js/d3.v3.min\"}});\n",
       "   require([\"d3\"], function(d3){\n",
       "      window.d3 = d3;\n",
       "      mpld3_load_lib(\"https://mpld3.github.io/js/mpld3.v0.2.js\", function(){\n",
       "         \n",
       "         mpld3.draw_figure(\"fig_el555345350209605697223653\", {\"id\": \"el55534535020960\", \"data\": {\"data01\": [[0.0, 100.0], [1.0, 50.0], [2.0, 25.0], [3.0, 12.0], [4.0, 6.0], [5.0, 3.0], [6.0, 1.0], [7.0, 0.0], [8.0, 0.0], [9.0, 0.0], [10.0, 0.0], [11.0, 0.0], [12.0, 0.0], [13.0, 0.0], [14.0, 0.0], [15.0, 0.0], [16.0, 0.0], [17.0, 0.0], [18.0, 0.0], [19.0, 0.0], [20.0, 0.0], [21.0, 0.0], [22.0, 0.0], [23.0, 0.0]]}, \"plugins\": [{\"type\": \"reset\"}, {\"type\": \"zoom\", \"enabled\": false, \"button\": true}, {\"type\": \"boxzoom\", \"enabled\": false, \"button\": true}, {\"type\": \"tooltip\", \"id\": \"el55534535020512\", \"hoffset\": 0, \"voffset\": 10, \"location\": \"mouse\", \"labels\": [\"100% remaining\", \"50% remaining\", \"25% remaining\", \"12% remaining\", \"6% remaining\", \"3% remaining\", \"1% remaining\", \"0% remaining\", \"0% remaining\", \"0% remaining\", \"0% remaining\", \"0% remaining\", \"0% remaining\", \"0% remaining\", \"0% remaining\", \"0% remaining\", \"0% remaining\", \"0% remaining\", \"0% remaining\", \"0% remaining\", \"0% remaining\", \"0% remaining\", \"0% remaining\", \"0% remaining\"]}], \"axes\": [{\"texts\": [{\"id\": \"el55534537914144\", \"h_anchor\": \"middle\", \"text\": \"Time\", \"rotation\": -0.0, \"v_baseline\": \"hanging\", \"alpha\": 1, \"fontsize\": 18.0, \"position\": [0.5, -0.05197132616487454], \"color\": \"#000000\", \"coordinates\": \"axes\", \"zorder\": 3}, {\"id\": \"el55534537977320\", \"h_anchor\": \"middle\", \"text\": \"N_i(t)\", \"rotation\": -90.0, \"v_baseline\": \"auto\", \"alpha\": 1, \"fontsize\": 18.0, \"position\": [-0.07022849462365593, 0.5], \"color\": \"#000000\", \"coordinates\": \"axes\", \"zorder\": 3}, {\"id\": \"el55534538032928\", \"h_anchor\": \"middle\", \"text\": \"N_i\", \"rotation\": -0.0, \"v_baseline\": \"auto\", \"alpha\": 1, \"fontsize\": 21.599999999999998, \"position\": [0.5, 1.0099561927518916], \"color\": \"#000000\", \"coordinates\": \"axes\", \"zorder\": 3}], \"yscale\": \"linear\", \"zoomable\": true, \"sharex\": [], \"images\": [], \"xlim\": [-5.0, 25.0], \"bbox\": [0.125, 0.125, 0.775, 0.775], \"axesbgalpha\": null, \"ylim\": [-20.0, 120.0], \"id\": \"el55534537942536\", \"lines\": [{\"id\": \"el55534538232616\", \"data\": \"data01\", \"alpha\": 1, \"zorder\": 2, \"yindex\": 1, \"color\": \"#FF0000\", \"dasharray\": \"10,0\", \"coordinates\": \"data\", \"xindex\": 0, \"linewidth\": 1.0}], \"sharey\": [], \"paths\": [], \"axesbg\": \"#FFFFFF\", \"markers\": [], \"collections\": [{\"facecolors\": [\"#0000FF\"], \"id\": \"el55534535020512\", \"xindex\": 0, \"offsets\": \"data01\", \"pathtransforms\": [[49.69039949999532, 0.0, 0.0, 49.69039949999532, 0.0, 0.0], [35.136418446315325, 0.0, 0.0, 35.136418446315325, 0.0, 0.0], [24.84519974999766, 0.0, 0.0, 24.84519974999766, 0.0, 0.0], [17.21325931647741, 0.0, 0.0, 17.21325931647741, 0.0, 0.0], [12.171612389003691, 0.0, 0.0, 12.171612389003691, 0.0, 0.0], [8.606629658238704, 0.0, 0.0, 8.606629658238704, 0.0, 0.0], [4.969039949999533, 0.0, 0.0, 4.969039949999533, 0.0, 0.0], [0.0, 0.0, 0.0, 0.0, 0.0, 0.0], [0.0, 0.0, 0.0, 0.0, 0.0, 0.0], [0.0, 0.0, 0.0, 0.0, 0.0, 0.0], [0.0, 0.0, 0.0, 0.0, 0.0, 0.0], [0.0, 0.0, 0.0, 0.0, 0.0, 0.0], [0.0, 0.0, 0.0, 0.0, 0.0, 0.0], [0.0, 0.0, 0.0, 0.0, 0.0, 0.0], [0.0, 0.0, 0.0, 0.0, 0.0, 0.0], [0.0, 0.0, 0.0, 0.0, 0.0, 0.0], [0.0, 0.0, 0.0, 0.0, 0.0, 0.0], [0.0, 0.0, 0.0, 0.0, 0.0, 0.0], [0.0, 0.0, 0.0, 0.0, 0.0, 0.0], [0.0, 0.0, 0.0, 0.0, 0.0, 0.0], [0.0, 0.0, 0.0, 0.0, 0.0, 0.0], [0.0, 0.0, 0.0, 0.0, 0.0, 0.0], [0.0, 0.0, 0.0, 0.0, 0.0, 0.0], [0.0, 0.0, 0.0, 0.0, 0.0, 0.0]], \"yindex\": 1, \"alphas\": [0.4], \"paths\": [[[[0.0, -0.5], [0.13260155, -0.5], [0.25978993539242673, -0.44731684579412084], [0.3535533905932738, -0.3535533905932738], [0.44731684579412084, -0.25978993539242673], [0.5, -0.13260155], [0.5, 0.0], [0.5, 0.13260155], [0.44731684579412084, 0.25978993539242673], [0.3535533905932738, 0.3535533905932738], [0.25978993539242673, 0.44731684579412084], [0.13260155, 0.5], [0.0, 0.5], [-0.13260155, 0.5], [-0.25978993539242673, 0.44731684579412084], [-0.3535533905932738, 0.3535533905932738], [-0.44731684579412084, 0.25978993539242673], [-0.5, 0.13260155], [-0.5, 0.0], [-0.5, -0.13260155], [-0.44731684579412084, -0.25978993539242673], [-0.3535533905932738, -0.3535533905932738], [-0.25978993539242673, -0.44731684579412084], [-0.13260155, -0.5], [0.0, -0.5]], [\"M\", \"C\", \"C\", \"C\", \"C\", \"C\", \"C\", \"C\", \"C\", \"Z\"]]], \"pathcoordinates\": \"display\", \"edgecolors\": [\"#0000FF\"], \"edgewidths\": [1.0], \"offsetcoordinates\": \"data\", \"zorder\": 1}], \"xscale\": \"linear\", \"xdomain\": [-5.0, 25.0], \"axes\": [{\"nticks\": 7, \"fontsize\": 18.0, \"tickformat\": null, \"grid\": {\"gridOn\": false}, \"tickvalues\": null, \"scale\": \"linear\", \"position\": \"bottom\"}, {\"nticks\": 8, \"fontsize\": 18.0, \"tickformat\": null, \"grid\": {\"gridOn\": false}, \"tickvalues\": null, \"scale\": \"linear\", \"position\": \"left\"}], \"ydomain\": [-20.0, 120.0]}], \"height\": 720.0, \"width\": 960.0});\n",
       "      });\n",
       "    });\n",
       "}else{\n",
       "    // require.js not available: dynamically load d3 & mpld3\n",
       "    mpld3_load_lib(\"https://mpld3.github.io/js/d3.v3.min.js\", function(){\n",
       "         mpld3_load_lib(\"https://mpld3.github.io/js/mpld3.v0.2.js\", function(){\n",
       "                 \n",
       "                 mpld3.draw_figure(\"fig_el555345350209605697223653\", {\"id\": \"el55534535020960\", \"data\": {\"data01\": [[0.0, 100.0], [1.0, 50.0], [2.0, 25.0], [3.0, 12.0], [4.0, 6.0], [5.0, 3.0], [6.0, 1.0], [7.0, 0.0], [8.0, 0.0], [9.0, 0.0], [10.0, 0.0], [11.0, 0.0], [12.0, 0.0], [13.0, 0.0], [14.0, 0.0], [15.0, 0.0], [16.0, 0.0], [17.0, 0.0], [18.0, 0.0], [19.0, 0.0], [20.0, 0.0], [21.0, 0.0], [22.0, 0.0], [23.0, 0.0]]}, \"plugins\": [{\"type\": \"reset\"}, {\"type\": \"zoom\", \"enabled\": false, \"button\": true}, {\"type\": \"boxzoom\", \"enabled\": false, \"button\": true}, {\"type\": \"tooltip\", \"id\": \"el55534535020512\", \"hoffset\": 0, \"voffset\": 10, \"location\": \"mouse\", \"labels\": [\"100% remaining\", \"50% remaining\", \"25% remaining\", \"12% remaining\", \"6% remaining\", \"3% remaining\", \"1% remaining\", \"0% remaining\", \"0% remaining\", \"0% remaining\", \"0% remaining\", \"0% remaining\", \"0% remaining\", \"0% remaining\", \"0% remaining\", \"0% remaining\", \"0% remaining\", \"0% remaining\", \"0% remaining\", \"0% remaining\", \"0% remaining\", \"0% remaining\", \"0% remaining\", \"0% remaining\"]}], \"axes\": [{\"texts\": [{\"id\": \"el55534537914144\", \"h_anchor\": \"middle\", \"text\": \"Time\", \"rotation\": -0.0, \"v_baseline\": \"hanging\", \"alpha\": 1, \"fontsize\": 18.0, \"position\": [0.5, -0.05197132616487454], \"color\": \"#000000\", \"coordinates\": \"axes\", \"zorder\": 3}, {\"id\": \"el55534537977320\", \"h_anchor\": \"middle\", \"text\": \"N_i(t)\", \"rotation\": -90.0, \"v_baseline\": \"auto\", \"alpha\": 1, \"fontsize\": 18.0, \"position\": [-0.07022849462365593, 0.5], \"color\": \"#000000\", \"coordinates\": \"axes\", \"zorder\": 3}, {\"id\": \"el55534538032928\", \"h_anchor\": \"middle\", \"text\": \"N_i\", \"rotation\": -0.0, \"v_baseline\": \"auto\", \"alpha\": 1, \"fontsize\": 21.599999999999998, \"position\": [0.5, 1.0099561927518916], \"color\": \"#000000\", \"coordinates\": \"axes\", \"zorder\": 3}], \"yscale\": \"linear\", \"zoomable\": true, \"sharex\": [], \"images\": [], \"xlim\": [-5.0, 25.0], \"bbox\": [0.125, 0.125, 0.775, 0.775], \"axesbgalpha\": null, \"ylim\": [-20.0, 120.0], \"id\": \"el55534537942536\", \"lines\": [{\"id\": \"el55534538232616\", \"data\": \"data01\", \"alpha\": 1, \"zorder\": 2, \"yindex\": 1, \"color\": \"#FF0000\", \"dasharray\": \"10,0\", \"coordinates\": \"data\", \"xindex\": 0, \"linewidth\": 1.0}], \"sharey\": [], \"paths\": [], \"axesbg\": \"#FFFFFF\", \"markers\": [], \"collections\": [{\"facecolors\": [\"#0000FF\"], \"id\": \"el55534535020512\", \"xindex\": 0, \"offsets\": \"data01\", \"pathtransforms\": [[49.69039949999532, 0.0, 0.0, 49.69039949999532, 0.0, 0.0], [35.136418446315325, 0.0, 0.0, 35.136418446315325, 0.0, 0.0], [24.84519974999766, 0.0, 0.0, 24.84519974999766, 0.0, 0.0], [17.21325931647741, 0.0, 0.0, 17.21325931647741, 0.0, 0.0], [12.171612389003691, 0.0, 0.0, 12.171612389003691, 0.0, 0.0], [8.606629658238704, 0.0, 0.0, 8.606629658238704, 0.0, 0.0], [4.969039949999533, 0.0, 0.0, 4.969039949999533, 0.0, 0.0], [0.0, 0.0, 0.0, 0.0, 0.0, 0.0], [0.0, 0.0, 0.0, 0.0, 0.0, 0.0], [0.0, 0.0, 0.0, 0.0, 0.0, 0.0], [0.0, 0.0, 0.0, 0.0, 0.0, 0.0], [0.0, 0.0, 0.0, 0.0, 0.0, 0.0], [0.0, 0.0, 0.0, 0.0, 0.0, 0.0], [0.0, 0.0, 0.0, 0.0, 0.0, 0.0], [0.0, 0.0, 0.0, 0.0, 0.0, 0.0], [0.0, 0.0, 0.0, 0.0, 0.0, 0.0], [0.0, 0.0, 0.0, 0.0, 0.0, 0.0], [0.0, 0.0, 0.0, 0.0, 0.0, 0.0], [0.0, 0.0, 0.0, 0.0, 0.0, 0.0], [0.0, 0.0, 0.0, 0.0, 0.0, 0.0], [0.0, 0.0, 0.0, 0.0, 0.0, 0.0], [0.0, 0.0, 0.0, 0.0, 0.0, 0.0], [0.0, 0.0, 0.0, 0.0, 0.0, 0.0], [0.0, 0.0, 0.0, 0.0, 0.0, 0.0]], \"yindex\": 1, \"alphas\": [0.4], \"paths\": [[[[0.0, -0.5], [0.13260155, -0.5], [0.25978993539242673, -0.44731684579412084], [0.3535533905932738, -0.3535533905932738], [0.44731684579412084, -0.25978993539242673], [0.5, -0.13260155], [0.5, 0.0], [0.5, 0.13260155], [0.44731684579412084, 0.25978993539242673], [0.3535533905932738, 0.3535533905932738], [0.25978993539242673, 0.44731684579412084], [0.13260155, 0.5], [0.0, 0.5], [-0.13260155, 0.5], [-0.25978993539242673, 0.44731684579412084], [-0.3535533905932738, 0.3535533905932738], [-0.44731684579412084, 0.25978993539242673], [-0.5, 0.13260155], [-0.5, 0.0], [-0.5, -0.13260155], [-0.44731684579412084, -0.25978993539242673], [-0.3535533905932738, -0.3535533905932738], [-0.25978993539242673, -0.44731684579412084], [-0.13260155, -0.5], [0.0, -0.5]], [\"M\", \"C\", \"C\", \"C\", \"C\", \"C\", \"C\", \"C\", \"C\", \"Z\"]]], \"pathcoordinates\": \"display\", \"edgecolors\": [\"#0000FF\"], \"edgewidths\": [1.0], \"offsetcoordinates\": \"data\", \"zorder\": 1}], \"xscale\": \"linear\", \"xdomain\": [-5.0, 25.0], \"axes\": [{\"nticks\": 7, \"fontsize\": 18.0, \"tickformat\": null, \"grid\": {\"gridOn\": false}, \"tickvalues\": null, \"scale\": \"linear\", \"position\": \"bottom\"}, {\"nticks\": 8, \"fontsize\": 18.0, \"tickformat\": null, \"grid\": {\"gridOn\": false}, \"tickvalues\": null, \"scale\": \"linear\", \"position\": \"left\"}], \"ydomain\": [-20.0, 120.0]}], \"height\": 720.0, \"width\": 960.0});\n",
       "            })\n",
       "         });\n",
       "}\n",
       "</script>"
      ],
      "text/plain": [
       "<IPython.core.display.HTML object>"
      ]
     },
     "execution_count": 11,
     "metadata": {},
     "output_type": "execute_result"
    }
   ],
   "source": [
    "import math\n",
    "def n_decay(t, n_initial=100, half_life=1):\n",
    "    \"\"\"This function describes the decay of an isotope\"\"\"\n",
    "    lam = math.log(2)/half_life\n",
    "    return n_initial*math.exp(-lam*t)\n",
    "\n",
    "\n",
    "# This code plots the decay of an isotope\n",
    "import numpy as np\n",
    "y = np.arange(24)\n",
    "x = np.arange(24)\n",
    "for t in range(0,24):\n",
    "    x[t] = t\n",
    "    y[t] = n_decay(t)\n",
    "    \n",
    "# creates a figure and axes with matplotlib\n",
    "fig, ax = plt.subplots()\n",
    "scatter = plt.scatter(x, y, color='blue', s=y*20, alpha=0.4)    \n",
    "ax.plot(x, y, color='red')    \n",
    "\n",
    "# adds labels to the plot\n",
    "ax.set_ylabel('N_i(t)')\n",
    "ax.set_xlabel('Time')\n",
    "ax.set_title('N_i')\n",
    "\n",
    "# adds tooltips\n",
    "import mpld3\n",
    "labels = ['{0}% remaining'.format(i) for i in y]\n",
    "tooltip = mpld3.plugins.PointLabelTooltip(scatter, labels=labels)\n",
    "mpld3.plugins.connect(fig, tooltip)\n",
    "\n",
    "mpld3.display()"
   ]
  },
  {
   "cell_type": "code",
   "execution_count": null,
   "metadata": {
    "collapsed": true
   },
   "outputs": [],
   "source": []
  }
 ],
 "metadata": {
  "kernelspec": {
   "display_name": "Python 3",
   "language": "python",
   "name": "python3"
  },
  "language_info": {
   "codemirror_mode": {
    "name": "ipython",
    "version": 3
   },
   "file_extension": ".py",
   "mimetype": "text/x-python",
   "name": "python",
   "nbconvert_exporter": "python",
   "pygments_lexer": "ipython3",
   "version": "3.5.2"
  }
 },
 "nbformat": 4,
 "nbformat_minor": 0
}
