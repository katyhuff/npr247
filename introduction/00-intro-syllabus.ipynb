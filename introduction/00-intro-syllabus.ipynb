{
 "cells": [
  {
   "cell_type": "code",
   "execution_count": 1,
   "metadata": {},
   "outputs": [],
   "source": [
    "%matplotlib notebook\n",
    "%matplotlib inline\n",
    "import math\n",
    "import matplotlib.pyplot as plt"
   ]
  },
  {
   "cell_type": "markdown",
   "metadata": {},
   "source": [
    "\n",
    "# Modeling Nuclear Reactor Systems\n",
    "\n"
   ]
  },
  {
   "cell_type": "markdown",
   "metadata": {},
   "source": [
    "## Syllabus\n",
    "\n",
    "Throughout the semester, you can always find the syllabus online at [https://github.com/katyhuff/npre247/blob/master/syllabus/syllabus.pdf](https://github.com/katyhuff/npre247/blob/master/syllabus/syllabus.pdf)."
   ]
  },
  {
   "cell_type": "code",
   "execution_count": 4,
   "metadata": {
    "scrolled": true
   },
   "outputs": [
    {
     "data": {
      "text/html": [
       "\n",
       "        <iframe\n",
       "            width=\"1000\"\n",
       "            height=\"1000\"\n",
       "            src=\"../syllabus/syllabus.pdf\"\n",
       "            frameborder=\"0\"\n",
       "            allowfullscreen\n",
       "        ></iframe>\n",
       "        "
      ],
      "text/plain": [
       "<IPython.lib.display.IFrame at 0x103deb8d0>"
      ]
     },
     "execution_count": 4,
     "metadata": {},
     "output_type": "execute_result"
    }
   ],
   "source": [
    "from IPython.display import IFrame\n",
    "IFrame(\"../syllabus/syllabus.pdf\", width=1000, height=1000)"
   ]
  },
  {
   "cell_type": "code",
   "execution_count": 5,
   "metadata": {},
   "outputs": [
    {
     "data": {
      "text/html": [
       "\n",
       "        <iframe\n",
       "            width=\"1000\"\n",
       "            height=\"700\"\n",
       "            src=\"http://katyhuff.github.io\"\n",
       "            frameborder=\"0\"\n",
       "            allowfullscreen\n",
       "        ></iframe>\n",
       "        "
      ],
      "text/plain": [
       "<IPython.lib.display.IFrame at 0x10c2ca4e0>"
      ]
     },
     "execution_count": 5,
     "metadata": {},
     "output_type": "execute_result"
    }
   ],
   "source": [
    "from IPython.display import IFrame\n",
    "IFrame(\"http://katyhuff.github.io\", width=1000, height=700)"
   ]
  },
  {
   "cell_type": "markdown",
   "metadata": {},
   "source": [
    "## Assessment\n",
    "\n",
    "\n",
    "My goal (and, hopefully your goal) is for you to learn this material. If I have done my job right, your grade in this class will reflect just that -- how much you have learned. To accommodate many learning types, I'll assess many types of activities. Your comprehension of the readings will be assessed with quizzes, your ability to apply what you've learned from class on your own will be assessed with the homeworks and projects, and your wholistic retention of the material will be assessed with exams.\n",
    "\n",
    "![http://www.phdcomics.com/comics/archive/phd051910s.gif](http://www.phdcomics.com/comics/archive/phd051910s.gif)\n"
   ]
  },
  {
   "cell_type": "markdown",
   "metadata": {},
   "source": [
    "### Monday Background Reading Assignments\n",
    "\n",
    "Rather than spending time in class to introduce concepts for the first time, I think our time is better spent if we focus on exploring those concepts through demonstration and discussion together. **This 'active learning' educational strategy is backed by science, but is also just more respectful of your ability to learn things on your own.** Therefore, the lectures will assume you have studied the background materials ahead of time. This will include book sections, government reports, videos, and other resources. You will be expected to study the material outside of class before the start of each week. I recommend you take notes on this material as any of it may be assessed in the exams.\n",
    "\n",
    "**On Monday of each week I'll assign a list of material. You'll have 7 days to study that material before we start covering those concepts in class.**\n",
    "\n",
    "![http://illinois.edu/assets/img/about/landmarks/grainger.jpg](http://illinois.edu/assets/img/about/landmarks/grainger.jpg)\n",
    "\n",
    "### Monday Quizzes\n",
    "\n",
    "To help me calibrate the in-class discussion, a weekly quiz will assess your comprehension of the background material. The quizzes can be taken online through [Compass2g](https://compass2g.illinois.edu) at any time during the week, but they must be completed by Monday at 10am, 7 days after the material was assigned.\n",
    "\n",
    "### Friday Homework Assignments\n",
    "\n",
    "Homeworks will be assigned each Friday concerning the material covered that week. You will have 7 days to do the homework, so it will be due at 10am on the following Friday. It will need to be turned in via compass as a PDF. If you don't\n",
    "\n",
    "\n",
    "### Projects\n",
    "\n",
    "The class will involve three computational projects. These will be assigned and turned in via [GitHub classroom](classroom.github.io). You will need:\n",
    "\n",
    "1) To create a GitHub account\n",
    "2) To enroll in the class on the github classroom site\n",
    "3) To learn a little about git and GitHub. I have created a video for this purpose.\n",
    "\n",
    "Your CAs are experts in git and GitHub. They will be able to help you with the details.\n",
    "\n",
    "### Tests\n",
    "\n",
    "The midterms will take place in class. They will be independent of one another, as will the final.\n",
    "\n",
    "### Participation\n",
    "\n",
    "I will notice when you are not in class, but attendance won't directly affect your grades. It may, however, indirectly affect your grades. If you miss something I demonstrate in class, you'll have a lot more trouble proving that you've learned it. \n",
    "\n",
    "## How to get an A\n",
    "\n",
    "My dear friend, mathematician Kathryn Mann, has a great summary of [how to get an A in her class.](https://math.berkeley.edu/~kpmann/getanA.pdf). Everything she says about her math classes is true for this class as well. You should expect to spend 3 hours outside of class for every hour you spend in class. So, for a 3 credit class, you'll need to spend 3 hours a week in class and 9 hours outside of class on the coursework. If you find you're spending much less or much more time on this class, please let me know. \n",
    "\n",
    "## Late Work\n",
    "\n",
    "**Late work will not be accepted.** Plan ahead.\n",
    "\n",
    "**There will be no negotiation about late work except in the case of absence documented by an absence letter from the Dean of Students.** The university policy for requesting such a letter is [here](http://studentcode.illinois.edu/article1_part5_1-501.html) . Please note that such a letter is appropriate for many types of conflicts, but that religious conflicts require special early handling. In accordance with university policy, students seeking an excused absence for religious reasons should complete the Request for Accommodation for Religious Observances Form, which can be found on the Office of the Dean of Students website. The student should submit this form to the instructor and the Office of the Dean of Students by the end of the second week of the course to which it applies."
   ]
  },
  {
   "cell_type": "markdown",
   "metadata": {},
   "source": [
    "## Communications\n",
    "\n",
    "\n",
    "Things to try when you have a question:\n",
    "\n",
    "- Be Persistent: [Try just one more time to figure it out on your own.](https://s-media-cache-ak0.pinimg.com/736x/03/54/ce/0354ce58a7a4308edcc46dd9238e12d7.jpg)\n",
    "- Google: [You might be surprised at its depth.](https://devhumor.com/content/uploads//images/April2016/google-errors.jpg)\n",
    "- Piazza: Try this first, your student colleagues probably know the answer.\n",
    "- TA email: A quick question can usually be answered by your TA via email.\n",
    "- TA office hours: Your TA is there for you at a regularly scheduled time.\n",
    "- CA emails: The CAs are available to you as well.\n",
    "- Prof. email: Questions not appropriate for your TA or CA can be directed to Prof. Huff.\n",
    "- Prof. office hours: By appointment only [https://katyhuff.youcanbook.me](katyhuff.youcanbook.me)\n",
    "\n",
    "### A note on email\n",
    "\n",
    "[Email tips for dealing with fussy professor types.](https://medium.com/@lportwoodstacer/how-to-email-your-professor-without-being-annoying-af-cf64ae0e4087)"
   ]
  },
  {
   "cell_type": "markdown",
   "metadata": {},
   "source": [
    "## Python, IPython, Jupyter, git, and the Notebooks\n",
    "\n",
    "Rather than reading equations off of slides, I will display lecture notes, equations, and images in \"Jupyter notebooks\" like this one. Sometimes, I will call them by their old name, \"IPython notebooks,\" but I'm talking about \"Jupyter notebooks\". Interleaved with the course notes, we will often write small functions in the Python programming language to represent the equations we are talking about. This will allow you to interact with the math, changing variables, modifying the models, and exploring the parameter space. \n",
    "\n",
    "### But I don't know Python!\n",
    "\n",
    "*You don't have to know Python to take this class.* However, you will need to learn a little along the way. I will provide lots of example code to support your completion of homework assignments and I will never ask you to write functioning code as part of any written exam. Programming is really hard without the internet. \n",
    "\n",
    "### Exercises\n",
    "\n",
    "Watch for blocks titled **Exercise** in the notebooks. Those mark moments when I will ask you, during class, to try something out, explore an equation, or arrive at an answer. These are short and are not meant to be difficult. They exist to quickly solidify an idea before we move on to the next one. I will often randomly call on students (with a random number generator populated with the enrollment list) to give solutions to the exercises, so **a failure to show up and participate will be noticed.** \n",
    "\n",
    "### Installing Python, IPython, Jupyter, git, and the Notebooks\n",
    "\n",
    "Because engaging in the exercises will be really helpful for you to study, you'll should try to gain access to a computer equipped with Python (a version greater than 3.0) and a basic set of scientific python libraries. If you have a computer already, I encourage you to install [anaconda](https://www.continuum.io/downloads).\n",
    "\n",
    "These notebooks are stored \"in the cloud,\" which is to say that they are stored on someone else's computers. Those computers are servers at GitHub, a sometimes silly but also very important company in the beautiful city of San Francisco. GitHub stores \"git repositories\" which are collections of files that are \"version controlled\" by the program \"git.\" This is a lot to keep track of, and I won't require that you learn git to participate in this class. However, I strongly recommend using git and GitHub and to keep track of your research code. So, I encourage you to use git to access the notebooks. \n",
    "\n",
    "**More information about the things you might want to install can be found in the [README](https://github.com/katyhuff/npre247/blob/master/README.md).**\n"
   ]
  },
  {
   "cell_type": "markdown",
   "metadata": {},
   "source": [
    "\n",
    "\n",
    "\n",
    "\n"
   ]
  }
 ],
 "metadata": {
  "anaconda-cloud": {},
  "kernelspec": {
   "display_name": "Python 3",
   "language": "python",
   "name": "python3"
  },
  "language_info": {
   "codemirror_mode": {
    "name": "ipython",
    "version": 3
   },
   "file_extension": ".py",
   "mimetype": "text/x-python",
   "name": "python",
   "nbconvert_exporter": "python",
   "pygments_lexer": "ipython3",
   "version": "3.6.5"
  }
 },
 "nbformat": 4,
 "nbformat_minor": 1
}
