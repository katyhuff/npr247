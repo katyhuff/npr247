{
 "cells": [
  {
   "cell_type": "code",
   "execution_count": 7,
   "metadata": {
    "collapsed": true,
    "deletable": true,
    "editable": true
   },
   "outputs": [],
   "source": [
    "%matplotlib notebook\n",
    "%matplotlib inline\n",
    "import math\n",
    "import matplotlib.pyplot as plt\n",
    "import numpy as np"
   ]
  },
  {
   "cell_type": "markdown",
   "metadata": {
    "deletable": true,
    "editable": true
   },
   "source": [
    "# Modern Physics\n",
    "\n",
    "- State the special theory of relativity\n",
    "- Differentiate inertial and non-inertial reference frames\n",
    "- Compare classical and relativistic physics approaches\n",
    "- Calculate relativistic masses\n",
    "- Calculate time dilation\n",
    "- Calculate length contraction\n"
   ]
  },
  {
   "cell_type": "markdown",
   "metadata": {
    "deletable": true,
    "editable": true
   },
   "source": [
    "## Special Theory of Relativity\n",
    "\n",
    "Classical physics relies on Newton's laws to descibe motion. Newton's second law says:\n",
    "\n",
    "\n",
    "\\begin{align}\n",
    "F &=\\frac{d\\vec{p}}{dt} \\\\\n",
    "   &= \\frac{dm\\vec{v}}{dt}\n",
    "\\end{align}\n",
    "where\n",
    "\\begin{align}\n",
    "\\vec{F} &= \\mbox{the force applied to the object}\\\\\n",
    "  \\vec{p} &= \\mbox{the momentum of the object}\\\\\n",
    "  \\vec{v} &= \\mbox{velocity of the object}\\\\\n",
    "  m       &= \\mbox{mass of the object}\\\\\n",
    "\\end{align}\n",
    "\n",
    "In newtonian physics, the mass of the object ($m$) is constant. \n",
    "\n",
    "\n",
    "### Relativistic Mass\n",
    "\n",
    "In 1905 Einstein showed that mass varies with an object's speed.\n",
    "\\begin{align}\n",
    "m = \\frac{m_o}{\\sqrt{1-\\frac{v^2}{c^2}}}\n",
    "\\end{align}\n",
    "where\n",
    "\\begin{align}\n",
    "  m_o &= \\mbox{rest mass of the object}\\\\\n",
    "  c &= \\mbox{speed of light}\\\\\n",
    "    &= 3\\times10^{8}\\frac{m}{s}\n",
    "\\end{align}\n",
    "\n",
    "#### Exercise: Think, Pair, Share\n",
    "\n",
    "If one plotted mass as a function of velocity, what could one expect the plot to look like?"
   ]
  },
  {
   "cell_type": "markdown",
   "metadata": {
    "deletable": true,
    "editable": true
   },
   "source": [
    "## Principle of Relativity\n",
    "\n",
    "Lots of things are relative. \n",
    "When we talk in physics about relativity, we intend to refer to the _relative_ features of coordinate systems.\n",
    "\n",
    "Imagine two inertial coordinate systems. $S$ is stationary, while $S'$ is moving away along the x axis with velocity $\\vec{v} = v\\hat{x}$. The coordinate transformation is, then.\n",
    "\n",
    "\\begin{align}\n",
    "x' & = x - vt\\\\\n",
    "y' &= y\\\\\n",
    "z' &= z\\\\\n",
    "t' &= t\n",
    "\\end{align}"
   ]
  },
  {
   "cell_type": "markdown",
   "metadata": {
    "deletable": true,
    "editable": true
   },
   "source": [
    "Substituting these transformations into Newton's laws does not impact their validity. If we consider a force $F_x$ acting on mass $m$, then the 2nd law in the moving system is:\n",
    "\n",
    "\n",
    "\n",
    "\\begin{align}\n",
    "F_x & = m\\frac{d^2x'}{dt'^2}\\\\\n",
    "\\end{align}\n",
    "\n",
    "If we transform it to the stationary system, with constant $v$:\n",
    "\n",
    "\n",
    "\\begin{align}\n",
    "F_x &= m\\frac{d^2x'}{dt'^2}\\\\\n",
    "&= m\\frac{d^2(x-vt)}{d(t)^2}\\\\\n",
    "&= m\\frac{d^2x}{dt^2}\\\\\n",
    "\\end{align}\n",
    "\n",
    "\n",
    "However, Maxwell's equations don't survive the transformation above. Lorentz observed (1904) that a different transformation could preserve Maxwell's equations. We call this the Lorentz transformation:\n",
    "\n",
    "\\begin{align}\n",
    "x' &= \\frac{x - vt}{\\sqrt{1-\\frac{v^2}{c^2}}}\\\\\n",
    "y' &= y\\\\\n",
    "z' &= z\\\\\n",
    "t' &= \\frac{t-\\frac{vx}{c^2}}{\\sqrt{1-\\frac{v^2}{c^2}}}\\\\\n",
    "\\end{align}\n",
    "\n",
    "\n",
    "In the Lorentz transformation above, **space and time depend on one another.**"
   ]
  },
  {
   "cell_type": "code",
   "execution_count": 14,
   "metadata": {
    "collapsed": false,
    "deletable": true,
    "editable": true
   },
   "outputs": [
    {
     "data": {
      "text/plain": [
       "<matplotlib.legend.Legend at 0x10e8b3a90>"
      ]
     },
     "execution_count": 14,
     "metadata": {},
     "output_type": "execute_result"
    },
    {
     "data": {
      "image/png": "[encoded data removed]",
      "text/plain": [
       "<matplotlib.figure.Figure at 0x10e8b3080>"
      ]
     },
     "metadata": {},
     "output_type": "display_data"
    }
   ],
   "source": [
    "def x_ltz(x, v, t):\n",
    "    c = 3.0e8\n",
    "    num = x - v*t\n",
    "    denom = math.sqrt(1-(v/c)**2)\n",
    "    return num/denom\n",
    "\n",
    "def t_ltz(x, v, t):\n",
    "    c = 3.0e8\n",
    "    num = t - v*x/c**2\n",
    "    denom = math.sqrt(1-(v/c)**2)\n",
    "    return num/denom\n",
    "\n",
    "x = 1\n",
    "vel = 3.0e2\n",
    "time = np.arange(0, 300, 10)\n",
    "to_plot = np.arange(0.,30.)\n",
    "for i in range(0, 30):\n",
    "    to_plot[i] = x_ltz(x, vel, time[i])\n",
    "\n",
    "plt.plot(time, to_plot, label=\"x_ltz\")\n",
    "plt.ylabel(\"Lorentz transformed x ($m$)\")\n",
    "plt.xlabel(\"time $(s)$\")\n",
    "plt.legend(loc=2)\n"
   ]
  },
  {
   "cell_type": "markdown",
   "metadata": {
    "deletable": true,
    "editable": true
   },
   "source": [
    "### Results of the Special Theory of Relativity\n",
    "\n",
    "What Einstein showed in 1905 was that **all physics in inertial coordinate systems remains unchanged under the Lorentz transformation.** To acheive this, however, one must correct Newton's laws of motion to allow them, too, to remain invariant under this transformation.\n",
    "\n",
    "Einstein based this on two _postulates_:\n",
    "\n",
    "- The laws of motion should have the same form in all coordinate systems moving at constant velocities to one another.\n",
    "- The speed of light in free space, $c$, is the same for all observers and is independent of the relative velocity between the source and observer.\n",
    "\n",
    "#### Exercise: Think-pair-share\n",
    "\n",
    "If the first postulate, velocity is kept constant between coordinate systems. What is the name for such coordinate systems?\n",
    "\n",
    "If the coordinate systems were accelerating with respect to each other, what quality is lost?"
   ]
  },
  {
   "cell_type": "markdown",
   "metadata": {
    "deletable": true,
    "editable": true
   },
   "source": [
    "### Result: Relativistic Mass\n",
    "\n",
    "The laws of motion are correct, as stated by Newton, if the mass of the object is a function of the object's speed.\n",
    "\n",
    "In 1905 Einstein showed that mass varies with an object's speed.\n",
    "\n",
    "\\begin{align}\n",
    "m = \\frac{m_o}{\\sqrt{1-\\frac{v^2}{c^2}}}\n",
    "\\end{align}\n",
    "where\n",
    "\\begin{align}\n",
    "  m_o &= \\mbox{rest mass of the object}\\\\\n",
    "  c &= \\mbox{speed of light}\\\\\n",
    "    &= 3\\times10^{8}\\frac{m}{s}\n",
    "\\end{align}\n",
    "\n",
    "#### Exercise: Think, Pair, Share\n",
    "\n",
    "If one plotted mass as a function of velocity, what could one expect the plot to look like?"
   ]
  },
  {
   "cell_type": "code",
   "execution_count": 15,
   "metadata": {
    "collapsed": false,
    "deletable": true,
    "editable": true
   },
   "outputs": [],
   "source": [
    "def m_rel(m_o, v):\n",
    "    \"\"\"Returns the relativistic mass of an object\n",
    "    \n",
    "    Parameters\n",
    "    ----------\n",
    "    m_o : double\n",
    "        rest mass of the object\n",
    "    v : double\n",
    "        velocity of the object\n",
    "    \"\"\"\n",
    "    c = 3.0e8\n",
    "    m = m_o/math.sqrt((1 - pow(v,2)/pow(c,2)))\n",
    "    return m"
   ]
  },
  {
   "cell_type": "code",
   "execution_count": 16,
   "metadata": {
    "collapsed": false,
    "deletable": true,
    "editable": true
   },
   "outputs": [
    {
     "data": {
      "text/plain": [
       "<matplotlib.legend.Legend at 0x10f3f5400>"
      ]
     },
     "execution_count": 16,
     "metadata": {},
     "output_type": "execute_result"
    },
    {
     "data": {
      "image/png": "[encoded data removed]",
      "text/plain": [
       "<matplotlib.figure.Figure at 0x10f3f5cf8>"
      ]
     },
     "metadata": {},
     "output_type": "display_data"
    }
   ],
   "source": [
    "# Plot it\n",
    "vel = np.arange(0, 3.0e8, 1.0e7)\n",
    "to_plot = np.arange(0.,30.)\n",
    "for i in range(0, 30):\n",
    "    to_plot[i] = m_rel(1, vel[i])\n",
    "\n",
    "plt.plot(vel, to_plot, label=\"relativistic mass\")\n",
    "plt.ylabel(\"relativistic mass (normalized by $m_o$)\")\n",
    "plt.xlabel(\"velocity $(m/s)$\")\n",
    "plt.legend(loc=2)"
   ]
  },
  {
   "cell_type": "markdown",
   "metadata": {
    "deletable": true,
    "editable": true
   },
   "source": [
    "### Result: Length Contraction\n",
    "\n",
    "The length of a moving object, in the direction of its motion, appears smaller to an observer at rest:\n",
    "\n",
    "\\begin{align}\n",
    "L&=L_o \\sqrt{1-\\frac{v^2}{c^2}}\n",
    "\\end{align}\n",
    "\n",
    "where\n",
    "\n",
    "\n",
    "\\begin{align}\n",
    "L_o &= \\mbox{proper length of the object at rest}\n",
    "\\end{align}"
   ]
  },
  {
   "cell_type": "code",
   "execution_count": 17,
   "metadata": {
    "collapsed": false,
    "deletable": true,
    "editable": true
   },
   "outputs": [
    {
     "data": {
      "text/plain": [
       "<matplotlib.legend.Legend at 0x10f494588>"
      ]
     },
     "execution_count": 17,
     "metadata": {},
     "output_type": "execute_result"
    },
    {
     "data": {
      "image/png": "[encoded data removed]",
      "text/plain": [
       "<matplotlib.figure.Figure at 0x10f494550>"
      ]
     },
     "metadata": {},
     "output_type": "display_data"
    }
   ],
   "source": [
    "def l_rel(l_o, v):\n",
    "    \"\"\"Returns the relativistic length of an object\n",
    "    \n",
    "    Parameters\n",
    "    ----------\n",
    "    l_o : double\n",
    "        rest length of the object\n",
    "    v : double\n",
    "        velocity of the object\n",
    "    \"\"\"\n",
    "    c = 3.0e8\n",
    "    length = l_o*math.sqrt((1 - pow(v,2)/pow(c,2)))\n",
    "    return length\n",
    "\n",
    "# Plot it\n",
    "vel = np.arange(0, 3.0e8, 1.0e7)\n",
    "to_plot = np.arange(0.,30.)\n",
    "for i in range(0, 30):\n",
    "    to_plot[i] = l_rel(1, vel[i])\n",
    "\n",
    "plt.plot(vel, to_plot, label=\"relativistic length\")\n",
    "plt.ylabel(\"relativistic length (normalized by $L_o$)\")\n",
    "plt.xlabel(\"velocity $(m/s)$\")\n",
    "plt.legend(loc=2)"
   ]
  },
  {
   "cell_type": "markdown",
   "metadata": {
    "deletable": true,
    "editable": true
   },
   "source": [
    "#### Exercise: Think-Pair-Share\n",
    "\n",
    "When we talk about length in this way, in what direction are we measuring it?"
   ]
  },
  {
   "cell_type": "markdown",
   "metadata": {
    "deletable": true,
    "editable": true
   },
   "source": [
    "### Result: Time Dilation\n",
    "\n",
    "The passage of time appears slow in a system moving with respect to a stationary observer.\n",
    "\n",
    "\n",
    "\\begin{align}\n",
    "t &= \\frac{t_o}{\\sqrt{1-\\frac{v^2}{c^2}}}\n",
    "\\end{align}\n",
    "\n",
    "where\n",
    "\n",
    "\n",
    "\\begin{align}\n",
    "t &= \\mbox{time required for some physical phenomenon in the moving system}\\\\\n",
    "t_o &= \\mbox{time required for some physical phenomenon in the stationary system}\n",
    "\\end{align}"
   ]
  },
  {
   "cell_type": "code",
   "execution_count": 18,
   "metadata": {
    "collapsed": false,
    "deletable": true,
    "editable": true,
    "scrolled": true
   },
   "outputs": [
    {
     "data": {
      "text/plain": [
       "<matplotlib.legend.Legend at 0x10f5bc240>"
      ]
     },
     "execution_count": 18,
     "metadata": {},
     "output_type": "execute_result"
    },
    {
     "data": {
      "image/png": "[encoded data removed]",
      "text/plain": [
       "<matplotlib.figure.Figure at 0x10f5bc860>"
      ]
     },
     "metadata": {},
     "output_type": "display_data"
    }
   ],
   "source": [
    "def t_rel(t_o, v):\n",
    "    \"\"\"Returns the time required for some physical phenomenon in the moving system\n",
    "    \n",
    "    Parameters\n",
    "    ----------\n",
    "    t_o : double\n",
    "        time required for some physical phenomenon in the stationary system\n",
    "    v : double\n",
    "        velocity of the moving reference frame\n",
    "    \"\"\"\n",
    "    c = 3.0e8\n",
    "    time = t_o/math.sqrt((1 - pow(v,2)/pow(c,2)))\n",
    "    return time\n",
    "\n",
    "# Plot it\n",
    "vel = np.arange(0, 3.0e8, 1.0e7)\n",
    "to_plot = np.arange(0.,30.)\n",
    "for i in range(0, 30):\n",
    "    to_plot[i] = t_rel(1, vel[i])\n",
    "\n",
    "plt.plot(vel, to_plot, label=\"relativistic time\")\n",
    "plt.ylabel(\"relativistic time (normalized by $t_o$)\")\n",
    "plt.xlabel(\"velocity $(m/s)$\")\n",
    "plt.legend(loc=2)"
   ]
  },
  {
   "cell_type": "markdown",
   "metadata": {
    "deletable": true,
    "editable": true
   },
   "source": [
    "### Exercise: Consider twins\n",
    "\n",
    "Now, imagine two identical twins, one of whom makes a journey into space in a high-speed rocket and returns home.\n",
    "\n",
    "Which is older, at the end of the event?\n",
    "\n",
    "![a-k-huff.jpg](a-k-huff.jpg)"
   ]
  },
  {
   "cell_type": "markdown",
   "metadata": {
    "deletable": true,
    "editable": true
   },
   "source": [
    "### Result: Equivalence of mass and energy \n",
    "\n",
    "The most famous result is that there is an equivalence between mass and energy:\n",
    "\n",
    "\\begin{align}\n",
    "E_{rest} = m c^2\n",
    "\\end{align}\n",
    "\n",
    "For particles with mass (such as electrons, protons, neutrons, alpha particles, etc.), the rest mass energy is\n",
    "\n",
    "\\begin{align}\n",
    "E_{rest} = m_o c^2\n",
    "\\end{align}\n",
    "\n",
    "where m_o is the mass that is given in reference tables.\n",
    "\n",
    "\n",
    "\n",
    "### Total Energy\n",
    "\n",
    "The total energy ($E_{total}$) is the sum of the rest and kinetic energies.  Therefore, for relativistic particles, the total energy is:\n",
    "\n",
    "\\begin{align}\n",
    "E_{total} &= E_{rest} + E_{kinetic}\\\\\n",
    "          &= mc^2\\\\\n",
    "          &=\\frac{m_oc^2}{\\sqrt{1-\\frac{v^2}{c^2}}}\\\\\n",
    "\\end{align}\n",
    "\n",
    "\n",
    "The above can be used for any particle, though for velocities much slower than the speed of light ($<0.1c$), one can use the simpler classical mechanics expression:\n",
    "\n",
    "\\begin{align}\n",
    "          E_{total} &= E_{rest} + E_{kinetic}\\\\\n",
    "                    &=m_o c^2 + \\frac{1}{2}m_ov^2\\\\\n",
    "\\end{align}\n",
    "\n",
    "### Exercise: Think-pair-share\n",
    "Why do photons, such as gamma and X rays, have no rest mass energy ?\n"
   ]
  },
  {
   "cell_type": "markdown",
   "metadata": {
    "deletable": true,
    "editable": true
   },
   "source": [
    "## Photon Energy\n",
    "\n",
    "The total energy of a photon, moving at the speed of light $(c=\\lambda\\nu)$ is:\n",
    "\n",
    "\\begin{align}\n",
    "E_{total} &= h\\nu\\\\\n",
    "  &= \\frac{hc}{\\lambda}\n",
    "\\end{align}\n",
    "\n",
    "where\n",
    "\n",
    "\\begin{align}\n",
    "h &=\\mbox{Planck's constant}\\\\\n",
    "\\nu &= \\mbox{frequency of the particle}\\\\\n",
    "\\lambda &= \\mbox{wavelength}\n",
    "\\end{align}\n",
    "\n"
   ]
  },
  {
   "cell_type": "code",
   "execution_count": null,
   "metadata": {
    "collapsed": true,
    "deletable": true,
    "editable": true
   },
   "outputs": [],
   "source": []
  }
 ],
 "metadata": {
  "kernelspec": {
   "display_name": "Python 3",
   "language": "python",
   "name": "python3"
  },
  "language_info": {
   "codemirror_mode": {
    "name": "ipython",
    "version": 3
   },
   "file_extension": ".py",
   "mimetype": "text/x-python",
   "name": "python",
   "nbconvert_exporter": "python",
   "pygments_lexer": "ipython3",
   "version": "3.5.2"
  }
 },
 "nbformat": 4,
 "nbformat_minor": 0
}
