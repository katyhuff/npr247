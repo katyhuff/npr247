{
 "cells": [
  {
   "cell_type": "code",
   "execution_count": 1,
   "metadata": {
    "collapsed": true,
    "deletable": true,
    "editable": true
   },
   "outputs": [],
   "source": [
    "%matplotlib inline\n",
    "\n",
    "import matplotlib\n",
    "import numpy as np\n",
    "import matplotlib.pyplot as plt\n",
    "\n",
    "plt.rcParams[\"figure.figsize\"] = (12, 9)\n",
    "plt.rcParams[\"font.size\"] = 18"
   ]
  },
  {
   "cell_type": "markdown",
   "metadata": {
    "deletable": true,
    "editable": true
   },
   "source": [
    "## Binary Nuclear Reactions\n",
    "\n",
    "### Learning Objectives:\n",
    "\n",
    "- Connect concepts in particle collisions and decay to binary reactions\n",
    "- Categorize nuclear reactions using standard nomenclature\n",
    "- Apply conservation of nucleons to binary nuclear reactions\n",
    "- Formulate Q value equations for binary nuclear reactions\n",
    "- Apply conservation of energy and linear momentum to scattering\n",
    "- Apply coulombic threshold\n",
    "- Apply kinematic threshold\n",
    "- Determine when coulombic and kinematic thresholds apply or do not"
   ]
  },
  {
   "cell_type": "markdown",
   "metadata": {
    "deletable": true,
    "editable": true
   },
   "source": [
    "## Recall from Weeks 3 & 4\n",
    "\n",
    "To acheive these objectives, we need to recall 3 major themes from weeks three and four. \n",
    "\n",
    "### 1: Compare Exothermic and Endothermic reactions\n",
    "\n",
    "- In **_exothermic_** or **_exoergic_** reactions, energy is **emitted** ($Q>0$)\n",
    "- In **_endothermic_** or **_endoergic_** reactions, energy is **absorbed** ($Q<0$)\n",
    "\n",
    "\n",
    "![https://bam.files.bbci.co.uk/bam/live/content/z23jtfr/large](https://bam.files.bbci.co.uk/bam/live/content/z23jtfr/large)\n",
    "![https://bam.files.bbci.co.uk/bam/live/content/zmbqhyc/large](https://bam.files.bbci.co.uk/bam/live/content/zmbqhyc/large)\n",
    "<center>(credit: BBC)</center>\n",
    "\n",
    "### 2:  Relate energy and mass  $E=mc^2$\n",
    "\n",
    "When the masses of reactions change, this is tied to a change in energy from whence we learn the Q value.\n",
    "This change in mass is equivalent to a change in energy because **$E=mc^2$**\n",
    "\n",
    "\\begin{align}\n",
    "A + B + \\cdots &\\rightarrow C + D + \\cdots\\\\\n",
    "\\mbox{(reactants)} &\\rightarrow \\mbox{(products)}\\\\\n",
    "\\implies \\Delta M &= (\\mbox{reactants}) - (\\mbox{products})\\\\\n",
    "         &= (M_A + M_B + \\cdots) - (M_C + M_D + \\cdots)\\\\\n",
    "\\implies \\Delta E &= \\left[(M_A + M_B + \\cdots) - (M_C + M_D + \\cdots)\\right]c^2\\\\\n",
    "\\end{align}\n",
    "\n",
    "\n",
    "### 3: Apply conservation of energy and momentum to scattering collisions\n",
    "\n",
    "Conservation of total energy and linear momentum can inform Compton scattering reactions. X-rays scattered from electrons had a change in wavelength $\\Delta\\lambda = \\lambda' - \\lambda$ proportional to $(1-\\cos{\\theta_s})$\n",
    "\n",
    "<a title=\"JabberWok [GFDL (http://www.gnu.org/copyleft/fdl.html) or CC-BY-SA-3.0 (http://creativecommons.org/licenses/by-sa/3.0/)], via Wikimedia Commons\" href=\"https://commons.wikimedia.org/wiki/File:Compton-scattering.svg\"><img width=\"128\" alt=\"Compton-scattering\" src=\"https://upload.wikimedia.org/wikipedia/commons/thumb/e/e3/Compton-scattering.svg/128px-Compton-scattering.svg.png\"></a>\n",
    "\n",
    "We used the law of cosines:\n",
    "\n",
    "\\begin{align}\n",
    "p_e^2 &= p_\\lambda^2 + p_{\\lambda'}^2 - 2p_\\lambda p_{\\lambda'}\\cos{\\theta_s}\n",
    "\\end{align}\n",
    "\n",
    "\n",
    "And we also used conservation of energy:\n",
    "\\begin{align}\n",
    "p_\\lambda c+m_ec^2 &=  p_{\\lambda'}c + mc^2\\\\\n",
    "\\mbox{where }&\\\\\n",
    "m_e&=\\mbox{rest mass of the electron}\\\\\n",
    "m &= \\mbox{relativistic electron mass after scattering}\n",
    "\\end{align}\n",
    "\n",
    "Combining these with our understanding of photon energy ($E=h\\nu=pc$) gives:\n",
    "\n",
    "\\begin{align}\n",
    "\\lambda' - \\lambda &= \\frac{h}{m_ec}(1-\\cos{\\theta_s})\\\\\n",
    "\\implies \\frac{1}{E'} - \\frac{1}{E} &= \\frac{1}{m_ec^2}(1-\\cos{\\theta_s})\\\\\n",
    "\\implies E'  &= \\left[\\frac{1}{E} + \\frac{1}{m_ec^2}(1-\\cos{\\theta_s})\\right]^{-1}\\\\\n",
    "\\end{align}"
   ]
  },
  {
   "cell_type": "markdown",
   "metadata": {
    "deletable": true,
    "editable": true
   },
   "source": [
    "## More Types of Reactions\n",
    "\n",
    "Previously we were interested in fundamental particles striking one another (e.g. the electron and proton in Compton scattering) or nuclei emitting such particles (e.g. $\\beta^\\pm$ decay).\n",
    "\n",
    "**Today:** We are interested in myriad additional reactants and/or products. In particular, we're interested in:\n",
    "\n",
    "- neutron absorption and production reactions \n",
    "- _binary, two-product nuclear reactions_ in which two products emerge with new energies after the collision."
   ]
  },
  {
   "cell_type": "code",
   "execution_count": 2,
   "metadata": {
    "collapsed": false,
    "deletable": true,
    "editable": true
   },
   "outputs": [
    {
     "data": {
      "text/html": [
       "\n",
       "        <iframe\n",
       "            width=\"1000\"\n",
       "            height=\"500\"\n",
       "            src=\"https://bookshelf.vitalsource.com/books/9781498769303/pageid/162\"\n",
       "            frameborder=\"0\"\n",
       "            allowfullscreen\n",
       "        ></iframe>\n",
       "        "
      ],
      "text/plain": [
       "<IPython.lib.display.IFrame at 0x1044eedd8>"
      ]
     },
     "execution_count": 2,
     "metadata": {},
     "output_type": "execute_result"
    }
   ],
   "source": [
    "# The below IFrame displays Page 140 of your textbook:\n",
    "# Shultis, J. K. (2016). Fundamentals of Nuclear Science and Engineering Third Edition, \n",
    "# 3rd Edition. [Vitalsource]. Retrieved from https://bookshelf.vitalsource.com/#/books/9781498769303/\n",
    "\n",
    "from IPython.display import IFrame\n",
    "IFrame(\"https://bookshelf.vitalsource.com/books/9781498769303/pageid/162\", width=1000, height=500)\n"
   ]
  },
  {
   "cell_type": "markdown",
   "metadata": {
    "deletable": true,
    "editable": true
   },
   "source": [
    "## Reaction Nomenclature\n",
    "\n",
    "**Transfer Reactions:** Nucleons (1 or 2) are transferred between the projectile and product.\n",
    "\n",
    "**Scattering reactions:** The projectile and product emerge from a collision with the same identities as when they started, exchanging only kinetic energy. \n",
    "\n",
    "**Knockout reactions:** The projectile directly interacts with the target nucleus and is re-emitted **along with** nucleons from the target nucleus.\n",
    "\n",
    "**capture reactions:** The projectile is absorbed, typically exciting the nucleus. The excited nucleus may emit that energy decaying via photon emission.\n",
    "\n",
    "**nuclear photoeffect:** A photon projectile liberates a nucleon from the target nucleus.\n",
    "\n",
    "### Think Pair Share : categorize these reactions\n",
    "\n",
    "One example of each of the above appears below. Use the definitions to categorize them.\n",
    "\n",
    "- $(n, n)$\n",
    "- $(n, \\gamma)$\n",
    "- $(n, 2n)$\n",
    "- $(\\gamma, n)$\n",
    "- $(\\alpha, n)$\n"
   ]
  },
  {
   "cell_type": "markdown",
   "metadata": {
    "deletable": true,
    "editable": true
   },
   "source": [
    "## Binary, two-product nuclear reactions\n",
    "\n",
    "**Two initial nuclei collide to form two product nuclei.**\n",
    "\n",
    "\\begin{align}\n",
    "^{A_1}_{Z_1}X_1 + ^{A_2}_{Z_2}X_2 \\longrightarrow ^{A_3}_{Z_3}X_3 + ^{A_4}_{Z_4}X_4\n",
    "\\end{align}\n",
    "\n",
    "#### Applying Conservation of Neutrons and Protons\n",
    "\n",
    "The total number of nucleons is always conserved.\n",
    "If the `______________` force is not involved, we can also apply this conservation separately.\n",
    "\n",
    "\n",
    "In most binary, two-product nuclear reactions, this is the case, so the number of protons and neutrons are conserved. Thus:\n",
    "\n",
    "\\begin{align}\n",
    "Z_1 + Z_2 = Z_3 + Z_4\\\\\n",
    "A_1 + A_2 = A_3 + A_4\n",
    "\\end{align}\n",
    "\n",
    "Apply this to the following:\n",
    "\n",
    "\\begin{align}\n",
    "^{3}_{1}H + ^{16}_{8}O \\longrightarrow \\left(X\\right)^* \\longrightarrow  ^{16}_{7}N + ^{A_4}_{Z_4}X_4\n",
    "\\end{align}\n",
    "\n",
    "### Think Pair Share:\n",
    "\n",
    "What are :\n",
    "\n",
    "- $A_4$ \n",
    "- $Z_4$\n",
    "- $X_4$?\n",
    "\n",
    "- Bonus: What is $\\left(X\\right)^*$?\n",
    "\n",
    "\n",
    "### An Aside on Nuclear Energy in the Media\n",
    "\n",
    "![https://lansce.lanl.gov/_assets/images/2017-Lujan-WNR-flightpaths-large.jpg](https://lansce.lanl.gov/_assets/images/2017-Lujan-WNR-flightpaths-large.jpg)\n",
    "<center>Prof. Huff's first job was at the LANSCE ICE HOUSE, 2003 & 2004</center>\n",
    "\n",
    "![https://scienceonblog.files.wordpress.com/2016/10/doc_with_tritium.jpg?w=816](https://scienceonblog.files.wordpress.com/2016/10/doc_with_tritium.jpg?w=816)\n",
    "<center>This image linked above is a screenshot from Spiderman 2, in 2004. <br/>\n",
    "It is owned and copyright 2004 by Marvel comics.  <br/>\n",
    "It shows Dr. Octopus and the fuel for his fusion reactor.</center>"
   ]
  },
  {
   "cell_type": "markdown",
   "metadata": {
    "deletable": true,
    "editable": true
   },
   "source": [
    "#### Applying conservation of mass and energy.\n",
    "\n",
    "The Q-value calculation is the same as it has been before. \n",
    "The Q value represents the `________` in kinetic energy and, equivalently, a `________` in the rest masses.\n",
    "\n",
    "\\begin{align}\n",
    "Q &= E_y + E_Y − E_x − E_X \\\\\n",
    " &= (m_x + m_X − m_y − m_Y )c^2\\\\\n",
    " &= \\left(m\\left(^{A_1}_{Z_1}X_1\\right) + m\\left(^{A_2}_{Z_2}X_2\\right) - m\\left(^{A_3}_{Z_3}X_3\\right) - m\\left(^{A_4}_{Z_4}X_4\\right)\\right)c^2\\\\\n",
    "\\end{align}\n",
    "\n",
    "If proton numbers are conserved (true for everything but electron capture or reactions involving the weak force.), we can use the approximation that $m(X) = M(X)$.\n",
    "\n",
    "\\begin{align}\n",
    "Q &= E_y + E_Y − E_x − E_X \\\\\n",
    "  &= (m_x + m_X − m_y − m_Y )c^2\\\\\n",
    "  &= (M_x + M_X − M_y − M_Y )c^2\\\\\n",
    "   &= \\left(M\\left(^{A_1}_{Z_1}X_1\\right) + M\\left(^{A_2}_{Z_2}X_2\\right) - M\\left(^{A_3}_{Z_3}X_3\\right) - M\\left(^{A_4}_{Z_4}X_4\\right)\\right)c^2\\\\\n",
    "\\end{align}"
   ]
  },
  {
   "cell_type": "code",
   "execution_count": 3,
   "metadata": {
    "collapsed": false,
    "deletable": true,
    "editable": true
   },
   "outputs": [
    {
     "name": "stdout",
     "output_type": "stream",
     "text": [
      "Q:  -10.401892923148063\n"
     ]
    }
   ],
   "source": [
    "def q(m_reactants, m_products):\n",
    "    \"\"\"Returns Q\n",
    "        \n",
    "    Parameters\n",
    "    ----------\n",
    "    m_reactants: list (of doubles)\n",
    "        the masses of the reactant atoms [amu]\n",
    "    m_products : list (of doubles)\n",
    "        the masses of the product atoms [amu]\n",
    "    \"\"\"\n",
    "    amu_to_mev = 931.5 # MeV/amu conversion\n",
    "    m_difference = sum(m_reactants) - sum(m_products)\n",
    "    return m_difference*amu_to_mev\n",
    "\n",
    "\n",
    "# Look up the masses:\n",
    "h_3_mass = 3.0160492675\n",
    "o_16_mass = 15.9949146221\n",
    "he_3_mass = 3.0160293097\n",
    "n_16_mass = 16.0061014\n",
    "\n",
    "m_react = [h_3_mass, o_16_mass]\n",
    "m_prods = [he_3_mass, n_16_mass]\n",
    "\n",
    "print(\"Q: \", q(m_react, m_prods))"
   ]
  },
  {
   "cell_type": "markdown",
   "metadata": {
    "deletable": true,
    "editable": true
   },
   "source": [
    "#### Applying conservation of linear momentum\n",
    "\n",
    "Let's get back to collision kinematics. \n",
    "\n",
    "First, we'll assume the target nucleus ($X_2$) is initially at rest.\n",
    "\n",
    "##### Question: How do we handle the case when the incident and target nuclei both have initial velocity?\n",
    "\n",
    "##### Harder Question: How do we handle the case when the incident and target nuclei are accelerating with respect to each other?\n",
    "\n",
    "![https://upload.wikimedia.org/wikipedia/commons/thumb/f/f8/Question_mark_alternate.svg/369px-Question_mark_alternate.svg.png](https://upload.wikimedia.org/wikipedia/commons/thumb/f/f8/Question_mark_alternate.svg/369px-Question_mark_alternate.svg.png)\n",
    "\n",
    "If $E_i$ is the kinetic energy of the $i^{th}$ nucleus.\n",
    "\n",
    "\\begin{align}\n",
    "Ex = Ey + EY − Q.\n",
    "\\end{align}\n",
    "\n",
    "\n",
    "![./collision.png](./collision.png) "
   ]
  },
  {
   "cell_type": "code",
   "execution_count": 4,
   "metadata": {
    "collapsed": false,
    "deletable": true,
    "editable": true,
    "scrolled": true
   },
   "outputs": [
    {
     "data": {
      "text/html": [
       "\n",
       "        <iframe\n",
       "            width=\"1000\"\n",
       "            height=\"500\"\n",
       "            src=\"https://bookshelf.vitalsource.com/books/9781498769303/pageid/162\"\n",
       "            frameborder=\"0\"\n",
       "            allowfullscreen\n",
       "        ></iframe>\n",
       "        "
      ],
      "text/plain": [
       "<IPython.lib.display.IFrame at 0x104505240>"
      ]
     },
     "execution_count": 4,
     "metadata": {},
     "output_type": "execute_result"
    }
   ],
   "source": [
    "# The below IFrame displays Page 140 of your textbook:\n",
    "# Shultis, J. K. (2016). Fundamentals of Nuclear Science and Engineering Third Edition, \n",
    "# 3rd Edition. [Vitalsource]. Retrieved from https://bookshelf.vitalsource.com/#/books/9781498769303/\n",
    "\n",
    "from IPython.display import IFrame\n",
    "IFrame(\"https://bookshelf.vitalsource.com/books/9781498769303/pageid/162\", width=1000, height=500)"
   ]
  },
  {
   "cell_type": "markdown",
   "metadata": {
    "collapsed": true,
    "deletable": true,
    "editable": true
   },
   "source": [
    "# Kinematic Threshold\n",
    "\n",
    "Relying on a combination of kinetic energies $E_i$ and corresponding linear momenta:\n",
    "\n",
    "\\begin{align}\n",
    "p_i = \\sqrt{2m_iE_i}\n",
    "\\end{align}\n",
    "\n",
    "We can determine that some reactions aren't possible without a certain minimum quantity of kinetic energy. \n",
    "\n",
    "The solution to $E_3$ can become nonphysical if :\n",
    "\n",
    "- $\\cos{\\theta_3} < 0$\n",
    "- $Q < 0$\n",
    "- $m_4 - m_1 < 0$\n",
    "\n",
    "## For Exoergic Reactions ($Q>0$)\n",
    "\n",
    "For $Q>0$ and $m_{4} > m_{1}$, $E_{3} = (a + \\sqrt{a^2+b^2})^2$ is the only real, positive, meaningful solution. \n",
    "\n",
    "The kinetic energy of $E_3$ is, at minimum, the energy arrived at when $p_1 = 0$. Thus:\n",
    "\n",
    "\\begin{align}\n",
    "E_3 \\longrightarrow& \\frac{m_4}{m_3 + m_4}Q\\\\\n",
    "&\\mbox{ when } Q>0, p_1=0\n",
    "\\end{align}\n",
    "\n",
    "So, no exoergic reactions are restricted by kinetics, as $Q = E_3 + E_4$, for the minimum linear momentum case, which is real and positive. \n",
    "\n",
    "## For Endoergic Reactions ($Q<0$)\n",
    "Some $Q<0$ reactions aren't possible without a certain minimum quantity of kinetic energy. \n",
    "\n",
    "\n",
    "For $Q<0$ and $m_{4} > m_{1}$, some values of $E_{1}$ are too small to carry forward a real, positive solution. That is, the incident projectile must supply a minimum amount of kinetic energy before the reaction can occur. Without this energy, the solution for $E_3$ results in physically meaningless values. This minimum energy can be found from eqn 6.11 in your book and is :\n",
    "\n",
    "\\begin{align}\n",
    "E_1^{th,k} = -\\frac{m_3 + m_4}{m_3 + m_4 - m_1}Q.\n",
    "\\end{align}\n",
    "\n",
    "One can often simplify this (assuming $m_i >> Q/c^2$ and $m_3 + m_4 - m_1 \\simeq m_2$)  :\n",
    "\n",
    "\n",
    "\\begin{align}\n",
    "E_1^{th,k} \\simeq - \\left( 1 + \\frac{m_1}{m_2} \\right)Q.\n",
    "\\end{align}"
   ]
  },
  {
   "cell_type": "code",
   "execution_count": 5,
   "metadata": {
    "collapsed": true,
    "deletable": true,
    "editable": true
   },
   "outputs": [],
   "source": [
    "def kinematic_threshold(m_1, m_3, m_4, Q):\n",
    "    \"\"\"Returns the kinematic threshold energy [MeV]\n",
    "        \n",
    "    Parameters\n",
    "    ----------\n",
    "    m_1: double\n",
    "        mass of incident projectile\n",
    "    m_3: double\n",
    "        mass of first product        \n",
    "    m_3: double\n",
    "        mass of second product        \n",
    "    Q : double\n",
    "        Q-value for the reaction [MeV]\n",
    "    \"\"\"\n",
    "    num = -(m_3 + m_4)*Q\n",
    "    denom = m_3 + m_4 - m_1\n",
    "    return num/denom\n",
    "\n",
    "def kinematic_threshold_simple(m_1, m_2, Q):\n",
    "    \"\"\"Returns the coulombic threshold energy [MeV]\n",
    "        \n",
    "    Parameters\n",
    "    ----------\n",
    "    m_1: double\n",
    "        mass of incident projectile\n",
    "    m_2: double\n",
    "        mass of target              \n",
    "    Q : double\n",
    "        Q-value for the reaction [MeV]\n",
    "    \"\"\"\n",
    "    to_return = -(1 + m_1/m_2)*Q\n",
    "    return to_return"
   ]
  },
  {
   "cell_type": "markdown",
   "metadata": {
    "deletable": true,
    "editable": true
   },
   "source": [
    "# Coulombic Threshold\n",
    "\n",
    "Coulomb forces repel a projectile if it is:\n",
    "\n",
    "- a positively charged nucleus\n",
    "- a proton\n",
    "\n",
    "The force between the projectile (particle 1) and the target nucleus (particle 2) is :\n",
    "\n",
    "\\begin{align}\n",
    "&F_C = \\frac{Z_1Z_2e^2}{4\\pi\\epsilon_0r^2}\\\\\n",
    "\\mbox{where}&&\\\\\n",
    "&\\epsilon_0 = \\mbox{the permittivity of free space.}\n",
    "\\end{align}\n",
    "\n",
    "### Think pair share:\n",
    "What are the other terms in the above equation:\n",
    "\n",
    "- $Z_1$ ?\n",
    "- $Z_2$ ?\n",
    "- $e$ ?\n",
    "- $r$ ?\n"
   ]
  },
  {
   "cell_type": "markdown",
   "metadata": {
    "deletable": true,
    "editable": true
   },
   "source": [
    "By evaluating the work function for approach to the nucleus with a coulomb barrier, we can establish that the coulombic threshold energy (in MeV) is :\n",
    "\n",
    "\\begin{align}\n",
    "E_1^{th,C} \\simeq 1.20 \\frac{Z_1Z_2}{A_1^{1/3}+A_2^{1/3}}\n",
    "\\end{align}"
   ]
  },
  {
   "cell_type": "code",
   "execution_count": 6,
   "metadata": {
    "collapsed": true,
    "deletable": true,
    "editable": true
   },
   "outputs": [],
   "source": [
    "def colombic_threshold(z_1, z_2, a_1, a_2):\n",
    "    \"\"\"Returns the coulombic threshold energy [MeV]\n",
    "        \n",
    "    Parameters\n",
    "    ----------\n",
    "    z_1: int\n",
    "        proton number of incident projectile\n",
    "    z_2: int\n",
    "        proton number of target \n",
    "    a_1 : int or double\n",
    "        mass number of the incident projectile [amu]\n",
    "    a_2 : int or double\n",
    "        mass number of the target [amu]\n",
    "    \"\"\"\n",
    "    num = 1.20*z_1*z_2\n",
    "    denom = pow(a_1, 1/3) + pow(a_2, 1/3)\n",
    "    return num/denom"
   ]
  },
  {
   "cell_type": "markdown",
   "metadata": {
    "deletable": true,
    "editable": true
   },
   "source": [
    "### Think Pair Share \n",
    "\n",
    "Which thresholds apply to the below situations:\n",
    "\n",
    "- A chargeless incident particle, reaction $Q>0$\n",
    "- A chargeless incident particle, reaction $Q<0$\n",
    "- A positively charged incident particle, reaction $Q>0$\n",
    "- A positively charged incident particle, reaction $Q<0$"
   ]
  },
  {
   "cell_type": "markdown",
   "metadata": {
    "deletable": true,
    "editable": true
   },
   "source": [
    "## Overall threshold\n",
    "\n",
    "For the case where both thresholds apply, the minimum energy for the reaction to occur is the highest of the two thresholds. \n",
    "\n",
    "\\begin{align}\n",
    "\\min{\\left(E_1^{th}\\right)}\t= \\max{\\left(E^{th,C}_1,E_1^{th,k}\\right)}.\n",
    "\\end{align}"
   ]
  },
  {
   "cell_type": "markdown",
   "metadata": {
    "deletable": true,
    "editable": true
   },
   "source": [
    "## Example\n",
    "\n",
    "Take the (p, n) reaction from $^{9}Be\\longrightarrow^{9}B$. We will need to calculate:\n",
    "\n",
    "- The Q value\n",
    "- The kinematic threshold (if it applies)\n",
    "- The coulombic threshold (if it applies)\n",
    "- Determine which one is higher"
   ]
  },
  {
   "cell_type": "code",
   "execution_count": 7,
   "metadata": {
    "collapsed": false,
    "deletable": true,
    "editable": true
   },
   "outputs": [
    {
     "name": "stdout",
     "output_type": "stream",
     "text": [
      "Q:  -1.8505028887843764\n"
     ]
    }
   ],
   "source": [
    "# Q value\n",
    "# Look up the masses:\n",
    "be_9_mass = 9.0121821\n",
    "b_9_mass = 9.0133288\n",
    "n_mass = 1.0086649158849\n",
    "p_mass = 1.007825032 # hydrogen nucleus!\n",
    "\n",
    "m_react = [be_9_mass, p_mass]\n",
    "m_prods = [b_9_mass, n_mass]\n",
    "\n",
    "q_example = q(m_react, m_prods)\n",
    "print(\"Q: \", q_example)"
   ]
  },
  {
   "cell_type": "code",
   "execution_count": 8,
   "metadata": {
    "collapsed": false,
    "deletable": true,
    "editable": true
   },
   "outputs": [
    {
     "name": "stdout",
     "output_type": "stream",
     "text": [
      "E_k_th:  2.0573975230549033\n",
      "E_k_th (simplified):  2.0574431294953586\n"
     ]
    }
   ],
   "source": [
    "# Kinematic Threshold\n",
    "# Which particles were which again?\n",
    "m_1 = p_mass\n",
    "m_2 = be_9_mass\n",
    "m_3 = n_mass\n",
    "m_4 = b_9_mass\n",
    "\n",
    "# Calculate using both regular and simpler methods\n",
    "E_k_th = kinematic_threshold(m_1, m_3, m_4, q_example)\n",
    "E_k_th_simple = kinematic_threshold_simple(m_1, m_2, q_example)\n",
    "print(\"E_k_th: \", E_k_th)\n",
    "print(\"E_k_th (simplified): \", E_k_th_simple)"
   ]
  },
  {
   "cell_type": "code",
   "execution_count": 9,
   "metadata": {
    "collapsed": false,
    "deletable": true,
    "editable": true
   },
   "outputs": [
    {
     "name": "stdout",
     "output_type": "stream",
     "text": [
      "E_c_th:  1.558399146177754\n"
     ]
    }
   ],
   "source": [
    "# Coulombic Threshold\n",
    "# Need some charge info and mass numbers\n",
    "z_1 = 1 # proton\n",
    "z_2 = 4 # Be\n",
    "a_1 = 1 # proton\n",
    "a_2 = 9 # Be\n",
    "\n",
    "E_c_th = colombic_threshold(z_1, z_2, a_1, a_2)\n",
    "\n",
    "print(\"E_c_th: \", E_c_th)"
   ]
  },
  {
   "cell_type": "code",
   "execution_count": 10,
   "metadata": {
    "collapsed": false,
    "deletable": true,
    "editable": true
   },
   "outputs": [
    {
     "name": "stdout",
     "output_type": "stream",
     "text": [
      "Total threshold:  2.0573975230549033\n"
     ]
    }
   ],
   "source": [
    "## Which one is higher?\n",
    "\n",
    "print(\"Total threshold: \", max(E_c_th, E_k_th))"
   ]
  },
  {
   "cell_type": "markdown",
   "metadata": {
    "collapsed": true,
    "deletable": true,
    "editable": true
   },
   "source": [
    "# Applications: Neutron Detection\n",
    "Neutron's don't tend to directly ionize matter as they pass through. However, they can instigate nuclear reactions which produce charged products. These products, in turn, can be detected due to the ionization they create. The scheme for a Boron Trifluoride detector is below (hosted at https://www.orau.org/ptp/collection/proportional%20counters/bf3info.htm).\n",
    "\n",
    "![https://www.orau.org/ptp/collection/proportional%20counters/bf3inf1.gif](https://www.orau.org/ptp/collection/proportional%20counters/bf3inf1.gif)\n",
    "\n",
    "The wall effect results in the following spectrum (approximately):\n",
    "![https://www.orau.org/ptp/collection/proportional%20counters/bf3inf2.gif](https://www.orau.org/ptp/collection/proportional%20counters/bf3inf2.gif)\n",
    "\n",
    "In (n,p) reactions, for example, variation in emission angle of particle 3 can be used to determine the energy of the original incident neutron."
   ]
  },
  {
   "cell_type": "markdown",
   "metadata": {
    "deletable": true,
    "editable": true
   },
   "source": [
    "# Applications: Neutron Production\n",
    "Specific neutron energies can be targetted by collecting them at a certain angle away from the production collision.\n",
    "\n",
    "\n",
    "![https://lansce.lanl.gov/_assets/images/2017-Lujan-WNR-flightpaths-large.jpg](https://lansce.lanl.gov/_assets/images/2017-Lujan-WNR-flightpaths-large.jpg)\n",
    "<center>The accelerator and spallation target at LANSCE and other spallation experiments rely on this fact.<br>Prof. Huff's first job was at the LANSCE ICE HOUSE, 2003 & 2004</center>\n",
    "\n",
    "\n",
    "## Two energies\n",
    "\n",
    "In (p,n) reactions, for example, certain proton energies may result in more than one neutron energy observed at a single angle. How? \n",
    "\n",
    "Recall the equation (Shultis and Faw 6.11):\n",
    "\n",
    "\\begin{align}\n",
    "\\sqrt{E_y}=&\\sqrt{\\frac{m_xm_yE_x}{(m_y + m_Y)^2}}\\cos\\theta_y \\\\\n",
    "&\\pm \\sqrt{\\frac{m_xm_yE_x}{(m_y + m_Y)^2}\\cos^2\\theta_y + \\left[\\frac{m_Y-m_x}{(m_y + m_Y)}E_x + \\frac{m_YQ}{(m_y + m_Y)}\\right]}\n",
    "\\end{align}\n",
    "\n",
    "Prof. Huff prefers this notation: \n",
    "\\begin{align}\n",
    "\\sqrt{E_3}=&\\sqrt{\\frac{m_1m_3E_1}{(m_3 + m_4)^2}}\\cos\\theta_3 \\\\\n",
    "&\\pm \\sqrt{\\frac{m_1m_3E_1}{(m_3 + m_4)^2}\\cos^2\\theta_3 + \\left[\\frac{m_4-m_1}{(m_3 + m_4)}E_1 + \\frac{m_4Q}{(m_3 + m_4)}\\right]}\n",
    "\\end{align}"
   ]
  },
  {
   "cell_type": "markdown",
   "metadata": {
    "deletable": true,
    "editable": true
   },
   "source": [
    "## Heavy Particle scattering from an electron\n",
    "\n",
    "Much like the Compton reaction we saw between photons and electrons, we can see a similar reaction with heavy particles. Occaisionally, a heavy particle (e.g. a small nucleus, like an $\\alpha$ particle) striking the orbital electrons in atoms of a medium.\n",
    "\n",
    "Thus: particles 2 and 3 are the electron. So:\n",
    "\n",
    "\\begin{align} \n",
    "m_2 &= m_3 = m_e = \\mbox{(the electron mass)}\\\\\n",
    "E_3 &= E_e = \\mbox{(the recoil electron energy)}\\\\\n",
    "m_1 &= m_4 = \\mbox{(the mass of the heavy particle)}\\\\\n",
    "E_1 &= E_4 = \\mbox{(the kinetic energy of the incident heavy particle)}\n",
    "\\end{align}\n",
    "\n",
    "For this scattering process, there is no change in the rest masses of the reactants, so Q = 0. \n",
    "\n",
    "We can use the Shutlis and Faw 6.11 equation above to arrive at:\n",
    "\n",
    "\\begin{align}\n",
    "\\sqrt{E_e}=& \\frac{2}{m_4 + m_e}\\sqrt{m_4m_eE_4}\\cos{\\theta_e}\n",
    "\\end{align}\n",
    "\n",
    "We can approximate that $m_4 >> m_e$ such that the electron recoil energy becomes:\n",
    "\n",
    "\\begin{align}\n",
    "\\implies E_e =& 4\\frac{m_e}{m_4}E_4\\cos^2{\\theta_e}\n",
    "\\end{align}\n",
    "\n",
    "## Think Pair Share\n",
    "What angle, $\\theta_e$, corresponds to the maximimum loss of kinetic energy by the incident heavy particle?\n",
    "\n",
    "![https://upload.wikimedia.org/wikipedia/commons/thumb/f/f8/Question_mark_alternate.svg/369px-Question_mark_alternate.svg.png](https://upload.wikimedia.org/wikipedia/commons/thumb/f/f8/Question_mark_alternate.svg/369px-Question_mark_alternate.svg.png)\n",
    "\n",
    "At $\\theta_e=0$, we find that:\n",
    "\n",
    "\\begin{align}\n",
    "(E_e)_{max} = 4\\frac{m_e}{m_4}E_4\n",
    "\\end{align}"
   ]
  },
  {
   "cell_type": "code",
   "execution_count": 15,
   "metadata": {
    "collapsed": false,
    "deletable": true,
    "editable": true
   },
   "outputs": [],
   "source": [
    "import math \n",
    "def recoil_energy(m_4, e_4, theta_e):\n",
    "    m_e = 0.0005486 # amu\n",
    "    num = 4*m_e*e_4*pow(math.cos(theta_e), 2)\n",
    "    return num/m_4\n"
   ]
  },
  {
   "cell_type": "code",
   "execution_count": 16,
   "metadata": {
    "collapsed": false,
    "deletable": true,
    "editable": true
   },
   "outputs": [
    {
     "data": {
      "text/plain": [
       "<matplotlib.legend.Legend at 0x10e66b390>"
      ]
     },
     "execution_count": 16,
     "metadata": {},
     "output_type": "execute_result"
    },
    {
     "data": {
      "image/png": "[encoded data removed]",
      "text/plain": [
       "<matplotlib.figure.Figure at 0x10e6d2898>"
      ]
     },
     "metadata": {},
     "output_type": "display_data"
    }
   ],
   "source": [
    "th = [math.radians(-90),\n",
    "      math.radians(-75),\n",
    "      math.radians(-60),\n",
    "      math.radians(-45),\n",
    "      math.radians(-30),\n",
    "      math.radians(-15),\n",
    "      math.radians(0), \n",
    "      math.radians(15),\n",
    "      math.radians(30),\n",
    "      math.radians(45),\n",
    "      math.radians(60),\n",
    "      math.radians(75),\n",
    "      math.radians(90)]\n",
    "\n",
    "m_4 = 4.003 # alpha particle\n",
    "\n",
    "to_plot_4 = np.arange(0.,len(th))\n",
    "to_plot_10 = np.arange(0.,len(th))\n",
    "\n",
    "for k, v in enumerate(th):\n",
    "    to_plot_4[k] = (recoil_energy(m_4, 4, v))\n",
    "    to_plot_10[k] = (recoil_energy(m_4, 10, v))\n",
    "\n",
    "\n",
    "plt.plot(th, to_plot_4, label=\"$4MeV$\")\n",
    "plt.plot(th, to_plot_10, label=\"$10MeV$\")\n",
    "\n",
    "plt.ylabel(\"Electron Recoil Energy ($MeV$)\")\n",
    "plt.xlabel(\"Angle (radians)\")\n",
    "plt.legend(loc=2)"
   ]
  },
  {
   "cell_type": "code",
   "execution_count": 17,
   "metadata": {
    "collapsed": false,
    "deletable": true,
    "editable": true
   },
   "outputs": [
    {
     "name": "stdout",
     "output_type": "stream",
     "text": [
      "Max (4MeV alpha):  0.002192755433424931\n"
     ]
    }
   ],
   "source": [
    "\n",
    "th = 0\n",
    "m_4 = 4.003 # alpha particle\n",
    "e_4 = 4 # MeV\n",
    "\n",
    "print(\"Max (4MeV alpha): \", recoil_energy(m_4, e_4, th))"
   ]
  },
  {
   "cell_type": "markdown",
   "metadata": {},
   "source": [
    "## Neutron Scattering\n",
    "\n",
    "### Neutron interactions with matter.\n",
    "\n",
    "\\begin{align}\n",
    "^1_0n + {^a_z}X \\longrightarrow \n",
    "\\begin{cases}\n",
    "^1_0n + {^a_z}X  & \\mbox{Elastic Scattering}\\\\\n",
    "^1_0n + \\left({^a_z}X\\right)^*  & \\mbox{Inlastic Scattering}\n",
    "\\end{cases}\n",
    "\\end{align}\n",
    "\n",
    "![./neutron-int-matter.png](./neutron-int-matter.png)\n",
    "\n",
    "Using the ubiquitous equation 6.11 for a neutron scatter:\n",
    "\n",
    "\\begin{align}\n",
    "\\sqrt{E_3}=&\\sqrt{\\frac{m_1m_3E_1}{(m_3 + m_4)^2}}\\cos\\theta_3 \\\\\n",
    "&\\pm \\sqrt{\\frac{m_1m_3E_1}{(m_3 + m_4)^2}\\cos^2\\theta_3 + \\left[\\frac{m_4-m_1}{(m_3 + m_4)}E_1 + \\frac{m_4Q}{(m_3 + m_4)}\\right]}\\\\\n",
    "\\end{align}\n",
    "\n",
    "We can define our particles as a neutron hitting a nucleus and changing in its energy.\n",
    "\n",
    "\\begin{align}\n",
    "m_1 = m_3 = m_n\\\\\n",
    "E_1 = E_n\\\\\n",
    "E_3 = E_n'\\\\\n",
    "\\end{align}\n",
    "\n",
    "Such that:\n",
    "\n",
    "\\begin{align}\n",
    "\\sqrt{E_n'} =&\\sqrt{\\frac{m_nm_nE_n}{(m_n + m_4)^2}}\\cos\\theta_s \\\\\n",
    "&\\pm \\sqrt{\\frac{m_nm_nE_n}{(m_n + m_4)^2}\\cos^2\\theta_s + \\left[\\frac{m_4-m_n}{(m_n + m_4)}E_n + \\frac{m_4Q}{(m_n + m_4)}\\right]}\n",
    "\\end{align}\n",
    "\n",
    "We can also agree that $m_2=m_4$, which is some nucleus with a mass that is approximately the same at the beginning and end of the scatter (approximate if the scattering is inelastic) . This gives, with some rearrangement:\n",
    "\n",
    "\\begin{align}\n",
    "\\sqrt{E_n'} &= \\frac{1}{m_4 + m_n}\\times\\\\ &\\left[\\sqrt{m_n^2E_n}\\cos{\\theta_s} \\pm \\sqrt{E(m_4^2 + m_n^2\\cos^2{\\theta_s} − m_n^2) + m_4 ( m_4 + m_n ) Q }\\right]\n",
    "\\end{align}\n",
    "\n",
    "And, for elastic scattering ($Q=0$):\n",
    "\n",
    "\\begin{align}\n",
    "E' = \\frac{1}{(A+1)^2}\\left[\\sqrt{E}\\cos{\\theta_s} + \\sqrt{E(A^2 - 1 + \\cos{\\theta_s}^2)}\\right]^2\n",
    "\\end{align}\n"
   ]
  },
  {
   "cell_type": "code",
   "execution_count": null,
   "metadata": {
    "collapsed": true
   },
   "outputs": [],
   "source": [
    "def scattered_neutron_energy(A, E, th):\n",
    "    \"\"\"Returns the energy of a scattered neutron [MeV]\n",
    "    Parameters\n",
    "    ----------\n",
    "    A: int \n",
    "        mass number of incident projectile\n",
    "    m_3: double\n",
    "        mass of first product        \n",
    "    m_3: double\n",
    "        mass of second product        \n",
    "    Q : double\n",
    "        Q-value for the reaction [MeV]\n",
    "    \"\"\"\n",
    "    \"\"\"\n",
    "    "
   ]
  },
  {
   "cell_type": "markdown",
   "metadata": {
    "deletable": true,
    "editable": true
   },
   "source": [
    "### Cross sections\n",
    "\n",
    "The likelihood of each of these events is captured by cross sections. \n",
    "\n",
    "- $\\sigma_x = $ microscopic cross section $[cm^2]$\n",
    "- $\\Sigma_x = $ macroscopic cross section $[1/length]$\n",
    "- $\\Sigma_x = N\\sigma_x $\n",
    "- $N = $ number density of target atoms $[\\#/volume]$\n",
    "\n",
    "\n",
    "### Cross sections are in units of area. Explain this to your neighbor."
   ]
  },
  {
   "cell_type": "markdown",
   "metadata": {
    "collapsed": true,
    "deletable": true,
    "editable": true
   },
   "source": [
    "### What energy neutron do we prefer for fission in U235?\n",
    "![https://universe-review.ca/I14-03-crossection.png](https://universe-review.ca/I14-03-crossection.png)"
   ]
  }
 ],
 "metadata": {
  "kernelspec": {
   "display_name": "Python 3",
   "language": "python",
   "name": "python3"
  },
  "language_info": {
   "codemirror_mode": {
    "name": "ipython",
    "version": 3
   },
   "file_extension": ".py",
   "mimetype": "text/x-python",
   "name": "python",
   "nbconvert_exporter": "python",
   "pygments_lexer": "ipython3",
   "version": "3.5.2"
  }
 },
 "nbformat": 4,
 "nbformat_minor": 0
}
