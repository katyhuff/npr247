{
 "cells": [
  {
   "cell_type": "markdown",
   "metadata": {
    "deletable": true,
    "editable": true
   },
   "source": [
    "## Nuclear Environmental Incidents\n",
    "\n",
    "## Learning Objectives\n",
    "\n",
    "After this section, the student will be able to:\n",
    "\n",
    "- Discuss the history of man-made environmental disasters.\n",
    "- List signficant nuclear related environmental disasters.\n",
    "- Describe the timeline of events at TMI, Chernobyl, and Fukushima.\n",
    "- Understand the scope and magnitude of environmental impacts from such accidents.\n",
    "- Compare the relative magnitudes of accidents at Chernobyl, TMI, and Fukushima.\n",
    "\n",
    "- Recall decay chains and the population equation.\n",
    "- List key isotopes of concern and their biological impacts.\n",
    "- Apply your understanding of decay and the population equation to decay and in-growth of radionuclide contaminants from a source term.\n",
    "\n",
    "\n",
    "- Understand cleanup efforts and safety standards.\n",
    "- Understand the relationship between stress and death."
   ]
  },
  {
   "cell_type": "markdown",
   "metadata": {
    "deletable": true,
    "editable": true
   },
   "source": [
    "## Worst Man Made Environmental Disasters?"
   ]
  },
  {
   "cell_type": "code",
   "execution_count": 2,
   "metadata": {
    "collapsed": false,
    "deletable": true,
    "editable": true
   },
   "outputs": [
    {
     "data": {
      "text/html": [
       "\n",
       "        <iframe\n",
       "            width=\"100%\"\n",
       "            height=\"700\"\n",
       "            src=\"https://embed.polleverywhere.com/free_text_polls/m8w1TGX9Upl8qqE?controls=none&short_poll=true\"\n",
       "            frameborder=\"0\"\n",
       "            allowfullscreen\n",
       "        ></iframe>\n",
       "        "
      ],
      "text/plain": [
       "<IPython.lib.display.IFrame at 0x104629278>"
      ]
     },
     "execution_count": 2,
     "metadata": {},
     "output_type": "execute_result"
    }
   ],
   "source": [
    "from IPython.display import IFrame\n",
    "IFrame(src=\"https://embed.polleverywhere.com/free_text_polls/m8w1TGX9Upl8qqE?controls=none&short_poll=true\", width=\"100%\", height=\"700\")"
   ]
  },
  {
   "cell_type": "markdown",
   "metadata": {
    "deletable": true,
    "editable": true
   },
   "source": [
    "An interesting list here: https://en.wikipedia.org/wiki/Energy_accidents\n",
    "\n",
    "\n",
    "![http://www.livemint.com/rf/Image-621x414/LiveMint/Period1/2014/11/01/Photos/unioncarbide--621x414.jpg](http://www.livemint.com/rf/Image-621x414/LiveMint/Period1/2014/11/01/Photos/unioncarbide--621x414.jpg) \n",
    "\n",
    "[//]: # (2-3 December 1984, Bhopal, thousands of deaths (at least 4000, hundreds of thousands of injuries)\n",
    "\n",
    "![https://upload.wikimedia.org/wikipedia/commons/thumb/0/02/Nelson%27s_Column_during_the_Great_Smog_of_1952.jpg/240px-Nelson%27s_Column_during_the_Great_Smog_of_1952.jpg](https://upload.wikimedia.org/wikipedia/commons/thumb/0/02/Nelson%27s_Column_during_the_Great_Smog_of_1952.jpg/240px-Nelson%27s_Column_during_the_Great_Smog_of_1952.jpg)\n",
    "\n",
    "[//]: # (1952 Great Smog of London, perhaps 12000 people dead, It lasted from Friday, 5 December to Tuesday, 9 December 1952 and then dispersed quickly when the weather changed.)\n",
    "\n",
    "![https://img.washingtonpost.com/rf/image_1484w/2010-2019/WashingtonPost/2016/04/20/Interactivity/Images/AP_860401039.jpg](https://img.washingtonpost.com/rf/image_1484w/2010-2019/WashingtonPost/2016/04/20/Interactivity/Images/AP_860401039.jpg)\n",
    "\n",
    "[//]: # (26 April 1986, Chernobyl, 28 people dead from direct radiation exposure, hundreds of radiation injuries to workers, thousands of cases of thyroid cancer)\n",
    "\n",
    "\n",
    "![https://upload.wikimedia.org/wikipedia/commons/thumb/9/9d/Deepwater_Horizon_offshore_drilling_unit_on_fire_2010.jpg/220px-Deepwater_Horizon_offshore_drilling_unit_on_fire_2010.jpg](https://upload.wikimedia.org/wikipedia/commons/thumb/9/9d/Deepwater_Horizon_offshore_drilling_unit_on_fire_2010.jpg/220px-Deepwater_Horizon_offshore_drilling_unit_on_fire_2010.jpg)\n",
    "\n",
    "[//]: # (2010 Deepwater Horizon, 11 people dead, leaked for 87 days,  780,000 cubic meters of oil spilled. 2,500 to 68,000 sq mi of ocean)\n",
    "\n",
    "\n",
    "![http://nuclear-energy.net/media/accidentes_nucleares/fukushima/nuclear-reators-fukushima.jpg](http://nuclear-energy.net/media/accidentes_nucleares/fukushima/nuclear-reators-fukushima.jpg)\n",
    "\n",
    "[//]: # (March 2011, Fukushima Daiichi, none dead due to direct radiation impact, 131 I, 137 Cs releases in the PBq.)\n",
    "\n",
    "### Superfund Sites\n",
    "\n",
    "![https://upload.wikimedia.org/wikipedia/commons/9/91/Superfund_sites.svg](https://upload.wikimedia.org/wikipedia/commons/9/91/Superfund_sites.svg)"
   ]
  },
  {
   "cell_type": "code",
   "execution_count": null,
   "metadata": {
    "collapsed": true,
    "deletable": true,
    "editable": true
   },
   "outputs": [],
   "source": []
  },
  {
   "cell_type": "markdown",
   "metadata": {
    "deletable": true,
    "editable": true
   },
   "source": [
    "## Three Mile Island\n",
    "![http://darkroom.baltimoresun.com/wp-content/uploads/2014/03/BLM-US-NUCLEAR.jpg](http://darkroom.baltimoresun.com/wp-content/uploads/2014/03/BLM-US-NUCLEAR.jpg)\n",
    "\n",
    "\n",
    "![http://www.robinsonlibrary.com/technology/electrical/production/graphics/3mile3.jpg](http://www.robinsonlibrary.com/technology/electrical/production/graphics/3mile3.jpg)\n",
    "\n",
    "![http://www.nrc.gov/reading-rm/doc-collections/fact-sheets/tmi-animation.gif](http://www.nrc.gov/reading-rm/doc-collections/fact-sheets/tmi-animation.gif)\n",
    "\n",
    "### Effects of TMI\n",
    "\n",
    "> The approximately 2 million people around TMI-2 during the accident are estimated to have received an average radiation dose of only about 1 millirem above the usual background dose. To put this into context, exposure from a chest X-ray is about 6 millirem and the area's natural radioactive background dose is about 100-125 millirem per year for the area. The accident's maximum dose to a person at the site boundary would have been less than 100 millirem above background. -- [http://www.nrc.gov/reading-rm/doc-collections/fact-sheets/3mile-isle.html](http://www.nrc.gov/reading-rm/doc-collections/fact-sheets/3mile-isle.html)"
   ]
  },
  {
   "cell_type": "markdown",
   "metadata": {
    "deletable": true,
    "editable": true
   },
   "source": [
    "## Chernobyl\n",
    "\n",
    "The following timeline is adapted from [WNA](http://www.world-nuclear.org/information-library/safety-and-security/safety-of-plants/appendices/chernobyl-accident-appendix-1-sequence-of-events.aspx) .\n",
    "\n",
    "### 25 April 1986.\n",
    "\n",
    "- 01:06\tScheduled shutdown started.\n",
    "- 03:47\tLowering of reactor power halted at 1600 MW(thermal).\n",
    "- 14:00\t**(ECCS) was isolated** (part of the test procedure) to prevent it from interrupting the test later.\n",
    "- 23:10\tPower reduction recommenced.\n",
    "- 24:00\tShift change.\n",
    "\n",
    "![http://www.synthstuff.com/mt/archives/04/2011/rbmk_02.jpg](http://www.synthstuff.com/mt/archives/04/2011/rbmk_02.jpg)\n",
    "\n",
    "### April 26\n",
    "\n",
    "- 00:05\tPower level had been decreased to 720 MWt and continued to be reduced although INSAG-1 stated that **operation below 700 MWt was forbidden.**\n",
    "- 00:28\tPower at 500 MWt, control transferred to the automatic regulating system. Operator or equipment failed to halt power drop, led to **unexpected fall in power, to 30 MWt.**\n",
    "- 00:43:27\tTurbogenerator trip signal blocked in accordance with operational and test procedures. \n",
    "- 01:00\tThe reactor power had risen to 200 MWt and stabilised. Although the operators may not have known it, the required **operating reactivity margin (ORM) of 15 rods had been violated (Positive void coefficient)**. The decision was made to carry out the turbogenerator rundown tests at a power level of about 200 MWt.\n",
    "- 01:03\tStandby circulation pump was switched into the left hand cooling circuit.\n",
    "- 01:07\tAn additional cooling pump was switched into the right hand cooling circuit --> reduced reactivity but problems in the level of steam drum due to overworking pumps.\n",
    "- 01:19 (approx.)\tThe steam drum level was still near the emergency level. To compensate, the operator increased feedwater flow. Raised drum level, reduced reactivity, the automatic control rods went up to the upper tie plate to compensate but further withdrawal of manual rods was required to maintain the reactivity balance. System pressure began to fall and, to stabilise pressure, the steam turbine bypass valve was shut off. Since the operators were having trouble with the pressure and level control, **they deactivated the automatic trip systems to the steam drum around this time.**\n",
    "- 01:23 (approx.)\tReactor parameters stabilised. The unit shift supervisors considered that preparations for the tests had been completed and, having switched on the oscilloscope, gave the order to close the emergency stop valves.\n",
    "- 01:23:04\tTurbine feed valves closed to start turbine coasting. This was the beginning of the actual test. According to Annex I of INSAG-7, for the following approximately 30 seconds of rundown of the four coolant pumps, \"the parameters of the unit were controlled, remained within the limits expected for the operating conditions concerned, and did not require any intervention on the part of the personnel.\"\n",
    "- 01:23:40\t**The emergency button (AZ-5) was pressed by the operator. Control rods started to enter the core, increasing the reactivity at the bottom of the core.**\n",
    "\n",
    "![http://consumedland.com/images/Control%20Rods_en.jpg](http://consumedland.com/images/Control%20Rods_en.jpg)\n",
    "\n",
    "- 01:23:43\tPower excursion rate emergency protection system signals on; power exceeded 530 MWt.\n",
    "- 01:23:46\tDisconnection of both pairs of pumps (test procedure)\n",
    "- 01:23:47\tReductions in flow rates, increases in pressure.\n",
    "- 01:23:48\tRestoration of some flow rates of MCPs; further increase of pressure in the steam separator drums and of water level in the steam separator drums; triggering of fast acting systems for dumping of steam to condensers.\n",
    "- 01:23:49\tEmergency protection signal 'Pressure increase in reactor space (rupture of a fuel channel)'; 'No voltage - 48 V' signal (no power supply to the servodrive mechanisms of the EPS); 'Failure of the actuators of automatic power controllers Nos 1 and 2' signals.\n",
    "- 01:24\tFrom a note in the chief reactor control engineer's operating log: **\"01:24: Severe shocks; the RCPS rods stopped moving before they reached the lower limit stop switches; power switch of clutch mechanisms is off.\"**\n",
    "- The two main explosions destroyed the core of Unit 4 and the roof of the reactor building.\n",
    "- 100s of firefighters control building fire\n",
    "- Graphite fire continues for days. \n",
    "\n",
    "### 28 April 1986\n",
    "- A radiation monitor at Forsmark (Sweden) alarmed. A worker had picking up ground contamination on his morning walk into work.\n",
    "\n",
    "### Effects\n",
    "- Two worker deaths that night\n",
    "- 6 firefighters\n",
    "- 22 plant staff\n",
    "- 5% of the radioactive reactor core into the atmosphere and downwind – some 5200 PBq (I-131 eq).\n",
    "- hundreds of thousands of people relocated from the immediate area, including parts of Belarus. \n",
    "\n",
    "![http://www.unscear.org/images/ContaminationMap_Cs_BeUkRu_Fig_VI.jpg](http://www.unscear.org/images/ContaminationMap_Cs_BeUkRu_Fig_VI.jpg)\n",
    "\n",
    "![http://www.world-nuclear.org/uploadedImages/org/info/Safety_and_Security/Safety_of_Plants/path_of_exposure.gif](http://www.world-nuclear.org/uploadedImages/org/info/Safety_and_Security/Safety_of_Plants/path_of_exposure.gif)"
   ]
  },
  {
   "cell_type": "markdown",
   "metadata": {
    "deletable": true,
    "editable": true
   },
   "source": [
    "\n",
    "## Fukushima Accident Sequence\n",
    "\n",
    "- The Great East Japan Earthquake occurred on 11 March 2011\n",
    "  - 9.0 magnitude earthquake\n",
    "  - resulting tsunami struck coastal Japan, many waves higher than 10m\n",
    "  - More than 15 000 people were killed \n",
    "  - over 6000 injured \n",
    "  - approximately 2500 people still reported to be missing\n",
    "\n",
    "![iaea_dir_gen_rep_wave_heights.png](./iaea_dir_gen_rep_wave_heights.png)\n",
    "\n",
    "![https://upload.wikimedia.org/wikipedia/commons/thumb/3/39/Fukushima_I_Nuclear_Powerplant_site_close-up_%28wotext%29.PNG/640px-Fukushima_I_Nuclear_Powerplant_site_close-up_%28wotext%29.PNG](https://upload.wikimedia.org/wikipedia/commons/thumb/3/39/Fukushima_I_Nuclear_Powerplant_site_close-up_%28wotext%29.PNG/640px-Fukushima_I_Nuclear_Powerplant_site_close-up_%28wotext%29.PNG)\n",
    "\n",
    "![https://upload.wikimedia.org/wikipedia/commons/9/96/Fukushima_I_Powerplant_%28Tsunami_hight%29.PNG](https://upload.wikimedia.org/wikipedia/commons/9/96/Fukushima_I_Powerplant_%28Tsunami_hight%29.PNG)\n",
    "\n",
    "\n",
    "![./iaea_dir_gen_rep_elevations.png](./iaea_dir_gen_rep_elevations.png)\n",
    "\n",
    "\n",
    "\n",
    "- Fukushima Daiichi (sequence from Corradini et al, plus IAEA Director General's Report)\n",
    "  - Units 1-3 were in operation prior to the event\n",
    "  - Units 4-6 were in outage\n",
    "  - 14:46 Japan Standard Time (JST)\n",
    "  - Reactors were shut down based on detection of seismic activity\n",
    "  - Earthquake resulted in the loss of offsite power due to transmission line damage.\n",
    "  - Emergency Diesel Generators powered emergency cooling systems.\n",
    "  - An hour later, the station was struck by the tsunami. The tsunami took out all multiple sets of the Emergency Diesel generator, AC buses, DC batteries (U1) and damaged service water that provide heat rejection to the sea.\n",
    "  - Delayed cooling caused substantial fuel damage as portable power supplies and pumps were being brought on-site to re-establish cooling with fresh & seawater.\n",
    "  -  Containments leakage (U1-3) occurred as fuel cladding oxidized and hydrogen released from these processes combusted in the surrounding buildings\n",
    "  -  Spent fuel pools didn’t suffer direct damage although it was incorrectly assumed\n",
    "\n",
    "![./iaea_dir_gen_rep_timeline.png](./iaea_dir_gen_rep_timeline.png)\n",
    "\n",
    "![./iaea_dir_gen_rep_timeline.png](./iaea_dir_gen_rep_timeline2.png)\n",
    "\n",
    "![./iaea_dir_gen_rep_timeline.png](./iaea_dir_gen_rep_timeline3.png)\n",
    "\n",
    "![./iaea_dir_gen_rep_timeline.png](./iaea_dir_gen_rep_timeline4.png)\n",
    "\n",
    "> As a reference, the global pre-accident deposition of 137 Cs as of 1970 is estimated at 290 ± 30 PBq and the typical (background) level of 137 Cs in the North Pacific Ocean was approximately 69 PBq [187, 188]. -- IAEA Dir. Gen. Rep.\n",
    "\n",
    "### Task: Google Images of \"Fukushima Nuclear Disaster\"\n",
    "\n",
    "What comes up? What is that? Is that a reactor on fire? \n"
   ]
  },
  {
   "cell_type": "markdown",
   "metadata": {
    "collapsed": true,
    "deletable": true,
    "editable": true
   },
   "source": [
    "## Calculations\n",
    "\n",
    "\n",
    "[![https://3.bp.blogspot.com/-cMi-1LwfHI4/TYohZDkiXWI/AAAAAAAAACA/qjJLSmuTVP8/s1600/fukushima_map2.png](https://3.bp.blogspot.com/-cMi-1LwfHI4/TYohZDkiXWI/AAAAAAAAACA/qjJLSmuTVP8/s1600/fukushima_map2.png)](https://3.bp.blogspot.com/-cMi-1LwfHI4/TYohZDkiXWI/AAAAAAAAACA/qjJLSmuTVP8/s1600/fukushima_map2.png)"
   ]
  },
  {
   "cell_type": "markdown",
   "metadata": {
    "deletable": true,
    "editable": true
   },
   "source": [
    "# Radiation Dosimetry\n",
    "Much of this section relies on Turner : Atoms, Radiation, and Radiation Protection. \n",
    "Here is another helpful image, for keeping track of units.\n",
    "\n",
    "![https://upload.wikimedia.org/wikipedia/commons/9/96/Dose_quantities_and_units.png](https://upload.wikimedia.org/wikipedia/commons/9/96/Dose_quantities_and_units.png)\n",
    "\n",
    "Finally, here is another useful table:\n",
    "![http://image.slidesharecdn.com/radiationunits-150517190826-lva1-app6892/95/radiation-units-25-638.jpg?cb=1431889780](http://image.slidesharecdn.com/radiationunits-150517190826-lva1-app6892/95/radiation-units-25-638.jpg?cb=1431889780)\n",
    "    \n",
    "## Exposure\n",
    "\n",
    "Ionization in the air created by gammas and X Rays. ICRP defines exposure as:\n",
    "\n",
    "\\begin{align}\n",
    "X &= \\frac{\\Delta Q}{\\Delta m}\\\\\n",
    "\\Delta Q &= \\mbox{net sum of charge produced in air when electrons liberated by photons are stopped completely}\\\\\n",
    "\\Delta m &= \\mbox{mass of air in which ionization occurs}\\\\\n",
    "R &= \\mbox{Roentgen}\\\\\n",
    "& = 2.58\\times 10^{-4} \\left[\\frac{C}{kg}\\right] \n",
    "\\end{align}\n",
    "\n",
    "\n",
    "## Absorbed Dose\n",
    "\n",
    "Energy absorbed per unit mass from ionizing radiation in any target. There are many units.\n",
    "\n",
    "\\begin{align}\n",
    "1 Gy = \\frac{1 J}{kg} = \\frac{10^7 erg}{10^3 g} = 100 rad\n",
    "\\end{align}\n",
    "\n",
    "We can say that the energy needed to make an ion pair in the air is $W=33.97\\frac{eV}{\\mbox{ion pair}}= 33.97 \\frac{J}{C}$. Thus, dose absorbed by the air in 1 R is :\n",
    "\n",
    "\\begin{align}\n",
    "D &= \\mbox{Absorbed Dose}\\\\\n",
    " &= X\\cdot W\\\\\n",
    "\\Rightarrow D &= 1 R = \\frac{2.58\\times 10^{-4}C}{kg} \\times \\frac{33.97 J}{C} = 8.76\\times10^{-3}\\left[\\frac{J}{kg}\\right]\n",
    "\\end{align}\n",
    "\n",
    "\n",
    "## Dose Equivalent\n",
    "\n",
    "If dose is expressed in Gy, the dose equivalent is expressed in Sv. If dose is expressed in the older unit of rad, the older unit, rem, is used for dose equivalent. \n",
    "\n",
    "Thus:\n",
    "\n",
    "\\begin{align}\n",
    "1 Gy = 100 rad \\Rightarrow 1Sv = 100rem\n",
    "\\end{align}\n",
    "\n",
    "\n",
    "Absorbed dose is different for different kinds of radiation. We describe this as the Linear Energy Transfer of different types of radiation. The \"quality factor\" was once the ICRP factor differentiating dose equivalent due to LET.\n",
    "\n",
    "\\begin{align}\n",
    "H &= \\mbox{dose equivalent}\\\\\n",
    " &= QD\\\\\n",
    " \\mbox{where }&\\\\\n",
    "Q &= \\mbox{Quality Factor, depends on LET [-]}\\\\\n",
    "\\end{align}\n",
    "\n",
    "![./turner_12.1.png](./turner_12.1.png)\n",
    "<center>(Figure above from Turner)</center>\n",
    "\n",
    "\n",
    "However, Q is no longer used. It has been replaced by weighting factor such that:\n",
    "\n",
    "\\begin{align}\n",
    "H = w_RD\n",
    "\\end{align}\n",
    "\n",
    "\n",
    "- (1991). \"1990 Recommendations of the International Commission on Radiological Protection\". Annals of the ICRP 21 (1-3). Retrieved on 17 May 2012.\n",
    "- (2007). \"The 2007 Recommendations of the International Commission on Radiological Protection\". Annals of the ICRP 37 (2-4). Retrieved on 17 May 2012.\n",
    "\n",
    "| Radiation | Radiation Energy Weighting Factor $W_R$ (formerly Q)            |\n",
    "|:-----------:|:-----------------------------------------------------------:|\n",
    "| x-rays, gammas, betas, muons | $1$ |\n",
    "| neutrons (< 1 MeV)                  | $2.5 + 18.2\\cdot e^{-\\frac{[ln(E)]^2}{6}}$ |\n",
    "| neutrons (1 - 50 MeV) | $5.0 + 17.0\\cdot e^{-\\frac{[ln(2\\cdot E)]^2}{6}}$ |\n",
    "| neutrons (> 50 MeV)      | $2.5 + 3.25\\cdot e^{-\\frac{[ln(0.04\\cdot E)]^2}{6}}$  |\n",
    "| protons, charged pions | 2 |\n",
    "| alphas, fission products, heavy nuclei | 20 |\n"
   ]
  },
  {
   "cell_type": "markdown",
   "metadata": {
    "deletable": true,
    "editable": true
   },
   "source": [
    "## Example\n",
    "A worker receives a whole-body dose of 0.1mGy from 2MeV neutrons. Using the table above, estimate the dose equivalent."
   ]
  },
  {
   "cell_type": "code",
   "execution_count": 1,
   "metadata": {
    "collapsed": false,
    "deletable": true,
    "editable": true
   },
   "outputs": [
    {
     "name": "stdout",
     "output_type": "stream",
     "text": [
      "dose equivalent =  1.7340806029467286  [mSv]\n"
     ]
    }
   ],
   "source": [
    "import math\n",
    "d = 0.1 # mGy\n",
    "\n",
    "def q(e):\n",
    "    exponent = -pow(math.log(2*e), 2)/6\n",
    "    return 5.0 + 17.0*math.exp(exponent)\n",
    "\n",
    "print(\"dose equivalent = \", d*q(2), \" [mSv]\")"
   ]
  },
  {
   "cell_type": "markdown",
   "metadata": {
    "deletable": true,
    "editable": true
   },
   "source": [
    "So, this has all been review. Recall this image we saw a while back:\n",
    "\n",
    "![https://upload.wikimedia.org/wikipedia/commons/0/03/SI_Radiation_dose_units.png](https://upload.wikimedia.org/wikipedia/commons/0/03/SI_Radiation_dose_units.png)\n",
    "\n",
    "Recall also:\n",
    "\n",
    "Epidemiological studies vary on the factors for both dose conversion and risk from dose from various sources. There is a nice recent study on what we know. [http://www.ncbi.nlm.nih.gov/pubmed/27334644](http://www.ncbi.nlm.nih.gov/pubmed/27334644)\n",
    "\n",
    "\n",
    "![./exposure_to_dose](./exposure_to_dose.png)\n",
    "\n",
    "\n"
   ]
  },
  {
   "cell_type": "code",
   "execution_count": 2,
   "metadata": {
    "collapsed": false,
    "deletable": true,
    "editable": true
   },
   "outputs": [
    {
     "name": "stdout",
     "output_type": "stream",
     "text": [
      "data.Bq_per_Ci=  37000000000.0\n",
      "data.Ci_per_Bq=  2.7027027e-11\n"
     ]
    },
    {
     "name": "stderr",
     "output_type": "stream",
     "text": [
      "/Users/khuff/anaconda/lib/python3.5/importlib/_bootstrap.py:222: QAWarning: pyne.data is not yet QA compliant.\n",
      "  return f(*args, **kwds)\n"
     ]
    }
   ],
   "source": [
    "from pyne import data \n",
    "print(\"data.Bq_per_Ci= \", data.Bq_per_Ci)\n",
    "print(\"data.Ci_per_Bq= \", data.Ci_per_Bq)\n"
   ]
  },
  {
   "cell_type": "code",
   "execution_count": 3,
   "metadata": {
    "collapsed": false,
    "deletable": true,
    "editable": true
   },
   "outputs": [],
   "source": [
    "data.inhale_dose?"
   ]
  },
  {
   "cell_type": "code",
   "execution_count": 5,
   "metadata": {
    "collapsed": false,
    "deletable": true,
    "editable": true
   },
   "outputs": [
    {
     "name": "stdout",
     "output_type": "stream",
     "text": [
      "data.inhale_dose('129I') = 0.000174\n",
      "data.inhale_dose('137Cs') = 3.19e-05\n",
      "data.inhale_dose('134Cs') = 4.63e-05\n"
     ]
    }
   ],
   "source": [
    "print(\"data.inhale_dose('129I') =\",data.inhale_dose('129I'))\n",
    "print(\"data.inhale_dose('137Cs') =\", data.inhale_dose('137Cs'))\n",
    "print(\"data.inhale_dose('134Cs') =\", data.inhale_dose('134Cs'))"
   ]
  },
  {
   "cell_type": "code",
   "execution_count": 6,
   "metadata": {
    "collapsed": true,
    "deletable": true,
    "editable": true
   },
   "outputs": [],
   "source": [
    "data.ingest_dose?"
   ]
  },
  {
   "cell_type": "code",
   "execution_count": 7,
   "metadata": {
    "collapsed": false,
    "deletable": true,
    "editable": true
   },
   "outputs": [
    {
     "name": "stdout",
     "output_type": "stream",
     "text": [
      "data.ingest_dose('129I') = 0.000276\n",
      "data.ingest_dose('137Cs') = 5e-05\n",
      "data.ingest_dose('134Cs') = 7.33e-05\n"
     ]
    }
   ],
   "source": [
    "print(\"data.ingest_dose('129I') =\",data.ingest_dose('129I'))\n",
    "print(\"data.ingest_dose('137Cs') =\", data.ingest_dose('137Cs'))\n",
    "print(\"data.ingest_dose('134Cs') =\", data.ingest_dose('134Cs'))"
   ]
  },
  {
   "cell_type": "code",
   "execution_count": null,
   "metadata": {
    "collapsed": false,
    "deletable": true,
    "editable": true
   },
   "outputs": [],
   "source": []
  },
  {
   "cell_type": "markdown",
   "metadata": {
    "deletable": true,
    "editable": true
   },
   "source": [
    "## Recall Yields\n",
    "\n",
    "![https://upload.wikimedia.org/wikipedia/commons/thumb/6/68/ThermalFissionYield.svg/960px-ThermalFissionYield.svg.png](https://upload.wikimedia.org/wikipedia/commons/thumb/6/68/ThermalFissionYield.svg/960px-ThermalFissionYield.svg.png)\n",
    "  \n",
    "## Consider Decay\n",
    "  \n",
    "\\begin{align}\n",
    "\\frac{dN_i}{dt} &= \\sum_{m=1}^{M}l_{im}\\lambda_mN_m + \\phi\\sum_{m=1}^{M}f_{im}\\sigma_mN_m - (\\lambda_i + \\phi\\sigma_i + r_i - c_i)N_i + F_i\\Big|_{i\\in [1,M]}\\\\\n",
    "\\end{align}\n",
    "\\begin{align}\n",
    "N_i &= \\mbox{atom density of nuclide i}\\\\\n",
    "M &= \\mbox{number of nuclides}\\\\\n",
    "l_{im} &= \\mbox{fraction of decays of nuclide m that result in formation of nuclide i}\\\\\n",
    "\\lambda_i &= \\mbox{radioactive decay constant of nuclide i}\\\\\n",
    "\\phi &= \\mbox{neutron flux, averaged over position and energy}\\\\\n",
    "f_{im} &= \\mbox{fraction of neutron absorption by nuclide m leading to the formation of nuclide i}\\\\\n",
    "\\sigma_m &= \\mbox{average neutron absorption cross section of nuclide m}\\\\\n",
    "r_i &= \\mbox{continuous removal rate of nuclide i from the system}\\\\\n",
    "c_i &= \\mbox{continuous feed rate of nuclide i}\\\\\n",
    "F_i &= \\mbox{production rate of nuclide i directly from fission}\\\\\n",
    "\\end{align}\n",
    "\n",
    "\n",
    "But, we're not talking about fission production after the initial release, usually, just decay, daughters, and some removal from cleanup.\n",
    "\n",
    "\\begin{align}\n",
    "\\frac{dN_i}{dt} &= \\sum_{m=1}^{M}l_{im}\\lambda_mN_m - (\\lambda_i + r_i - c_i)N_i\\\\\n",
    "\\end{align}\n",
    "\\begin{align}\n",
    "N_i &= \\mbox{atom density of nuclide i}\\\\\n",
    "M &= \\mbox{number of nuclides}\\\\\n",
    "l_{im} &= \\mbox{fraction of decays of nuclide m that result in formation of nuclide i}\\\\\n",
    "\\lambda_i &= \\mbox{radioactive decay constant of nuclide i}\\\\\n",
    "r_i &= \\mbox{continuous removal rate of nuclide i from the system}\\\\\n",
    "c_i &= \\mbox{continuous feed rate of nuclide i}\\\\\n",
    "\\end{align}"
   ]
  },
  {
   "cell_type": "markdown",
   "metadata": {
    "collapsed": true,
    "deletable": true,
    "editable": true
   },
   "source": [
    "## 131I\n",
    "\n",
    "\n",
    "\\begin{align}\n",
    "\\tau_{1/2} &= 8.02 [d]\\\\\n",
    "\\end{align}\n",
    "\n",
    "![https://upload.wikimedia.org/wikipedia/commons/thumb/c/c0/Iodine-131-decay-scheme-simplified.svg/640px-Iodine-131-decay-scheme-simplified.svg.png](https://upload.wikimedia.org/wikipedia/commons/thumb/c/c0/Iodine-131-decay-scheme-simplified.svg/640px-Iodine-131-decay-scheme-simplified.svg.png)\n",
    "\n",
    "- TMI : $20 Ci = 7.4\\times10^{11} Bq = 7.4\\times 10^{-4}PBq$\n",
    "- Fukushima: $100-400 PBq$ (The direct releases and discharges of 131 I into the sea were estimated to be 10–20 PBq.)\n",
    "- Chernobyl: $1760 PBq$\n"
   ]
  },
  {
   "cell_type": "code",
   "execution_count": 53,
   "metadata": {
    "collapsed": false,
    "deletable": true,
    "editable": true
   },
   "outputs": [
    {
     "name": "stdout",
     "output_type": "stream",
     "text": [
      "TMI  20 Ci\n",
      "Fukushima  2702702.6999999997 Ci\n",
      "Chernobyl  47567567.519999996 Ci\n"
     ]
    }
   ],
   "source": [
    "# If we talk about this in Ci\n",
    "\n",
    "print(\"TMI \",20, \"Ci\")\n",
    "print(\"Fukushima \", (100E15)*data.Ci_per_Bq, \"Ci\")\n",
    "print(\"Chernobyl \", (1760E15)*data.Ci_per_Bq, \"Ci\")"
   ]
  },
  {
   "cell_type": "markdown",
   "metadata": {
    "deletable": true,
    "editable": true
   },
   "source": [
    "## 137 Cs\n",
    "\n",
    "\n",
    "\\begin{align}\n",
    "\\tau_{1/2} &= 30.17 [y]\\\\\n",
    "\\end{align}\n",
    "\n",
    "\n",
    "![https://upload.wikimedia.org/wikipedia/commons/thumb/3/3e/Cs-137-decay.svg/640px-Cs-137-decay.svg.png](https://upload.wikimedia.org/wikipedia/commons/thumb/3/3e/Cs-137-decay.svg/640px-Cs-137-decay.svg.png)\n",
    "\n",
    "- TMI : N/A\n",
    "- Fukushima : $7-20 PBq$ atmospheric, 1-6 PBq direct releases and discharges [into the sea].\n",
    "- Chernobyl : $85 PBq$\n"
   ]
  },
  {
   "cell_type": "code",
   "execution_count": 12,
   "metadata": {
    "collapsed": false,
    "deletable": true,
    "editable": true
   },
   "outputs": [
    {
     "name": "stdout",
     "output_type": "stream",
     "text": [
      "137Cs 10986.72 set([561370000]) 1530.0 3.63e-07\n",
      "134Cs 754.3143 set([541340000, 561340000]) 4240.0 1.01e-06\n",
      "131I 8.0252 set([541310000]) nan nan\n",
      "129I 5734425000.0 set([541290000]) 6.57 5.06e-09\n"
     ]
    }
   ],
   "source": [
    "from pyne import pyne\n",
    "data.dose_lung_model\n",
    "data.dose_lung_model('137Cs')\n",
    "s_per_d = pyne.utils.time_conv_dict['day']\n",
    "\n",
    "isos = ['137Cs', '134Cs', '131I','129I']\n",
    "for i in isos:\n",
    "    print(i,\n",
    "         data.half_life(i)/s_per_d,\n",
    "         data.decay_children(i),\n",
    "         data.ext_soil_dose(i),\n",
    "         data.ext_air_dose(i))\n",
    "    "
   ]
  },
  {
   "cell_type": "markdown",
   "metadata": {
    "deletable": true,
    "editable": true
   },
   "source": [
    "## Banana For Scale\n",
    "\n",
    "Banana Equivalent Dose ([BED](https://en.wikipedia.org/wiki/Banana_equivalent_dose)) is commonly accepted to be $0.1 \\mu Sv$.\n",
    "![https://upload.wikimedia.org/wikipedia/commons/thumb/8/8a/Banana-Single.jpg/545px-Banana-Single.jpg](https://upload.wikimedia.org/wikipedia/commons/thumb/8/8a/Banana-Single.jpg/545px-Banana-Single.jpg)\n",
    "\n",
    "\n"
   ]
  },
  {
   "cell_type": "markdown",
   "metadata": {
    "deletable": true,
    "editable": true
   },
   "source": [
    "## Release Pathways\n",
    "\n",
    "We have talked about the \"source term\" of each of these releases, but the amount that actually gets to people depends on the pathway.\n",
    "\n",
    "\n",
    "![exposure_paths.png](./exposure_paths.png)\n",
    "\n",
    "\n",
    "### Sea Release Pathway\n",
    "\n",
    "- source term\n",
    "- flow patterns (water temperature, depth, currents, geography, weight of isotope)\n",
    "- water chemistry (salinity, etc.)\n",
    "- plant life (kelp)\n",
    "- fish population\n",
    "- fishing frequency\n",
    "- fish consumption\n",
    "\n",
    "![137Cs_water.png](./137Cs_water.png)\n",
    "\n",
    "#### Atmospheric release\n",
    "\n",
    "- source term\n",
    "- flow patterns (air temperature, weather, height of release, geography, weight of isotope)\n",
    "- plants, animals, humans where deposited\n",
    "- consumption of plants/animals/animal products\n",
    "\n",
    "![./137Cs_air.png](./137Cs_air.png)\n",
    "\n",
    "### Cleanup\n",
    "\n",
    "![./iaea_fukushima_cleanup.png](./iaea_fukushima_cleanup.png)\n",
    "\n",
    "\n",
    "\n",
    "### Dose in Children\n",
    "\n",
    "![./thyroid_children.png](./thyroid_children.png)\n",
    "\n",
    "### Dose to Workers\n",
    "\n",
    "![./dose_workers.png](./dose_workers.png)"
   ]
  },
  {
   "cell_type": "markdown",
   "metadata": {
    "deletable": true,
    "editable": true
   },
   "source": [
    "### Stress and Death\n",
    "\n",
    "![fukushima_evac.png](./iaea_fukushima_evac.png)\n",
    "\n",
    "[http://www.nytimes.com/2015/09/22/science/when-radiation-isnt-the-real-risk.html](http://www.nytimes.com/2015/09/22/science/when-radiation-isnt-the-real-risk.html)  <--- How do you feel about this?"
   ]
  },
  {
   "cell_type": "code",
   "execution_count": null,
   "metadata": {
    "collapsed": true,
    "deletable": true,
    "editable": true
   },
   "outputs": [],
   "source": []
  }
 ],
 "metadata": {
  "anaconda-cloud": {},
  "kernelspec": {
   "display_name": "Python 3",
   "language": "python",
   "name": "python3"
  },
  "language_info": {
   "codemirror_mode": {
    "name": "ipython",
    "version": 3
   },
   "file_extension": ".py",
   "mimetype": "text/x-python",
   "name": "python",
   "nbconvert_exporter": "python",
   "pygments_lexer": "ipython3",
   "version": "3.5.2"
  }
 },
 "nbformat": 4,
 "nbformat_minor": 0
}
