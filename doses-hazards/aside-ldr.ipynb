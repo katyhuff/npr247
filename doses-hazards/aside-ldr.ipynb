{
 "cells": [
  {
   "cell_type": "markdown",
   "metadata": {
    "deletable": true,
    "editable": true
   },
   "source": [
    "# An Aside on Low Dose Radiation\n",
    "\n",
    "At the end of this lesson, the students will be able to:\n",
    "\n",
    "- critically evaluate uncertain data \n",
    "- assess data using scientific standards appropriate for regulatory decisions\n",
    "- discriminate trustworthy from untrustworthy sources of information\n"
   ]
  },
  {
   "cell_type": "markdown",
   "metadata": {
    "deletable": true,
    "editable": true
   },
   "source": [
    "## A Review of Uncertainty\n",
    "\n"
   ]
  },
  {
   "cell_type": "markdown",
   "metadata": {
    "deletable": true,
    "editable": true
   },
   "source": [
    "## Let us revisit the plot in your quiz\n"
   ]
  },
  {
   "cell_type": "code",
   "execution_count": 2,
   "metadata": {
    "collapsed": false,
    "deletable": true,
    "editable": true
   },
   "outputs": [
    {
     "data": {
      "text/html": [
       "\n",
       "        <iframe\n",
       "            width=\"100%\"\n",
       "            height=\"500\"\n",
       "            src=\"https://bookshelf.vitalsource.com/#/books/9781498769303/cfi/335!/4/4@0.00:10.6\"\n",
       "            frameborder=\"0\"\n",
       "            allowfullscreen\n",
       "        ></iframe>\n",
       "        "
      ],
      "text/plain": [
       "<IPython.lib.display.IFrame at 0x105de6358>"
      ]
     },
     "execution_count": 2,
     "metadata": {},
     "output_type": "execute_result"
    }
   ],
   "source": [
    "from IPython.display import IFrame\n",
    "IFrame(src=\"https://bookshelf.vitalsource.com/#/books/9781498769303/cfi/335!/4/4@0.00:10.6\", width=\"100%\", height=\"500\")\n"
   ]
  },
  {
   "cell_type": "markdown",
   "metadata": {
    "deletable": true,
    "editable": true
   },
   "source": [
    "### Science and regulation\n",
    "\n",
    "The NRC adopts the LNT model of radiation exposure to the public, following the recommendations of the NCRP and ICRP. \n",
    "\n",
    "2015 NCRP analysis of LNT :\n",
    "[https://ncrponline.org/wp-content/themes/ncrp/PDFs/BOICE-HPnews/40_LNT_Sept2015.pdf](https://ncrponline.org/wp-content/themes/ncrp/PDFs/BOICE-HPnews/40_LNT_Sept2015.pdf)\n",
    "\n",
    "\n",
    "The BIER VII report (National Academies):\n",
    "[https://www.nap.edu/read/11340/chapter/1#ii](https://www.nap.edu/read/11340/chapter/1#ii)\n",
    "\n",
    "Different, suggested guidelines were developed by the [Institute for Regulatory Science (RSI)](http://nars.org).\n",
    "\n",
    "![http://nars.org/wp-content/uploads/2018/01/bas4_4_16.jpg](http://nars.org/wp-content/uploads/2018/01/bas4_4_16.jpg)\n"
   ]
  },
  {
   "cell_type": "markdown",
   "metadata": {
    "deletable": true,
    "editable": true
   },
   "source": [
    "## Information sources\n",
    "\n",
    "Your book and many of your essays cited papers in the Dose Response journal. What *is* the dose response journal?\n",
    "\n",
    "- It's a publication indexed by PubMed \n",
    "- It's published by SAGE, a journal company: http://journals.sagepub.com/home/dos\n",
    "- It is overseen (goverend, funded, populated) by The International Dose Response Society\n",
    "\n",
    "Some questions:\n",
    "- Does indexing in PubMed indicate the NIH has reviewed the work? Supports the journal?\n",
    "- What is SAGE?\n",
    "- Who is the International Dose Response Society?\n",
    "- Who is the RSI?\n",
    "\n",
    "\n",
    "Alternatively:\n",
    "- Who is the NRC? NCRP? ICRP? NAS?"
   ]
  },
  {
   "cell_type": "code",
   "execution_count": null,
   "metadata": {
    "collapsed": true,
    "deletable": true,
    "editable": true
   },
   "outputs": [],
   "source": []
  }
 ],
 "metadata": {
  "kernelspec": {
   "display_name": "Python 3",
   "language": "python",
   "name": "python3"
  },
  "language_info": {
   "codemirror_mode": {
    "name": "ipython",
    "version": 3
   },
   "file_extension": ".py",
   "mimetype": "text/x-python",
   "name": "python",
   "nbconvert_exporter": "python",
   "pygments_lexer": "ipython3",
   "version": "3.5.2"
  }
 },
 "nbformat": 4,
 "nbformat_minor": 0
}
