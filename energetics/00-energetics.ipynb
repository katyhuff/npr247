{
 "cells": [
  {
   "cell_type": "markdown",
   "metadata": {
    "deletable": true,
    "editable": true
   },
   "source": [
    "# Nuclear Energetics\n",
    "\n",
    "## Learning Objectives\n",
    "\n",
    "- Define: exothermic and endothermic reactions\n",
    "- Differentiate exothermic and endothermic reactions\n",
    "- "
   ]
  },
  {
   "cell_type": "markdown",
   "metadata": {
    "deletable": true,
    "editable": true
   },
   "source": [
    "## Endothermic and Exothermic Reactions\n",
    "\n",
    "In any reaction (nuclear, mechanical, chemical) energy can be either emitted or absorbed.\n",
    "\n",
    "- When energy is emitted by the reaction, this is called **_exothermic_**.\n",
    "- When energy is absorbed into the reaction, this is called **_endothermic_**.\n",
    "\n",
    "If we consider the energy in relation to mass via Einstein's equivalence, then it's very clear that a change in the mass of reactants will result in a change in energy ($\\Delta E = \\Delta M c^2$).\n",
    "\n",
    "\\begin{align}\n",
    "\\mbox{reactants} &\\rightarrow \\mbox{products}\\\\\n",
    "A + B + \\cdots &\\rightarrow C + D + \\cdots\\\\\n",
    "\\Delta M = (M_A + M_B + \\cdots) &- (M_C + M_D + \\cdots)\\\\\n",
    "\\implies \\Delta E &= \\left[(M_A + M_B + \\cdots) - (M_C + M_D + \\cdots)\\right]c^2\\\\\n",
    "\\end{align}\n",
    "\n",
    "![https://bam.files.bbci.co.uk/bam/live/content/z23jtfr/large](https://bam.files.bbci.co.uk/bam/live/content/z23jtfr/large)\n",
    "![https://bam.files.bbci.co.uk/bam/live/content/zmbqhyc/large](https://bam.files.bbci.co.uk/bam/live/content/zmbqhyc/large)\n",
    "<center>(credit: BBC)</center>"
   ]
  },
  {
   "cell_type": "markdown",
   "metadata": {
    "collapsed": true,
    "deletable": true,
    "editable": true
   },
   "source": [
    "## Exercise: Think-pair-share\n",
    "\n",
    "Which of the following are exothermic and which are endothermic?\n",
    "\n",
    "Easy ones:\n",
    "\n",
    "- Boiling Water\n",
    "- Lighting a match\n",
    "- Freezing an ice cube\n",
    "- Melting an ice cube\n",
    "- Snow formation in the clouds\n",
    "- Conversion of frost to water vapor on the grass\n",
    "\n",
    "Harder ones: \n",
    "- Formation of ion pairs (exothermic)\n",
    "- Separation of ion pairs (endothermic)\n",
    "\n",
    "The most important one:\n",
    "- nuclear fission"
   ]
  },
  {
   "cell_type": "markdown",
   "metadata": {},
   "source": [
    "# Binding Energy\n",
    "\n",
    "For ease, let's imagine just two reactants and one product.\n",
    "\n",
    "\\begin{align}\n",
    "\\mbox{reactants} &\\rightarrow \\mbox{products}\\\\\n",
    "A + B &\\rightarrow C \\\\\n",
    "\\Delta M = (mass(A) + mass(B)) &- (mass(C))\\\\\n",
    "\\implies \\Delta E &= \\left[(mass(A) + mass(B) - (mass(C))\\right]c^2\\\\\n",
    "&= BE\n",
    "\\end{align}\n",
    "\n",
    "## Nuclear and Atomic Masses\n",
    "\n",
    "\\begin{align} \n",
    "M\\left(^A_ZX\\right) &= \\mbox{rest mass of an atom}\\\\\n",
    "m\\left(^A_ZX\\right) &= \\mbox{rest mass of its nucleus}\n",
    "\\end{align}\n",
    "\n",
    "All Z electrons must be bound to the atom, so the atomic and nuclear masses have the following relationship:\n",
    "\n",
    "\\begin{align} \n",
    "M\\left(^A_ZX\\right) &=m\\left(^A_ZX\\right) + Zm_e - \\frac{BE_{Ze}}{c^2}\n",
    "\\end{align}\n",
    "\n",
    "Your book points out that it requires 13.6 eV to ionize the hydrogen atom. This electron binding energy represents a mass change of $BE_{1e/c^2} = 13.6 (eV)/9.315 \\times 10^8 (eV/u) = 1.4 \\times 10^{−8} u$."
   ]
  },
  {
   "cell_type": "markdown",
   "metadata": {},
   "source": [
    "## Binding Energy of the nucleus\n",
    "\n",
    "A nucleus, with Z protons and N=A-Z neutrons will have a formation reaction that looks like:\n",
    "\n",
    "\\begin{align}\n",
    "Z \\mbox{ protons } + (A − Z) \\mbox{ neutrons }\\rightarrow \\mbox{ nucleus}\\left(^A_ZX\\right) + BE.\n",
    "\\end{align}\n",
    "\n",
    "It can be helpful to define the term $BE/c^2$:\n",
    "\n",
    "\\begin{align}\n",
    "\\frac{BE}{c^2} &=Zm_p +(A−Z)m_n − m\\left(^A_ZX\\right)\\\\\n",
    "\\end{align}\n",
    "\n",
    "We can arrive at the nuclear binding energy from this:\n",
    "\n",
    "\n",
    "\\begin{align}\n",
    "BE\\left(^A_ZX\\right) = \\left[ZM(\\left(^1_1H\\right) + (A-Z)m_n - M\\left(^A_ZX\\right)\\right]c^2\n",
    "\\end{align}\n",
    "\n",
    "The above equation neglects the electron binding energies because:\n",
    "- the terms tend to cancel\n",
    "- electron binding energies are millions of times smaller than the nuclear binding energy. "
   ]
  },
  {
   "cell_type": "markdown",
   "metadata": {},
   "source": [
    "### Exercise: Nuclear binding energy \n",
    "\n",
    "From your book, example 4.1: What is the binding energy of an alpha particle?\n",
    "\n",
    "\\begin{align}\n",
    "\\frac{BE}{c^2} &=Zm_p +(A−Z)m_n − m\\left(^A_ZX\\right)\\\\\n",
    "\\implies\\frac{BE}{c^2} &=\\left[ZM(\\left(^1_1H\\right) + (A-Z)m_n - M\\left(^A_ZX\\right)\\right]\\\\\n",
    " &=\\left[2M(\\left(^1_1H\\right) + 2m_n - M\\left(^4_2He\\right)\\right]\\\\\n",
    " &=\\left[2\\left(1.0078250\\right) + 2\\left(1.0086649\\right) - 4.0026032\\right]\\\\\n",
    "\\end{align}\n",
    "\n",
    "Thus:\n",
    "\n",
    "\\begin{align}\n",
    "BE\\left(^4_2 He\\right) &= \\frac{BE}{c^2}\\times 931.5 (MeV/u) \\\\\n",
    "&= 28.30 MeV.\n",
    "\\end{align}"
   ]
  },
  {
   "cell_type": "markdown",
   "metadata": {},
   "source": [
    "## Binding Energy per nucleon\n",
    "\n",
    "The BE/A versus A curve immediately suggests two ways to extract energy from the nucleus.\n",
    "\n",
    "\n",
    "![https://upload.wikimedia.org/wikipedia/commons/thumb/5/53/Binding_energy_curve_-_common_isotopes.svg/671px-Binding_energy_curve_-_common_isotopes.svg.png](https://upload.wikimedia.org/wikipedia/commons/thumb/5/53/Binding_energy_curve_-_common_isotopes.svg/671px-Binding_energy_curve_-_common_isotopes.svg.png)\n",
    "Binding energy curve **(average binding energy per nucleon in MeV against number of nucleons in nucleus)** for a number of relatively common (abundant) isotopes (not chosen systematically; almost anything with an occurence of over .2 was chosen though a few exceptions are in there, such as U235). A few important ones for the purposes of nuclear fusion and nuclear fission are marked, as well as iron-56, which sits at the highest point on this graph and cannot yield energy from fusion or fission.\n",
    "\n",
    "From your book (Shultis and Faw)\n",
    "\n",
    "> Most isotopes of an element are radioactive, i.e., their nuclei are unstable. To better understand what makes a nucleus stable, it is instructive to plot the BE per nucleon, BE/A, of all the isotopes of an element. For example, if one calculates the BE/A for all the isotopes of calcium (Z = 20), as is done in Example 4.2 for one isotope, and plots BE/A versus the neutron number N, a plot like that shown in Fig. 4.2 is obtained. The BE/A rapidly rises as N increase from A = 14 and reaches a broad maximum before rapidly decreasing as N increases above 30. It is in the broad maximum where the BE/A is highest that one finds the stable isotopes. The reason for the zig-zag shape in the maximum region is due to the fact that an isotope with an even number of neutrons tends to have a higher BE/A compared\n",
    "\n",
    "### Fusion\n",
    "\n",
    "**Two light nuclei $\\longrightarrow$ one heavy nucleus**\n",
    "\n",
    "\\begin{align}\n",
    "^{2}_1H + ^2_1H \\longrightarrow ^{4}_2He\n",
    "\\end{align}\n",
    "\n",
    "\n",
    "### Fission\n",
    "**One heavy nucleus $\\longrightarrow$ two lighter nuclei**\n",
    "\n",
    "\\begin{align}\n",
    "^{235}_{92}U + ^1_0n \\longrightarrow \\left(^{235}_{92}U\\right)*  \\longrightarrow ^{139}_{56}Ba +  ^{94}_{36}Kr + 3^1_0n\n",
    "\\end{align}\n",
    "\n",
    "<a title=\"JWB at en.wikipedia [CC BY 3.0 \n",
    " (https://creativecommons.org/licenses/by/3.0\n",
    ") or GFDL (http://www.gnu.org/copyleft/fdl.html)], via Wikimedia Commons\" href=\"https://commons.wikimedia.org/wiki/File:ThermalFissionYield.svg\"><img width=\"512\" alt=\"ThermalFissionYield\" src=\"https://upload.wikimedia.org/wikipedia/commons/thumb/6/68/ThermalFissionYield.svg/512px-ThermalFissionYield.svg.png\"></a>\n"
   ]
  },
  {
   "cell_type": "markdown",
   "metadata": {},
   "source": [
    "## Nucleon Separation Energy\n",
    "\n",
    "Closely related to the concept of nuclear binding energy is the energy required to remove a single nucleon from a nucleus. Consider the addition of a single neutron to form the nucleus of AZ X, i.e.,\n",
    "\n",
    "\\begin{align}\n",
    "^{A-1}_ZX + ^1_0n \\rightarrow ^{A}_ZX.\n",
    "\\end{align}\n",
    "\n",
    "\n",
    "The energy released in this reaction, Sn(AZX), is the energy required to remove (or separate) a single neutron from the nucleus AZX. \n",
    "\n",
    "\\begin{align}\n",
    "S_n\\left(^A_ZX\\right) &= [m\\left(^{A-1}_ZX\\right) + m_n − m\\left(^{A}_ZX\\right)]c^2 \\\\\n",
    " &\\simeq [M\\left(^{A-1}_ZX\\right) + m_n − M\\left(^{A}_ZX\\right)]c^2.\t\n",
    "\\end{align}\n",
    "\n",
    "If we make the  obvious substituion from the \n"
   ]
  },
  {
   "cell_type": "markdown",
   "metadata": {},
   "source": [
    "### Exercise: Nucleon Separation Energy\n",
    "(Example 4.3 in Shultis and Faw)\n",
    "\n",
    "What is the binding energy of the last neutron in 168O? This is the energy released in the reaction: \n",
    "\\begin{align}\n",
    "^{15}_8O + ^1_0n \\rightarrow ^{16}_8O\n",
    "\\end{align}\n"
   ]
  },
  {
   "cell_type": "markdown",
   "metadata": {},
   "source": [
    "## Exercise: $BE_e$ in $^1_1H$\n",
    "\n",
    "A problem example from Shultis and Faw follows below.\n",
    "\n",
    "**Energies of chemical reactions can typically not be calculated by finding the difference between the masses of the reactants and the products because the mass must be known to 10 or more significant figures.**\n",
    "\n",
    "However, the mass of the proton and hydrogen atom are known to 10 significant figures. Let's estimate the binding energy of the electron $BE_e$ in the $^1_1H$ atom and compare this result to what the Bohr model predicts. \n",
    "\n",
    "\n",
    "\n",
    "Discuss this comparison.\n"
   ]
  },
  {
   "cell_type": "markdown",
   "metadata": {},
   "source": [
    "The binding energy reaction can be written as\n",
    "\n",
    "\\begin{align}\n",
    "^{1}_1p + ^0_{-1}e \\rightarrow ^{1}_1H + BE_e \n",
    "\\end{align}\n",
    "\n",
    "We use mass values found in Table A.1 and Appendix B to find the binding energy:\n",
    "\n",
    "\n",
    "\\begin{align}\n",
    "BE_e &= \\left[m_p + m_e - M\\left(^1_1H\\right)\\right]\\left(u\\right) \\times 931.5(MeV/u)\\\\\n",
    " &= \\left[1.0072764669 + 5.48579909\\times 10^{-4} - 1.0078250321\\right]\\left(u\\right) \\times 931.5(MeV/u)\\\\\n",
    "&= 1.3887 \\times 10^{−5} MeV\\\\\n",
    "&= \\boxed{13.887 eV}.\n",
    "\\end{align}\n",
    "\n",
    "Recall that $BE_e = 13.606 eV$. Although the estimate of 13.887 is correct to 2 significant figures, to get a better estimate the proton and hydrogen atomic masses must be known to at least 13 significant figures, an accuracy beyond present day technology.\n"
   ]
  },
  {
   "cell_type": "code",
   "execution_count": null,
   "metadata": {
    "collapsed": true
   },
   "outputs": [],
   "source": []
  }
 ],
 "metadata": {
  "kernelspec": {
   "display_name": "Python 3",
   "language": "python",
   "name": "python3"
  },
  "language_info": {
   "codemirror_mode": {
    "name": "ipython",
    "version": 3
   },
   "file_extension": ".py",
   "mimetype": "text/x-python",
   "name": "python",
   "nbconvert_exporter": "python",
   "pygments_lexer": "ipython3",
   "version": "3.5.2"
  }
 },
 "nbformat": 4,
 "nbformat_minor": 0
}
