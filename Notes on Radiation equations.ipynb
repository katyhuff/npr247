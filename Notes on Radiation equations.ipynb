{
 "metadata": {
  "name": "",
  "signature": "sha256:1e67600fcb9490b47cadc72e99c654b7ff1989e8020bf732725056d533261dc2"
 },
 "nbformat": 3,
 "nbformat_minor": 0,
 "worksheets": [
  {
   "cells": [
    {
     "cell_type": "markdown",
     "metadata": {},
     "source": [
      "# [ATM 623: Climate Modeling](../index.ipynb)\n",
      "[Brian E. J. Rose](http://www.atmos.albany.edu/facstaff/brose/index.html), University at Albany\n",
      "# Lecture 8: The governing equations for radiative transfer"
     ]
    },
    {
     "cell_type": "markdown",
     "metadata": {},
     "source": [
      "## Contents\n",
      "\n",
      "1. [First section title](#section1)"
     ]
    },
    {
     "cell_type": "markdown",
     "metadata": {},
     "source": [
      "____________\n",
      "<a id='section1'></a>\n",
      "\n",
      "## 1. First section title\n",
      "____________\n",
      "\n",
      "Some text."
     ]
    },
    {
     "cell_type": "markdown",
     "metadata": {},
     "source": [
      "#Notes on radiative transfer equations following Pierrehumbert's book."
     ]
    },
    {
     "cell_type": "markdown",
     "metadata": {},
     "source": [
      "### Optical thickness\n",
      "\n",
      "The **optical thickness** of a layer of absorbers is $\\Delta \\tau_\\nu$. It is the emissivity and absorptivity of a layer of atmosphere.\n",
      "\n",
      "Passing to the limit of very thin layers, we define $\\tau_\\nu$ through\n",
      "\n",
      "$$ \\frac{d \\tau_\\nu}{dp} = -\\frac{1}{g} \\kappa_\\nu $$\n",
      "\n",
      "where **$\\kappa_\\nu$ is an absorption cross-section** per unit mass at frequency $\\nu$. It has units m$^2$ kg$^{-1}$. $\\kappa$ is a measure of the area taken out of the incident beam by absorbers in a unit mass of atmosphere.\n",
      "\n",
      "In general **$\\tau_\\nu$ depends on the frequency of the radiation**, as indicated here by the subscript $\\nu$."
     ]
    },
    {
     "cell_type": "markdown",
     "metadata": {},
     "source": [
      "### Using optical depth as vertical coordinate\n",
      "\n",
      "Since pressure decreases with altitude, $\\tau_\\nu$ increases with altitude.\n",
      "\n",
      "The equations of radiative transfer can be simplified by using $\\tau_\\nu$ as vertical coordinate instead of pressure."
     ]
    },
    {
     "cell_type": "markdown",
     "metadata": {},
     "source": [
      "### Absorption cross-section\n",
      "\n",
      "The specific absorption cross section $\\kappa$ depends on the number of molecules of each greenhouse gas encountered by the beam and the absorption properties characteristic to each kind of greenhouse gas molecule. Letting $q_i$ be the mass-specific concentration of greenhouse gas $i$, we may write in general\n",
      "\n",
      "$$ \\kappa(\\nu, p, T) = \\sum_{i=0}^n \\kappa_i\\big(\\nu, p, T \\big) q_i(p) $$\n",
      "\n",
      "For a well-mixed greenhouse gas, $q_i$ is a constant; for a non-well-mixed gas like water vapor we need to account for the vertical distribution of the gas through $q_i(p)$.\n",
      "\n",
      "The dependence of $\\kappa_i$ on temperature and pressure arises from certain aspects of the physics of molecular absorption. "
     ]
    },
    {
     "cell_type": "markdown",
     "metadata": {},
     "source": [
      "### Two-stream Schwarzschild equations\n",
      "\n",
      "For climate modeling we almost always seperate the total flux into two beams: upward and downward. This involves taking integrals of the full angular dependence of the flux. We'll skip the details here.\n",
      "\n",
      "Let $U_\\nu$ be the upward beam, and $D_\\nu$ be the downward beam. The governing equations for these beams are the *Schwarzschild equations*:\n",
      "\n",
      "\\begin{align}\n",
      "\\frac{d U_\\nu}{d \\tau_\\nu} &= -U_\\nu + E\\big( \\nu, T(\\tau_\\nu) \\big) \\\\\n",
      "\\frac{d D_\\nu}{d \\tau_\\nu} &= D_\\nu - E\\big( \\nu, T(\\tau_\\nu) \\big) \n",
      "\\end{align}\n",
      "\n",
      "where $E$ is the **blackbody emission** (both up and down), which in general depends on both **frequency** and **temperature**. We have written temperature as a function of the vertical coordinate (optical depth), \n",
      "\n",
      "The emissions are governed by the **Planck function**:\n",
      "\\begin{align}\n",
      "E &= \\pi~ B\\big( \\nu, T \\big) \\\\\n",
      "B\\big( \\nu, T \\big) &= \\frac{2 h \\nu^3}{c^2} \\frac{1}{\\exp \\left( \\frac{h \\nu}{k T} \\right) -1} \n",
      "\\end{align}\n",
      "\n",
      "with these fundamental physical constants:\n",
      "\n",
      "- $h = 6.626 \\times 10^{-34} ~\\text{J s} $ is Planck's constant\n",
      "- $c = 3.00 \\times 10^8 ~\\text{m s}^{-1} $ is the speed of light\n",
      "- $k = 1.38 \\times 10^{-23} ~\\text{J K}^{-1} $ is the Boltzmann Thermodynamic Constant\n",
      "\n",
      "The two-stream equations basically say the beam is **attenuated by absorption** (first term) and **augmented by emission** (second term) in each thin layer of gas.\n",
      "\n",
      "These equations are valid for beam that are **not affected by scattering**. We'll come back to that later."
     ]
    },
    {
     "cell_type": "markdown",
     "metadata": {},
     "source": [
      "## The Grey Gas Model\n",
      "\n",
      "The absorption properties $\\kappa_i$ of most atmospheric gases varies enormously with the frequency of the radiation. Hence the optical thickness $\\tau_\\nu$ also has an intricate dependence on wavenumber or frequency. \n",
      "\n",
      "Our job as climate modelers is to calculate and understand the net atmospheric absorption and transmission of radiation. To do this thoroughly and accurately, the fluxes must be solved for individually on a very dense grid of wavenumbers, and then the results integrated over all wavenumbers.\n",
      "\n",
      "Actual radiative transfer codes (as used in GCMs) apply a lot of tricks and shortcuts to simplify this brute-force approach, but lead to sets of equations that are difficult to understand.\n",
      "\n",
      "However, there is a lot we can understand about the basics of radiative transfer and the greenhouse effect by ignoring the spectral dependence of the flux.\n",
      "\n",
      "Specifically, we make the approximation\n",
      "\n",
      "$$ \\kappa(\\nu, p, T) = \\kappa(p) $$\n",
      "\n",
      "so that the optical depth $\\tau$ is now **independent of frequency**.\n",
      "\n",
      "This is known as the **grey gas approximation**."
     ]
    },
    {
     "cell_type": "markdown",
     "metadata": {},
     "source": [
      "## Grey gas versions of the Schwarzschild equations\n",
      "\n",
      "### Integrating the Planck function\n",
      "If we assume $\\tau_\\nu$ is independent of frequency, we can then integrate the two-stream equations over all frequencies.\n",
      "\n",
      "The integral of the Planck function gives our familiar Stefan-Boltzmann blackbody radiation law\n",
      "\n",
      "$$ E(T) = \\int_0^{\\infty} \\pi B\\big( \\nu, T \\big) d\\nu = \\sigma T^4  $$\n",
      "\n",
      "with \n",
      "\n",
      "$$ \\sigma = \\frac{2 \\pi^5 k^4}{15 c^2 h^3} = 5.67 \\times 10^{-8} ~\\text{W m}^{-2}~\\text{K}^{-4}$$"
     ]
    },
    {
     "cell_type": "code",
     "collapsed": false,
     "input": [
      "# climlab has these constants available, and actually calculates sigma from the above formula\n",
      "from climlab import constants as const\n",
      "import numpy as np\n",
      "\n",
      "sigma = (2*np.pi**5 * const.kBoltzmann**4) / (15 * const.c_light**2 * const.hPlanck**3)\n",
      "print sigma\n",
      "print sigma == const.sigma"
     ],
     "language": "python",
     "metadata": {},
     "outputs": [
      {
       "output_type": "stream",
       "stream": "stdout",
       "text": [
        "5.67037262259e-08\n",
        "True\n"
       ]
      }
     ],
     "prompt_number": 5
    },
    {
     "cell_type": "markdown",
     "metadata": {},
     "source": [
      "### The grey gas equations\n",
      "This gives the governing equations for the grey gas model:\n",
      "\n",
      "\\begin{align}\n",
      "\\frac{d U}{d \\tau} &= -U + \\sigma T(\\tau)^4 \\\\\n",
      "\\frac{d D}{d \\tau} &= D - \\sigma T(\\tau)^4 \n",
      "\\end{align}\n",
      "\n",
      "These equations now say that the beam is diminished by absorption in a thin layer (first term) and augmented by blackbody emission, where both processes are assumed to be independent of frequency."
     ]
    },
    {
     "cell_type": "markdown",
     "metadata": {},
     "source": [
      "### How do the fluxes change across a finite layer of absorbers?"
     ]
    },
    {
     "cell_type": "markdown",
     "metadata": {},
     "source": [
      "The above equations are **linear, first order ODEs**, and they are uncoupled from each other (because we neglected scattering).\n",
      "\n",
      "**Consider a layer of atmosphere** from optical level $\\tau_{0}$ to $\\tau_{1}$. The optical thickness of the layer is $\\Delta \\tau = \\tau_{1} - \\tau_{0}$.\n",
      "\n",
      "The incident upwelling beam from below is denoted $U_{0}$; the upwelling beam that leaves the top of our layer is denoted $U_{1}$. We want to calculate $U_{1}$, which we can get by integrating the equation for $dU/d\\tau$ over our layer. The result is\n",
      "\n",
      "$$ U_{1} = U_{0} \\exp(-\\Delta \\tau) + \\int_{\\tau_{0}}^{\\tau_{1}} E \\exp \\big( -(\\tau_{1} - \\tau) \\big) d\\tau $$\n",
      "\n",
      "where $\\tau$ is now a dummy variable of integration, and we've written the blackbody emissions as $E = \\sigma T^4$.\n",
      "\n",
      "The change in the downwelling beam is similar:\n",
      "\n",
      "$$ D_{0} = D_{1} \\exp(-\\Delta \\tau ) + \\int_{\\tau_0}^{\\tau_1} E \\exp\\big( -(\\tau - \\tau_{0}) \\big) d\\tau $$"
     ]
    },
    {
     "cell_type": "markdown",
     "metadata": {},
     "source": [
      "## Discretizing the Grey-gas two-steam equations on a finite grid\n",
      "\n",
      "One particularly important reason to think about these changes over finite layers is that we will typically solve the radiative transfer equations in a numerical model where the temperature is represented on a discrete grid (often using pressure coordinates)."
     ]
    },
    {
     "cell_type": "markdown",
     "metadata": {},
     "source": [
      "If we assume that **temperature is uniform everywhere in our layer** then the blackbody emission $E$ is also a constant across the layer, which we will denote $E_{0}$.\n",
      "\n",
      "It can come out the integral and the expressions simplify to\n",
      "\n",
      "\\begin{align}\n",
      "U_1 &= U_0 ~ \\exp(-\\Delta \\tau )  + E_{0} ~\\Big( 1 - \\exp(-\\Delta \\tau) \\Big)  \\\\\n",
      "D_0 &= D_1 ~ \\exp(-\\Delta \\tau )  + E_{0} ~\\Big( 1 - \\exp(-\\Delta \\tau) \\Big)\n",
      "\\end{align}"
     ]
    },
    {
     "cell_type": "markdown",
     "metadata": {},
     "source": [
      "### Transmissitivity\n",
      "The first term is the **transmission** of radition from the bottom to the top of the layer (or vice-versa). We can define the **transmissivity** of the layer (denoted $t_{0}$) as the fraction of the incident beam that is passed on to the next layer:\n",
      "\n",
      "\\begin{align}\n",
      "t_{0} &= \\frac{U_{0} \\exp(-\\Delta \\tau)}{U_{0}}  \\\\\n",
      " &= \\exp(-\\Delta \\tau)\\\\\n",
      "\\end{align}"
     ]
    },
    {
     "cell_type": "markdown",
     "metadata": {},
     "source": [
      "### Emissivity\n",
      "The second term is the net change in the beam due to **emissions** in the layer. \n",
      "\n",
      "We can the define the **emissivity** $\\epsilon_0$ of the layer analogously\n",
      "\n",
      "\\begin{align}\n",
      "\\epsilon_{0} &=  1 - \\exp(-\\Delta \\tau) \\\\\n",
      "  &= 1 - t_{0} \n",
      "\\end{align}"
     ]
    },
    {
     "cell_type": "markdown",
     "metadata": {},
     "source": [
      "### The discrete two-stream equations on a finite pressure grid\n",
      "\n",
      "Putting this all together gives us two simple equations that govern changes in the upwelling and downwelling beams across a discrete layer of optical depth $\\Delta \\tau$:\n",
      "\n",
      "\\begin{align}\n",
      "U_{1} &= t_0 ~ U_{0} + \\epsilon_{0} ~ E_{0}  \\\\\n",
      "D_{0} &= t_0 ~ D_{1} + \\epsilon_{0} ~ E_{0}  \\\\\n",
      "\\end{align}\n",
      "\n",
      "Our model will typically be discretized in pressure coordinates. Suppose the thickness of the layer is $\\Delta p$, then the optical depth is\n",
      "\n",
      "$$ \\Delta \\tau  = -\\frac{\\kappa}{g} \\Delta p$$ \n",
      "(the minus sign accounts for the opposite sign conventions of the two coordinates).\n",
      "\n",
      "Thus the emissivity of the layer is\n",
      "\n",
      "$$  \\epsilon_{0} = 1 - \\exp\\big( \\frac{\\kappa}{g} \\Delta p \\big)  $$\n",
      "\n",
      "In the grey gas approximation we ignore all spectral dependence of the flux, so $\\kappa$ is a constant (we could let it vary in the vertical to represent non-well-mixed greenhouse gases like water vapor), and the blackbody emissions are simply\n",
      "\n",
      "$$ E_0 = \\sigma T_0^4 $$"
     ]
    },
    {
     "cell_type": "markdown",
     "metadata": {},
     "source": [
      "## Matrix equations for the grey gas model\n",
      "\n",
      "`climlab` implements the discretized two-stream equations as written above. \n",
      "\n",
      "We will now write out the equations on a discretized pressure grid with $N$ layers. \n",
      "\n",
      "Let the **upwelling flux** be a column vector \n",
      "\n",
      "$${\\bf{U}} = [U_0, U_1, ..., U_{N-1}, U_N]^T$$\n",
      "\n",
      "If there are $N$ levels then $\\bf{U}$ has $N+1$ elements (i.e. the fluxes are defined at the boundaries between levels). We will number the layers starting from 0 following `numpy` index conventions.\n",
      "\n",
      "- $U_0$ is the upwelling flux from surface to layer 0.\n",
      "- $U_1$ is the upwelling flux layer 0 to layer 1, etc.\n",
      "- $U_N$ is the upwelling flux from layer N-1 (the top level) to space.\n",
      "\n",
      "Same for the **downwelling flux**\n",
      "\n",
      "$${\\bf{D}} = [D_0, D_1, ..., D_N]^T$$\n",
      "\n",
      "So $D_N$ is the flux down from space and $D_0$ is the back-radiation to the surface.\n",
      "\n",
      "\n",
      "The **temperature** and **blackbody emissions** are defined for each $N$ pressure level, and are related by \n",
      "\n",
      "$$E_i = \\sigma T_i^4$$\n"
     ]
    },
    {
     "cell_type": "markdown",
     "metadata": {},
     "source": [
      "### Emissivity and Transmissivity vectors\n",
      "\n",
      "Let the vector of absorptivity / emissivity be \n",
      "\n",
      "$$ {\\bf{\\epsilon}} = [\\epsilon_0, \\epsilon_1, ..., \\epsilon_{N-1}] $$\n",
      "\n",
      "where each element is determined by the thickness of the layer and the absorption cross-section for this particular spectral band:\n",
      "\n",
      "$$ \\epsilon_{i} = 1 - \\exp\\big( \\frac{\\kappa}{g} \\Delta p_i \\big) $$\n",
      "\n",
      "and the transmissivity of individual layers is \n",
      " $$ t_{i} = 1 - \\epsilon_{i} $$\n",
      "\n",
      "It is convenient to define a vector of transmissivities ${\\bf{t}}$ with $N+1$ elements:\n",
      "\n",
      "$$ {\\bf{t}} = [1, t_0, t_1, ..., t_{N-1}] $$\n",
      "\n"
     ]
    },
    {
     "cell_type": "markdown",
     "metadata": {},
     "source": [
      "### The downwelling beam\n",
      "\n",
      "For the downwelling beam, we define a column vector of emissions with $N+1$ elements:\n",
      "\n",
      "$$ {\\bf{E_{down}}} = [E_0, E_1, ..., E_{N-1}, E_N]^{T} $$\n",
      "\n",
      "where we define the last element $E_N$ as the **incident flux at the TOA**.\n",
      "\n",
      "For a longwave model, we would usually set $E_N = 0$. For a shortwave model, this would be the incident solar radiation.\n",
      "\n",
      "We want a matrix ${\\bf{T_{down}}}$ that, when multiplied by $E_N$, gives the downwelling beam at each of the $N+1$ layer interfaces:\n",
      "\n",
      "$${\\bf{D}} = {\\bf{T_{down}}} ~ {\\bf{E_{down}}} $$"
     ]
    },
    {
     "cell_type": "markdown",
     "metadata": {},
     "source": [
      "### The upwelling beam\n",
      "\n",
      "Define a vector of emissions for the upwelling beam thus:\n",
      "\n",
      "$$ {\\bf{E_{up}}} = [up_{sfc}, E_0, E_1, ..., E_{N-1}] $$\n",
      "\n",
      "We need to add the reflected part of the downwelling beam at the surface to any emissions from the surface:\n",
      "\n",
      "$$ up_{sfc} = E_{sfc} + \\alpha_{sfc} ~ D[0] $$\n",
      "\n",
      "Now we want a matrix ${\\bf{T_{up}}}$ such that the upwelling beam is\n",
      "\n",
      "$${\\bf{U}} = {\\bf{T_{up}}} ~ {\\bf{E_{up}}} $$"
     ]
    },
    {
     "cell_type": "markdown",
     "metadata": {},
     "source": [
      "### The transmissivity matrices\n",
      "\n",
      "$$ {\\bf{T_{up}}} = \\left[ \\begin{array}{ccccc} 1 & 0 & 0 &... & 0 & 0 \\\\  \n",
      "                                             t_0 & 1 & 0 & ... & 0 & 0 \\\\\n",
      "                                         t_1 t_0 & t_1 & 1 & ... & 0 & 0 \\\\\n",
      "                                     t_2 t_1 t_0 & t_2 t_1 & t_2 & ... & 0 & 0 \\\\\n",
      "                                     ... & ... & ... & ... & ... & ... \\\\\n",
      " \\prod_0^{N-1} t_i & \\prod_1^{N-1} t_i & \\prod_2^{N-1} t_i & ... & t_{N-1} & 1 \n",
      "   \\end{array} \\right] $$\n",
      "   \n",
      " and\n",
      " \n",
      "$$ {\\bf{T_{down}}} = {\\bf{T_{up}}}^T  $$\n",
      "\n",
      "These formulas have been implemented in `climlab.radiation.transmissivity` using vectorized `numpy` array operations."
     ]
    },
    {
     "cell_type": "markdown",
     "metadata": {},
     "source": [
      "...."
     ]
    },
    {
     "cell_type": "code",
     "collapsed": false,
     "input": [],
     "language": "python",
     "metadata": {},
     "outputs": []
    },
    {
     "cell_type": "markdown",
     "metadata": {},
     "source": [
      "<div class=\"alert alert-success\">\n",
      "[Back to ATM 623 notebook home](../index.ipynb)\n",
      "</div>"
     ]
    },
    {
     "cell_type": "markdown",
     "metadata": {},
     "source": [
      "____________\n",
      "## Credits\n",
      "\n",
      "The author of this notebook is [Brian E. J. Rose](http://www.atmos.albany.edu/facstaff/brose/index.html), University at Albany.\n",
      "\n",
      "It was developed in support of [ATM 623: Climate Modeling](http://www.atmos.albany.edu/facstaff/brose/classes/ATM623_Spring2015/), a graduate-level course in the [Department of Atmospheric and Envionmental Sciences](http://www.albany.edu/atmos/index.php), offered in Spring 2015.\n",
      "____________"
     ]
    }
   ],
   "metadata": {}
  }
 ]
}