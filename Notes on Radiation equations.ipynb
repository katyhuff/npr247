{
 "metadata": {
  "name": "",
  "signature": "sha256:545889ac718556e17e843e342dbc468c3e8c6121c31cc217f7d652d5119de73b"
 },
 "nbformat": 3,
 "nbformat_minor": 0,
 "worksheets": [
  {
   "cells": [
    {
     "cell_type": "markdown",
     "metadata": {},
     "source": [
      "# [ATM 623: Climate Modeling](../index.ipynb)\n",
      "[Brian E. J. Rose](http://www.atmos.albany.edu/facstaff/brose/index.html), University at Albany\n",
      "# Lecture N: No title"
     ]
    },
    {
     "cell_type": "markdown",
     "metadata": {},
     "source": [
      "## Contents\n",
      "\n",
      "1. [First section title](#section1)"
     ]
    },
    {
     "cell_type": "markdown",
     "metadata": {},
     "source": [
      "____________\n",
      "<a id='section1'></a>\n",
      "\n",
      "## 1. First section title\n",
      "____________\n",
      "\n",
      "Some text."
     ]
    },
    {
     "cell_type": "markdown",
     "metadata": {},
     "source": [
      "#Notes on radiative transfer equations following Pierrehumbert's book."
     ]
    },
    {
     "cell_type": "markdown",
     "metadata": {},
     "source": [
      "### Optical thickness\n",
      "\n",
      "The **optical thickness** of a layer of absorbers is $\\Delta \\tau^\\nu$. It is the emissivity and absorptivity of a layer of atmosphere.\n",
      "\n",
      "Passing to the limit of very thin layers, we define $\\tau^\\nu$ through\n",
      "\n",
      "$$ \\frac{d \\tau^\\nu}{dp} = -\\frac{1}{g} \\kappa $$\n",
      "\n",
      "where **$\\kappa$ is an absorption cross-section** per unit mass. It has units m$^2$ kg$^{-1}$. $\\kappa$ is a measure of the area taken out of the incident beam by absorbers in a unit mass of atmosphere.\n",
      "\n",
      "In general **$\\tau^\\nu$ depends on the frequency of the radiation**, as indicated here by the superscript $\\nu$."
     ]
    },
    {
     "cell_type": "markdown",
     "metadata": {},
     "source": [
      "### Using optical depth as vertical coordinate\n",
      "\n",
      "Since pressure decreases with altitude, $\\tau^\\nu$ increases with altitude.\n",
      "\n",
      "The equations of radiative transfer can be simplified by using $\\tau^\\nu$ as vertical coordinate instead of pressure."
     ]
    },
    {
     "cell_type": "markdown",
     "metadata": {},
     "source": [
      "### Absorption cross-section\n",
      "\n",
      "The specific absorption cross section $\\kappa$ depends on the number of molecules of each greenhouse gas encountered by the beam and the absorption properties characteristic to each kind of greenhouse gas molecule. Letting $q_i$ be the mass-specific concentration of greenhouse gas $i$, we may write in general\n",
      "\n",
      "$$ \\kappa(\\nu, p, T) = \\sum_{i=0}^n \\kappa_i\\big(\\nu, p, T \\big) q_i(p) $$\n",
      "\n",
      "For a well-mixed greenhouse gas, $q_i$ is a constant; for a non-well-mixed gas like water vapor we need to account for the vertical distribution of the gas through $q_i(p)$.\n",
      "\n",
      "The dependence of $\\kappa_i$ on temperature and pressure arises from certain aspects of the physics of molecular absorption. "
     ]
    },
    {
     "cell_type": "markdown",
     "metadata": {},
     "source": [
      "### Two-stream Schwarzschild equations\n",
      "\n",
      "For climate modeling we almost always seperate the total flux into two beams: upward and downward. This involves taking integrals of the full angular dependence of the flux. We'll skip the details here.\n",
      "\n",
      "Let $U$ be the upward beam, and $D$ be the downward beam. The governing equations for these beams are the *Schwarzschild equations*:\n",
      "\n",
      "\\begin{align}\n",
      "\\frac{d U}{d \\tau_\\nu} &= -U + E\\big( \\nu, T(\\tau^\\nu) \\big) \\\\\n",
      "\\frac{d D}{d \\tau_\\nu} &= D - E\\big( \\nu, T(\\tau^\\nu) \\big) \n",
      "\\end{align}\n",
      "\n",
      "where $E$ is the **emission** (both up and down), which in general depends on both **frequency** and **temperature**. We have written temperature as a function of the vertical coordinate (optical depth), \n",
      "\n",
      "The emissions are governed by the **Planck function**:\n",
      "\\begin{align}\n",
      "E &= \\pi~ B\\big( \\nu, T \\big) \\\\\n",
      "B\\big( \\nu, T \\big) &= \\frac{2 h \\nu^3}{c^2} \\frac{1}{\\exp \\left( \\frac{h \\nu}{k T} \\right) -1} \n",
      "\\end{align}\n",
      "\n",
      "with these fundamental physical constants:\n",
      "\n",
      "- $h = 6.626 \\times 10^{-34} ~\\text{J s} $ is Planck's constant\n",
      "- $c = 3.00 \\times 10^8 ~\\text{m s}^{-1} $ is the speed of light\n",
      "- $k = 1.38 \\times 10^{-23} ~\\text{J K}^{-1} $ is the Boltzmann Thermodynamic Constant\n",
      "\n",
      "The two-stream equations basically say the beam is **attenuated by absorption** (first term) and **augmented by emission** (second term) in each thin layer of gas.\n",
      "\n",
      "These equations are valid for beam that are **not affected by scattering**. We'll come back to that later."
     ]
    },
    {
     "cell_type": "markdown",
     "metadata": {},
     "source": [
      "### How do the fluxes change across a finite layer of absorbers?"
     ]
    },
    {
     "cell_type": "markdown",
     "metadata": {},
     "source": [
      "The above equations are linear, first order ODES, and they are uncoupled from each other (because we neglected scattering).\n",
      "\n",
      "Consider a layer of atmosphere from optical level $\\tau^\\nu_0$ to $\\tau^\\nu_1$. The optical thickness of the layer is $\\Delta \\tau^\\nu = \\tau^\\nu_1 - \\tau^\\nu_0$.\n",
      "\n",
      "The incident upwelling beam from below is denoted $U_0$; the upwelling beam that leaves the top of our layer is denoted $U_1$. We want to calculate $U_1$, which we can get by integrating the equation for $dU/d\\tau$ over our layer. The result is\n",
      "\n",
      "$$ U_1 = U_0 \\exp(-\\Delta \\tau^\\nu ) + \\int_{\\tau^\\nu_0}^{\\tau^\\nu_1} E \\exp\\left( -(\\tau^\\nu_1 - \\tau^{\\nu}) \\right) d\\tau^{\\nu} $$\n",
      "\n",
      "where $\\tau^{\\nu}$ is now a dummy variable of integration.\n",
      "\n",
      "The change in the downwelling beam is similar:\n",
      "\n",
      "$$ D_0 = D_1 \\exp(-\\Delta \\tau^\\nu ) + \\int_{\\tau^\\nu_0}^{\\tau^\\nu_1} E \\exp\\left( -(\\tau^{\\nu} - \\tau^\\nu_0) \\right) d\\tau^{\\nu} $$"
     ]
    },
    {
     "cell_type": "markdown",
     "metadata": {},
     "source": [
      "## Discretizing the Schwarzchild equations on a finite grid\n",
      "\n",
      "One particularly important reason to think about these changes over finite layers is that we will typically solve the radiative transfer equations in a numerical model where the temperature is represented on a discrete grid (often using pressure coordinates)."
     ]
    },
    {
     "cell_type": "markdown",
     "metadata": {},
     "source": [
      "If we assume that **temperature is uniform everywhere in our layer** then the emission $E$ is also a constant across the layer, which we will denote $E_0^\\nu$.\n",
      "\n",
      "It can come out the integral and the expressions simplify to\n",
      "\n",
      "\\begin{align}\n",
      "U_1 &= U_0 ~ \\exp(-\\Delta \\tau^\\nu )  + E_0^\\nu ~\\Big( 1 - \\exp(-\\Delta \\tau^\\nu ) \\Big)  \\\\\n",
      "D_0 &= D_1 ~ \\exp(-\\Delta \\tau^\\nu )  + E_0^\\nu ~\\Big( 1 - \\exp(-\\Delta \\tau^\\nu ) \\Big)\n",
      "\\end{align}"
     ]
    },
    {
     "cell_type": "markdown",
     "metadata": {},
     "source": [
      "### Transmissitivity\n",
      "The first term is the **transmission** of radition from the bottom to the top of the layer (or vice-versa). We can define the **transmissivity** of the layer as the fraction of the incident beam that is passed on to the next layer:\n",
      "\n",
      "\\begin{align}\n",
      "T^\\nu_0 &= \\frac{U_0 \\exp(-\\Delta \\tau^\\nu )}{U_0}  \\\\\n",
      " &= \\exp(-\\Delta \\tau^\\nu )\\\\\n",
      "\\end{align}"
     ]
    },
    {
     "cell_type": "markdown",
     "metadata": {},
     "source": [
      "### Emissivity\n",
      "The second term is the net change in the beam due to **emissions** in the layer. \n",
      "\n",
      "We can the define the **emissivity** of the layer analogously\n",
      "\n",
      "\\begin{align}\n",
      "\\epsilon^\\nu_0 &=  1 - \\exp(-\\Delta \\tau^\\nu ) \\\\\n",
      "  &= 1 - T^\\nu_0 \n",
      "\\end{align}"
     ]
    },
    {
     "cell_type": "markdown",
     "metadata": {},
     "source": [
      "### The discrete two-stream equations on a finite pressure grid\n",
      "\n",
      "Putting this all together gives us two simple equations that govern changes in the upwelling and downwelling beams across a discrete layer of optical depth $\\Delta \\tau^\\nu$:\n",
      "\n",
      "\\begin{align}\n",
      "U_1 &= (1-\\epsilon^\\nu_0) ~ U_0  + \\epsilon^\\nu_0 ~ E^\\nu_0  \\\\\n",
      "D_0 &= (1-\\epsilon^\\nu_0) ~ D_1 + \\epsilon^\\nu_0 ~ E^\\nu_0  \\\\\n",
      "\\end{align}\n",
      "\n",
      "Our model will typically be discretized in pressure coordinates. Suppose the thickness of the layer is $\\Delta p$, then the optical depth is\n",
      "\n",
      "$$ \\Delta \\tau^\\nu  = -\\frac{\\kappa^\\nu}{g} \\Delta p$$ \n",
      "(the minus sign accounts for the opposite sign conventions of the two coordinates).\n",
      "\n",
      "Thus the emissivity of the layer is\n",
      "\n",
      "$$  \\epsilon^\\nu_0 = 1 - \\exp\\left( \\frac{\\kappa^\\nu}{g} \\Delta p \\right)  $$\n",
      "\n",
      "which of course will vary with the frequency of the radiation and the absorption properties of the gases that are present in our layer."
     ]
    },
    {
     "cell_type": "heading",
     "level": 1,
     "metadata": {},
     "source": [
      "Introduce climlab tool for solving the radiative transfer equations"
     ]
    },
    {
     "cell_type": "markdown",
     "metadata": {},
     "source": [
      "...."
     ]
    },
    {
     "cell_type": "markdown",
     "metadata": {},
     "source": [
      "### Transmissivity is approximately (1 - emissivity)\n",
      "\n",
      "### THIS IS WROONG>  FIX IT.\n",
      "\n",
      "Notice that for a layer than is **optically thin**, $\\Delta \\tau << 1$, we can use a first order Taylor Series to write\n",
      "\n",
      "$$ T = \\exp(-\\Delta \\tau) \\approx 1 - \\Delta \\tau  $$\n",
      "\n",
      "So the change in the upwelling beam through a layer can be written as\n",
      "\n",
      "$$ \\Delta I_+ \\approx (1 - \\epsilon) I_+ + \\epsilon E  $$\n",
      "\n",
      "where $\\epsilon = \\Delta \\tau$ is the **emissivity** of the layer. This is the expression we used in our leaky greenhouse models.\n",
      "\n",
      "Note that in general $E$ and $\\epsilon$ will both depend strongly on frequency."
     ]
    },
    {
     "cell_type": "markdown",
     "metadata": {},
     "source": [
      "## The Grey Gas Model\n",
      "\n",
      "The absorption properties $\\kappa_i$ of most atmospheric gases varies enormously with the frequency of the radiation. Hence the optical thickness $\\tau_\\nu$ also has an intricate dependence on wavenumber or frequency. \n",
      "\n",
      "Our job as climate modelers is to calculate and understand the net atmospheric absorption and transmission of radiation. To do this thoroughly and accurately, the fluxes must be solved for individually on a very dense grid of wavenumbers, and then the results integrated over all wavenumbers.\n",
      "\n",
      "Actual radiative transfer codes (as used in GCMs) apply a lot of tricks and shortcuts to simplify this brute-force approach, but lead to sets of equations that are difficult to understand.\n",
      "\n",
      "However, there is a lot we can understand about the basics of radiative transfer and the greenhouse effect by ignoring the spectral dependence of the flux.\n",
      "\n",
      "Specifically, we make the approximation\n",
      "\n",
      "$$ \\kappa(\\nu, p, T) = \\kappa(p) $$\n",
      "\n",
      "so that the optical depth $\\tau$ is now **independent of frequency**.\n",
      "\n",
      "This is known as the **grey gas approximation**."
     ]
    },
    {
     "cell_type": "markdown",
     "metadata": {},
     "source": [
      "## Grey gas versions of the Schwarzschild equations\n",
      "\n",
      "### Integrating the Planck function\n",
      "If we assume $\\tau_\\nu$ is independent of frequency, we can then integrate the two-stream equations over all frequencies.\n",
      "\n",
      "The integral of the Planck function gives our familiar Stefan-Boltzmann blackbody radiation law\n",
      "\n",
      "$$ \\int_0^{\\infty} \\pi B\\big( \\nu, T \\big) d\\nu = \\sigma T^4  $$\n",
      "\n",
      "with \n",
      "\n",
      "$$ \\sigma = \\frac{2 \\pi^5 k^4}{15 c^2 h^3} = 5.67 \\times 10^{-8} ~\\text{W m}^{-2}~\\text{K}^{-4}$$"
     ]
    },
    {
     "cell_type": "code",
     "collapsed": false,
     "input": [
      "# climlab has these constants available, and actually calculates sigma from the above formula\n",
      "from climlab import constants as const\n",
      "import numpy as np\n",
      "\n",
      "sigma = (2*np.pi**5 * const.kBoltzmann**4) / (15 * const.c_light**2 * const.hPlanck**3)\n",
      "print sigma\n",
      "print sigma == const.sigma"
     ],
     "language": "python",
     "metadata": {},
     "outputs": [
      {
       "output_type": "stream",
       "stream": "stdout",
       "text": [
        "5.67037262259e-08\n",
        "True\n"
       ]
      }
     ],
     "prompt_number": 5
    },
    {
     "cell_type": "markdown",
     "metadata": {},
     "source": [
      "### The grey gas equations\n",
      "This gives the governing equations for the grey gas model:\n",
      "\n",
      "\\begin{align}\n",
      "\\frac{d}{d \\tau} I_+ &= -I_+ + \\sigma T(\\tau)^4 \\\\\n",
      "\\frac{d}{d \\tau} I_- &= I_- - \\sigma T(\\tau)^4 \n",
      "\\end{align}\n",
      "\n",
      "These equations now say that the beam is diminished by absorption in a thin layer (first term) and augmented by emission, where both absorptivity and emissivity are independent of frequency."
     ]
    },
    {
     "cell_type": "markdown",
     "metadata": {},
     "source": [
      "## Discretizing the grey gas equations on a finite pressure grid"
     ]
    },
    {
     "cell_type": "markdown",
     "metadata": {},
     "source": [
      "We have been denoting the **emissivity** of a layer as $\\epsilon$, so that the upwelling emission from each layer is written\n",
      "\n",
      "$$ \\epsilon \\sigma T^4$$\n",
      "\n",
      "Here we can identify this emissivity with the optical depth of the layer,\n",
      "\n",
      "$$ \\epsilon = \\Delta \\tau $$"
     ]
    },
    {
     "cell_type": "markdown",
     "metadata": {},
     "source": [
      "Notice that for a layer than is **optically thin**, $\\Delta \\tau << 1$, we can write\n",
      "\n",
      "$$ T = \\exp(-\\Delta \\tau) \\approx 1 - \\Delta \\tau = 1 - \\epsilon $$\n",
      "\n",
      "So we can write the change in the upwelling beam through a layer as\n",
      "\n",
      "$$ \\Delta I_+ \\approx (1 - \\epsilon) I_+ + \\epsilon \\sigma T(\\tau)^4  $$\n",
      "\n",
      "This is the expression we used in our leaky greenhouse models."
     ]
    },
    {
     "cell_type": "markdown",
     "metadata": {},
     "source": [
      "The optical thickness (or equivalently, the emissivity) of a thin layer of atmosphere is\n",
      "\n",
      "$$ \\epsilon = \\Delta \\tau  = -\\frac{\\kappa}{g} \\Delta p$$ "
     ]
    },
    {
     "cell_type": "code",
     "collapsed": false,
     "input": [],
     "language": "python",
     "metadata": {},
     "outputs": []
    },
    {
     "cell_type": "markdown",
     "metadata": {},
     "source": [
      "<div class=\"alert alert-success\">\n",
      "[Back to ATM 623 notebook home](../index.ipynb)\n",
      "</div>"
     ]
    },
    {
     "cell_type": "markdown",
     "metadata": {},
     "source": [
      "____________\n",
      "## Credits\n",
      "\n",
      "The author of this notebook is [Brian E. J. Rose](http://www.atmos.albany.edu/facstaff/brose/index.html), University at Albany.\n",
      "\n",
      "It was developed in support of [ATM 623: Climate Modeling](http://www.atmos.albany.edu/facstaff/brose/classes/ATM623_Spring2015/), a graduate-level course in the [Department of Atmospheric and Envionmental Sciences](http://www.albany.edu/atmos/index.php), offered in Spring 2015.\n",
      "____________"
     ]
    }
   ],
   "metadata": {}
  }
 ]
}