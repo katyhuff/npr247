{
 "cells": [
  {
   "cell_type": "code",
   "execution_count": 2,
   "metadata": {
    "collapsed": true
   },
   "outputs": [],
   "source": [
    "%matplotlib inline\n",
    "\n",
    "import matplotlib\n",
    "import numpy as np\n",
    "import matplotlib.pyplot as plt\n",
    "\n",
    "plt.rcParams[\"figure.figsize\"] = (12, 9)\n",
    "plt.rcParams[\"font.size\"] = 18"
   ]
  },
  {
   "cell_type": "markdown",
   "metadata": {},
   "source": [
    "# Radioactivity\n",
    "\n"
   ]
  },
  {
   "cell_type": "markdown",
   "metadata": {},
   "source": [
    "## Discovery of Radioactivity\n",
    "- Radioactivity was first discovered in 1896 by  Henri Becquerel, while working on phosphorescent materials.\n",
    "- These materials glow in the dark after exposure to light, and he thought that the glow produced in cathode ray tubes by X-rays might be connected with phosphorescence.\n",
    "- He wrapped a photographic plate in black paper and placed various phosphorescent minerals on it.\n",
    "- All results were negative until he used uranium salts.\n",
    "\n",
    "<a title=\"By UnknownUnknown author (http://ihm.nlm.nih.gov/images/B02617) [Public domain], via Wikimedia Commons\" href=\"https://commons.wikimedia.org/wiki/File:Becquerel_in_the_lab.jpg\"><img width=\"256\" alt=\"Becquerel in the lab\" src=\"https://upload.wikimedia.org/wikipedia/commons/thumb/b/b6/Becquerel_in_the_lab.jpg/256px-Becquerel_in_the_lab.jpg\"></a>\n",
    "<center>Becquerel in the lab</center>\n",
    "\n",
    "<a title=\"By Henri Becquerel [Public domain], via Wikimedia Commons\" href=\"https://commons.wikimedia.org/wiki/File:Becquerel_plate.jpg\"><img width=\"256\" alt=\"Becquerel plate\" src=\"https://upload.wikimedia.org/wikipedia/commons/1/1e/Becquerel_plate.jpg\"></a>\n",
    "<center>Photographic plate made by Henri Becquerel showing effects of exposure to radioactivity.</center>\n"
   ]
  },
  {
   "cell_type": "markdown",
   "metadata": {},
   "source": [
    "**What is nuclear decay?**\n",
    "A spontaneous process where the protons and neutrons in a given nucleus are rearranged into a lower energy state.\n",
    "The transition may involve levels of the same nucleus (gamma emission, internal conversion) or levels of a different nucleus (alpha, beta decay).\n",
    "\n",
    "**Why do nuclei decay?**\n",
    "\n",
    "A nucleus decays when it is unstable.  It undergoes decay in order to become more stable (lower energy state).\n",
    "Nucleus can be unstable for two reasons: due to its size or due to ratio of protons to neutrons. If it is too big, then it needs to become smaller.  If the proton/neutron ratio is too far from the stability range, it needs to change.\n",
    "\n",
    "Where do the unstable nucleus come from?\n"
   ]
  },
  {
   "cell_type": "markdown",
   "metadata": {},
   "source": [
    "## Sources of Radiation\n",
    "\n",
    "> A chart of the public's exposure to ionizing radiation (displayed below) \n",
    "> shows that people generally receive a total annual dose of about 620 millirem. \n",
    "> Of this total, natural sources of radiation account for about 50 percent, \n",
    "> while man-made sources account for the remaining 50 percent. -- US NRC\n",
    "\n",
    "![https://www.nrc.gov/images/reading-rm/basic-ref/glossary/ionizing-radiation.jpg](https://www.nrc.gov/images/reading-rm/basic-ref/glossary/ionizing-radiation.jpg)\n",
    "\n",
    "## Natural Sources\n",
    "\n",
    "\n",
    "\n",
    "### Terrestrial\n",
    "\n",
    "Uranium, thorium, radium, etc. are all present naturally inside rocks and soil and are part of the four major decay chains. Others are 'primordial.' Primoidal radioactive isotopes include about 20 isotopes that are long lived and not part of any decay chain (K-40, Rubidium-87) Potassium has a quite radioactive isotope, $^{40}K$. (bananas)\n",
    "\n",
    "<a title=\"By Offnfopt [Public domain or CC0], via Wikimedia Commons\" href=\"https://commons.wikimedia.org/wiki/File:Evolution_of_Earth%27s_radiogenic_heat.svg\"><img width=\"512\" alt=\"Evolution of Earth&#039;s radiogenic heat\" src=\"https://upload.wikimedia.org/wikipedia/commons/thumb/b/b9/Evolution_of_Earth%27s_radiogenic_heat.svg/512px-Evolution_of_Earth%27s_radiogenic_heat.svg.png\"></a>\n",
    "<center>Evolution of the earth's radiogenic heat (in the mantle).</center>\n",
    "\n",
    "### Internal\n",
    "\n",
    "Mostly $^{40}K$ and $^{14}C$ inside your body.\n",
    "\n",
    "### Cosmic\n",
    "Commonly, cosmic radiation includes $^{14}C$, tritium ($^3H$), and others.\n",
    "\n",
    "<p><a href=\"https://commons.wikimedia.org/wiki/File:Shower_detection.png#/media/File:Shower_detection.png\"><img src=\"https://upload.wikimedia.org/wikipedia/commons/2/27/Shower_detection.png\" alt=\"Shower detection.png\"></a><br><a href=\"http://creativecommons.org/licenses/by-sa/3.0/\" title=\"Creative Commons Attribution-Share Alike 3.0\">CC BY-SA 3.0</a>, <a href=\"https://commons.wikimedia.org/w/index.php?curid=44271\">Link</a></p>\n",
    "\n",
    "\n",
    "![https://astrobiology.nasa.gov/uploads/filer_public/a2/c0/a2c0db08-192f-4694-a97c-f8650e1774fe/image-of-cosmic-ray-tracks.jpg](https://astrobiology.nasa.gov/uploads/filer_public/a2/c0/a2c0db08-192f-4694-a97c-f8650e1774fe/image-of-cosmic-ray-tracks.jpg)\n",
    "\n",
    "Air showers ensuing from very-high-energy cosmic rays can enter Earth’s atmosphere from multiple directions. Credit: Simon Swordy/NASA.\n",
    "\n",
    "\n",
    "## Man-Made Radiation\n",
    "\n",
    "Of approximately 3200 known nuclides:\n",
    "- **266** are stable, \n",
    "- **65** long-lived radioactive isotopes are found in nature, \n",
    "- and the remaining **~2900** have been made by humans.\n",
    "\n",
    "One of the heaviest named elements is Livermorium (Z=116), its most stable isotope $^{293}Lv$ has half-life $t_{1/2} = 60 ms$.\n",
    "\n"
   ]
  },
  {
   "cell_type": "markdown",
   "metadata": {},
   "source": [
    "\n",
    "\n",
    "### Decay\n",
    "\n",
    "Radioactive decay takes place stochastically in a single atom, and quite predictably in a large group of radioactive atoms of the same type.\n",
    "\n",
    "$$\n",
    "\\begin{align}\n",
    "        \\frac{dN}{dt} &= -\\lambda N \\\\\n",
    "       \\Rightarrow N_i(t) &= N_i(0)e^{-\\lambda t}\\\\\n",
    "\\end{align}\n",
    "$$\n",
    "\n",
    "where\n",
    "\n",
    "$$\n",
    "\\begin{align}\n",
    "        N_i(t) &= \\mbox{number of isotopes i adjusted for decay}\\\\\n",
    "        N_i(0)&= \\mbox{initial condition}\\\\\n",
    "        \\lambda &= \\frac{ln(2)}{t_{1/2}} = \\mbox{decay constant} \\\\\n",
    "        t &= \\mbox{time elapsed [s]}\\\\\n",
    "        t_{1/2} &= 1 = \\mbox{half-life [s]} \\\\\n",
    "\\end{align}\n",
    "$$\n"
   ]
  },
  {
   "cell_type": "code",
   "execution_count": 6,
   "metadata": {
    "collapsed": false
   },
   "outputs": [
    {
     "data": {
      "text/html": [
       "\n",
       "\n",
       "<style>\n",
       "\n",
       "</style>\n",
       "\n",
       "<div id=\"fig_el534545379577362968027951\"></div>\n",
       "<script>\n",
       "function mpld3_load_lib(url, callback){\n",
       "  var s = document.createElement('script');\n",
       "  s.src = url;\n",
       "  s.async = true;\n",
       "  s.onreadystatechange = s.onload = callback;\n",
       "  s.onerror = function(){console.warn(\"failed to load library \" + url);};\n",
       "  document.getElementsByTagName(\"head\")[0].appendChild(s);\n",
       "}\n",
       "\n",
       "if(typeof(mpld3) !== \"undefined\" && mpld3._mpld3IsLoaded){\n",
       "   // already loaded: just create the figure\n",
       "   !function(mpld3){\n",
       "       \n",
       "       mpld3.draw_figure(\"fig_el534545379577362968027951\", {\"id\": \"el53454537957736\", \"height\": 720.0, \"width\": 960.0, \"data\": {\"data01\": [[0.0, 100.0], [1.0, 50.0], [2.0, 25.0], [3.0, 12.0], [4.0, 6.0], [5.0, 3.0], [6.0, 1.0], [7.0, 0.0], [8.0, 0.0], [9.0, 0.0], [10.0, 0.0], [11.0, 0.0], [12.0, 0.0], [13.0, 0.0], [14.0, 0.0], [15.0, 0.0], [16.0, 0.0], [17.0, 0.0], [18.0, 0.0], [19.0, 0.0], [20.0, 0.0], [21.0, 0.0], [22.0, 0.0], [23.0, 0.0]]}, \"axes\": [{\"texts\": [{\"position\": [0.5, -0.05197132616487454], \"rotation\": -0.0, \"text\": \"Time\", \"coordinates\": \"axes\", \"fontsize\": 18.0, \"color\": \"#000000\", \"id\": \"el53454534854376\", \"h_anchor\": \"middle\", \"v_baseline\": \"hanging\", \"zorder\": 3, \"alpha\": 1}, {\"position\": [-0.07022849462365593, 0.5], \"rotation\": -90.0, \"text\": \"N_i(t)\", \"coordinates\": \"axes\", \"fontsize\": 18.0, \"color\": \"#000000\", \"id\": \"el53454534754160\", \"h_anchor\": \"middle\", \"v_baseline\": \"auto\", \"zorder\": 3, \"alpha\": 1}, {\"position\": [0.5, 1.0099561927518916], \"rotation\": -0.0, \"text\": \"N_i\", \"coordinates\": \"axes\", \"fontsize\": 21.599999999999998, \"color\": \"#000000\", \"id\": \"el53454499280952\", \"h_anchor\": \"middle\", \"v_baseline\": \"auto\", \"zorder\": 3, \"alpha\": 1}], \"zoomable\": true, \"axesbgalpha\": null, \"sharex\": [], \"lines\": [{\"color\": \"#FF0000\", \"id\": \"el53454499221360\", \"coordinates\": \"data\", \"xindex\": 0, \"yindex\": 1, \"data\": \"data01\", \"dasharray\": \"10,0\", \"zorder\": 2, \"alpha\": 1, \"linewidth\": 1.0}], \"ydomain\": [-20.0, 120.0], \"bbox\": [0.125, 0.125, 0.775, 0.775], \"yscale\": \"linear\", \"xscale\": \"linear\", \"ylim\": [-20.0, 120.0], \"axesbg\": \"#FFFFFF\", \"collections\": [{\"offsetcoordinates\": \"data\", \"alphas\": [0.4], \"xindex\": 0, \"id\": \"el53454537955160\", \"edgewidths\": [1.0], \"pathcoordinates\": \"display\", \"pathtransforms\": [[49.69039949999532, 0.0, 0.0, 49.69039949999532, 0.0, 0.0], [35.136418446315325, 0.0, 0.0, 35.136418446315325, 0.0, 0.0], [24.84519974999766, 0.0, 0.0, 24.84519974999766, 0.0, 0.0], [17.21325931647741, 0.0, 0.0, 17.21325931647741, 0.0, 0.0], [12.171612389003691, 0.0, 0.0, 12.171612389003691, 0.0, 0.0], [8.606629658238704, 0.0, 0.0, 8.606629658238704, 0.0, 0.0], [4.969039949999533, 0.0, 0.0, 4.969039949999533, 0.0, 0.0], [0.0, 0.0, 0.0, 0.0, 0.0, 0.0], [0.0, 0.0, 0.0, 0.0, 0.0, 0.0], [0.0, 0.0, 0.0, 0.0, 0.0, 0.0], [0.0, 0.0, 0.0, 0.0, 0.0, 0.0], [0.0, 0.0, 0.0, 0.0, 0.0, 0.0], [0.0, 0.0, 0.0, 0.0, 0.0, 0.0], [0.0, 0.0, 0.0, 0.0, 0.0, 0.0], [0.0, 0.0, 0.0, 0.0, 0.0, 0.0], [0.0, 0.0, 0.0, 0.0, 0.0, 0.0], [0.0, 0.0, 0.0, 0.0, 0.0, 0.0], [0.0, 0.0, 0.0, 0.0, 0.0, 0.0], [0.0, 0.0, 0.0, 0.0, 0.0, 0.0], [0.0, 0.0, 0.0, 0.0, 0.0, 0.0], [0.0, 0.0, 0.0, 0.0, 0.0, 0.0], [0.0, 0.0, 0.0, 0.0, 0.0, 0.0], [0.0, 0.0, 0.0, 0.0, 0.0, 0.0], [0.0, 0.0, 0.0, 0.0, 0.0, 0.0]], \"facecolors\": [\"#0000FF\"], \"edgecolors\": [\"#0000FF\"], \"offsets\": \"data01\", \"yindex\": 1, \"zorder\": 1, \"paths\": [[[[0.0, -0.5], [0.13260155, -0.5], [0.25978993539242673, -0.44731684579412084], [0.3535533905932738, -0.3535533905932738], [0.44731684579412084, -0.25978993539242673], [0.5, -0.13260155], [0.5, 0.0], [0.5, 0.13260155], [0.44731684579412084, 0.25978993539242673], [0.3535533905932738, 0.3535533905932738], [0.25978993539242673, 0.44731684579412084], [0.13260155, 0.5], [0.0, 0.5], [-0.13260155, 0.5], [-0.25978993539242673, 0.44731684579412084], [-0.3535533905932738, 0.3535533905932738], [-0.44731684579412084, 0.25978993539242673], [-0.5, 0.13260155], [-0.5, 0.0], [-0.5, -0.13260155], [-0.44731684579412084, -0.25978993539242673], [-0.3535533905932738, -0.3535533905932738], [-0.25978993539242673, -0.44731684579412084], [-0.13260155, -0.5], [0.0, -0.5]], [\"M\", \"C\", \"C\", \"C\", \"C\", \"C\", \"C\", \"C\", \"C\", \"Z\"]]]}], \"markers\": [], \"xdomain\": [-5.0, 25.0], \"sharey\": [], \"axes\": [{\"grid\": {\"gridOn\": false}, \"position\": \"bottom\", \"scale\": \"linear\", \"tickvalues\": null, \"tickformat\": null, \"nticks\": 7, \"fontsize\": 18.0}, {\"grid\": {\"gridOn\": false}, \"position\": \"left\", \"scale\": \"linear\", \"tickvalues\": null, \"tickformat\": null, \"nticks\": 8, \"fontsize\": 18.0}], \"id\": \"el53454533150496\", \"images\": [], \"paths\": [], \"xlim\": [-5.0, 25.0]}], \"plugins\": [{\"type\": \"reset\"}, {\"button\": true, \"enabled\": false, \"type\": \"zoom\"}, {\"button\": true, \"enabled\": false, \"type\": \"boxzoom\"}, {\"id\": \"el53454537955160\", \"hoffset\": 0, \"labels\": [\"100% remaining\", \"50% remaining\", \"25% remaining\", \"12% remaining\", \"6% remaining\", \"3% remaining\", \"1% remaining\", \"0% remaining\", \"0% remaining\", \"0% remaining\", \"0% remaining\", \"0% remaining\", \"0% remaining\", \"0% remaining\", \"0% remaining\", \"0% remaining\", \"0% remaining\", \"0% remaining\", \"0% remaining\", \"0% remaining\", \"0% remaining\", \"0% remaining\", \"0% remaining\", \"0% remaining\"], \"type\": \"tooltip\", \"voffset\": 10, \"location\": \"mouse\"}]});\n",
       "   }(mpld3);\n",
       "}else if(typeof define === \"function\" && define.amd){\n",
       "   // require.js is available: use it to load d3/mpld3\n",
       "   require.config({paths: {d3: \"https://mpld3.github.io/js/d3.v3.min\"}});\n",
       "   require([\"d3\"], function(d3){\n",
       "      window.d3 = d3;\n",
       "      mpld3_load_lib(\"https://mpld3.github.io/js/mpld3.v0.2.js\", function(){\n",
       "         \n",
       "         mpld3.draw_figure(\"fig_el534545379577362968027951\", {\"id\": \"el53454537957736\", \"height\": 720.0, \"width\": 960.0, \"data\": {\"data01\": [[0.0, 100.0], [1.0, 50.0], [2.0, 25.0], [3.0, 12.0], [4.0, 6.0], [5.0, 3.0], [6.0, 1.0], [7.0, 0.0], [8.0, 0.0], [9.0, 0.0], [10.0, 0.0], [11.0, 0.0], [12.0, 0.0], [13.0, 0.0], [14.0, 0.0], [15.0, 0.0], [16.0, 0.0], [17.0, 0.0], [18.0, 0.0], [19.0, 0.0], [20.0, 0.0], [21.0, 0.0], [22.0, 0.0], [23.0, 0.0]]}, \"axes\": [{\"texts\": [{\"position\": [0.5, -0.05197132616487454], \"rotation\": -0.0, \"text\": \"Time\", \"coordinates\": \"axes\", \"fontsize\": 18.0, \"color\": \"#000000\", \"id\": \"el53454534854376\", \"h_anchor\": \"middle\", \"v_baseline\": \"hanging\", \"zorder\": 3, \"alpha\": 1}, {\"position\": [-0.07022849462365593, 0.5], \"rotation\": -90.0, \"text\": \"N_i(t)\", \"coordinates\": \"axes\", \"fontsize\": 18.0, \"color\": \"#000000\", \"id\": \"el53454534754160\", \"h_anchor\": \"middle\", \"v_baseline\": \"auto\", \"zorder\": 3, \"alpha\": 1}, {\"position\": [0.5, 1.0099561927518916], \"rotation\": -0.0, \"text\": \"N_i\", \"coordinates\": \"axes\", \"fontsize\": 21.599999999999998, \"color\": \"#000000\", \"id\": \"el53454499280952\", \"h_anchor\": \"middle\", \"v_baseline\": \"auto\", \"zorder\": 3, \"alpha\": 1}], \"zoomable\": true, \"axesbgalpha\": null, \"sharex\": [], \"lines\": [{\"color\": \"#FF0000\", \"id\": \"el53454499221360\", \"coordinates\": \"data\", \"xindex\": 0, \"yindex\": 1, \"data\": \"data01\", \"dasharray\": \"10,0\", \"zorder\": 2, \"alpha\": 1, \"linewidth\": 1.0}], \"ydomain\": [-20.0, 120.0], \"bbox\": [0.125, 0.125, 0.775, 0.775], \"yscale\": \"linear\", \"xscale\": \"linear\", \"ylim\": [-20.0, 120.0], \"axesbg\": \"#FFFFFF\", \"collections\": [{\"offsetcoordinates\": \"data\", \"alphas\": [0.4], \"xindex\": 0, \"id\": \"el53454537955160\", \"edgewidths\": [1.0], \"pathcoordinates\": \"display\", \"pathtransforms\": [[49.69039949999532, 0.0, 0.0, 49.69039949999532, 0.0, 0.0], [35.136418446315325, 0.0, 0.0, 35.136418446315325, 0.0, 0.0], [24.84519974999766, 0.0, 0.0, 24.84519974999766, 0.0, 0.0], [17.21325931647741, 0.0, 0.0, 17.21325931647741, 0.0, 0.0], [12.171612389003691, 0.0, 0.0, 12.171612389003691, 0.0, 0.0], [8.606629658238704, 0.0, 0.0, 8.606629658238704, 0.0, 0.0], [4.969039949999533, 0.0, 0.0, 4.969039949999533, 0.0, 0.0], [0.0, 0.0, 0.0, 0.0, 0.0, 0.0], [0.0, 0.0, 0.0, 0.0, 0.0, 0.0], [0.0, 0.0, 0.0, 0.0, 0.0, 0.0], [0.0, 0.0, 0.0, 0.0, 0.0, 0.0], [0.0, 0.0, 0.0, 0.0, 0.0, 0.0], [0.0, 0.0, 0.0, 0.0, 0.0, 0.0], [0.0, 0.0, 0.0, 0.0, 0.0, 0.0], [0.0, 0.0, 0.0, 0.0, 0.0, 0.0], [0.0, 0.0, 0.0, 0.0, 0.0, 0.0], [0.0, 0.0, 0.0, 0.0, 0.0, 0.0], [0.0, 0.0, 0.0, 0.0, 0.0, 0.0], [0.0, 0.0, 0.0, 0.0, 0.0, 0.0], [0.0, 0.0, 0.0, 0.0, 0.0, 0.0], [0.0, 0.0, 0.0, 0.0, 0.0, 0.0], [0.0, 0.0, 0.0, 0.0, 0.0, 0.0], [0.0, 0.0, 0.0, 0.0, 0.0, 0.0], [0.0, 0.0, 0.0, 0.0, 0.0, 0.0]], \"facecolors\": [\"#0000FF\"], \"edgecolors\": [\"#0000FF\"], \"offsets\": \"data01\", \"yindex\": 1, \"zorder\": 1, \"paths\": [[[[0.0, -0.5], [0.13260155, -0.5], [0.25978993539242673, -0.44731684579412084], [0.3535533905932738, -0.3535533905932738], [0.44731684579412084, -0.25978993539242673], [0.5, -0.13260155], [0.5, 0.0], [0.5, 0.13260155], [0.44731684579412084, 0.25978993539242673], [0.3535533905932738, 0.3535533905932738], [0.25978993539242673, 0.44731684579412084], [0.13260155, 0.5], [0.0, 0.5], [-0.13260155, 0.5], [-0.25978993539242673, 0.44731684579412084], [-0.3535533905932738, 0.3535533905932738], [-0.44731684579412084, 0.25978993539242673], [-0.5, 0.13260155], [-0.5, 0.0], [-0.5, -0.13260155], [-0.44731684579412084, -0.25978993539242673], [-0.3535533905932738, -0.3535533905932738], [-0.25978993539242673, -0.44731684579412084], [-0.13260155, -0.5], [0.0, -0.5]], [\"M\", \"C\", \"C\", \"C\", \"C\", \"C\", \"C\", \"C\", \"C\", \"Z\"]]]}], \"markers\": [], \"xdomain\": [-5.0, 25.0], \"sharey\": [], \"axes\": [{\"grid\": {\"gridOn\": false}, \"position\": \"bottom\", \"scale\": \"linear\", \"tickvalues\": null, \"tickformat\": null, \"nticks\": 7, \"fontsize\": 18.0}, {\"grid\": {\"gridOn\": false}, \"position\": \"left\", \"scale\": \"linear\", \"tickvalues\": null, \"tickformat\": null, \"nticks\": 8, \"fontsize\": 18.0}], \"id\": \"el53454533150496\", \"images\": [], \"paths\": [], \"xlim\": [-5.0, 25.0]}], \"plugins\": [{\"type\": \"reset\"}, {\"button\": true, \"enabled\": false, \"type\": \"zoom\"}, {\"button\": true, \"enabled\": false, \"type\": \"boxzoom\"}, {\"id\": \"el53454537955160\", \"hoffset\": 0, \"labels\": [\"100% remaining\", \"50% remaining\", \"25% remaining\", \"12% remaining\", \"6% remaining\", \"3% remaining\", \"1% remaining\", \"0% remaining\", \"0% remaining\", \"0% remaining\", \"0% remaining\", \"0% remaining\", \"0% remaining\", \"0% remaining\", \"0% remaining\", \"0% remaining\", \"0% remaining\", \"0% remaining\", \"0% remaining\", \"0% remaining\", \"0% remaining\", \"0% remaining\", \"0% remaining\", \"0% remaining\"], \"type\": \"tooltip\", \"voffset\": 10, \"location\": \"mouse\"}]});\n",
       "      });\n",
       "    });\n",
       "}else{\n",
       "    // require.js not available: dynamically load d3 & mpld3\n",
       "    mpld3_load_lib(\"https://mpld3.github.io/js/d3.v3.min.js\", function(){\n",
       "         mpld3_load_lib(\"https://mpld3.github.io/js/mpld3.v0.2.js\", function(){\n",
       "                 \n",
       "                 mpld3.draw_figure(\"fig_el534545379577362968027951\", {\"id\": \"el53454537957736\", \"height\": 720.0, \"width\": 960.0, \"data\": {\"data01\": [[0.0, 100.0], [1.0, 50.0], [2.0, 25.0], [3.0, 12.0], [4.0, 6.0], [5.0, 3.0], [6.0, 1.0], [7.0, 0.0], [8.0, 0.0], [9.0, 0.0], [10.0, 0.0], [11.0, 0.0], [12.0, 0.0], [13.0, 0.0], [14.0, 0.0], [15.0, 0.0], [16.0, 0.0], [17.0, 0.0], [18.0, 0.0], [19.0, 0.0], [20.0, 0.0], [21.0, 0.0], [22.0, 0.0], [23.0, 0.0]]}, \"axes\": [{\"texts\": [{\"position\": [0.5, -0.05197132616487454], \"rotation\": -0.0, \"text\": \"Time\", \"coordinates\": \"axes\", \"fontsize\": 18.0, \"color\": \"#000000\", \"id\": \"el53454534854376\", \"h_anchor\": \"middle\", \"v_baseline\": \"hanging\", \"zorder\": 3, \"alpha\": 1}, {\"position\": [-0.07022849462365593, 0.5], \"rotation\": -90.0, \"text\": \"N_i(t)\", \"coordinates\": \"axes\", \"fontsize\": 18.0, \"color\": \"#000000\", \"id\": \"el53454534754160\", \"h_anchor\": \"middle\", \"v_baseline\": \"auto\", \"zorder\": 3, \"alpha\": 1}, {\"position\": [0.5, 1.0099561927518916], \"rotation\": -0.0, \"text\": \"N_i\", \"coordinates\": \"axes\", \"fontsize\": 21.599999999999998, \"color\": \"#000000\", \"id\": \"el53454499280952\", \"h_anchor\": \"middle\", \"v_baseline\": \"auto\", \"zorder\": 3, \"alpha\": 1}], \"zoomable\": true, \"axesbgalpha\": null, \"sharex\": [], \"lines\": [{\"color\": \"#FF0000\", \"id\": \"el53454499221360\", \"coordinates\": \"data\", \"xindex\": 0, \"yindex\": 1, \"data\": \"data01\", \"dasharray\": \"10,0\", \"zorder\": 2, \"alpha\": 1, \"linewidth\": 1.0}], \"ydomain\": [-20.0, 120.0], \"bbox\": [0.125, 0.125, 0.775, 0.775], \"yscale\": \"linear\", \"xscale\": \"linear\", \"ylim\": [-20.0, 120.0], \"axesbg\": \"#FFFFFF\", \"collections\": [{\"offsetcoordinates\": \"data\", \"alphas\": [0.4], \"xindex\": 0, \"id\": \"el53454537955160\", \"edgewidths\": [1.0], \"pathcoordinates\": \"display\", \"pathtransforms\": [[49.69039949999532, 0.0, 0.0, 49.69039949999532, 0.0, 0.0], [35.136418446315325, 0.0, 0.0, 35.136418446315325, 0.0, 0.0], [24.84519974999766, 0.0, 0.0, 24.84519974999766, 0.0, 0.0], [17.21325931647741, 0.0, 0.0, 17.21325931647741, 0.0, 0.0], [12.171612389003691, 0.0, 0.0, 12.171612389003691, 0.0, 0.0], [8.606629658238704, 0.0, 0.0, 8.606629658238704, 0.0, 0.0], [4.969039949999533, 0.0, 0.0, 4.969039949999533, 0.0, 0.0], [0.0, 0.0, 0.0, 0.0, 0.0, 0.0], [0.0, 0.0, 0.0, 0.0, 0.0, 0.0], [0.0, 0.0, 0.0, 0.0, 0.0, 0.0], [0.0, 0.0, 0.0, 0.0, 0.0, 0.0], [0.0, 0.0, 0.0, 0.0, 0.0, 0.0], [0.0, 0.0, 0.0, 0.0, 0.0, 0.0], [0.0, 0.0, 0.0, 0.0, 0.0, 0.0], [0.0, 0.0, 0.0, 0.0, 0.0, 0.0], [0.0, 0.0, 0.0, 0.0, 0.0, 0.0], [0.0, 0.0, 0.0, 0.0, 0.0, 0.0], [0.0, 0.0, 0.0, 0.0, 0.0, 0.0], [0.0, 0.0, 0.0, 0.0, 0.0, 0.0], [0.0, 0.0, 0.0, 0.0, 0.0, 0.0], [0.0, 0.0, 0.0, 0.0, 0.0, 0.0], [0.0, 0.0, 0.0, 0.0, 0.0, 0.0], [0.0, 0.0, 0.0, 0.0, 0.0, 0.0], [0.0, 0.0, 0.0, 0.0, 0.0, 0.0]], \"facecolors\": [\"#0000FF\"], \"edgecolors\": [\"#0000FF\"], \"offsets\": \"data01\", \"yindex\": 1, \"zorder\": 1, \"paths\": [[[[0.0, -0.5], [0.13260155, -0.5], [0.25978993539242673, -0.44731684579412084], [0.3535533905932738, -0.3535533905932738], [0.44731684579412084, -0.25978993539242673], [0.5, -0.13260155], [0.5, 0.0], [0.5, 0.13260155], [0.44731684579412084, 0.25978993539242673], [0.3535533905932738, 0.3535533905932738], [0.25978993539242673, 0.44731684579412084], [0.13260155, 0.5], [0.0, 0.5], [-0.13260155, 0.5], [-0.25978993539242673, 0.44731684579412084], [-0.3535533905932738, 0.3535533905932738], [-0.44731684579412084, 0.25978993539242673], [-0.5, 0.13260155], [-0.5, 0.0], [-0.5, -0.13260155], [-0.44731684579412084, -0.25978993539242673], [-0.3535533905932738, -0.3535533905932738], [-0.25978993539242673, -0.44731684579412084], [-0.13260155, -0.5], [0.0, -0.5]], [\"M\", \"C\", \"C\", \"C\", \"C\", \"C\", \"C\", \"C\", \"C\", \"Z\"]]]}], \"markers\": [], \"xdomain\": [-5.0, 25.0], \"sharey\": [], \"axes\": [{\"grid\": {\"gridOn\": false}, \"position\": \"bottom\", \"scale\": \"linear\", \"tickvalues\": null, \"tickformat\": null, \"nticks\": 7, \"fontsize\": 18.0}, {\"grid\": {\"gridOn\": false}, \"position\": \"left\", \"scale\": \"linear\", \"tickvalues\": null, \"tickformat\": null, \"nticks\": 8, \"fontsize\": 18.0}], \"id\": \"el53454533150496\", \"images\": [], \"paths\": [], \"xlim\": [-5.0, 25.0]}], \"plugins\": [{\"type\": \"reset\"}, {\"button\": true, \"enabled\": false, \"type\": \"zoom\"}, {\"button\": true, \"enabled\": false, \"type\": \"boxzoom\"}, {\"id\": \"el53454537955160\", \"hoffset\": 0, \"labels\": [\"100% remaining\", \"50% remaining\", \"25% remaining\", \"12% remaining\", \"6% remaining\", \"3% remaining\", \"1% remaining\", \"0% remaining\", \"0% remaining\", \"0% remaining\", \"0% remaining\", \"0% remaining\", \"0% remaining\", \"0% remaining\", \"0% remaining\", \"0% remaining\", \"0% remaining\", \"0% remaining\", \"0% remaining\", \"0% remaining\", \"0% remaining\", \"0% remaining\", \"0% remaining\", \"0% remaining\"], \"type\": \"tooltip\", \"voffset\": 10, \"location\": \"mouse\"}]});\n",
       "            })\n",
       "         });\n",
       "}\n",
       "</script>"
      ],
      "text/plain": [
       "<IPython.core.display.HTML object>"
      ]
     },
     "execution_count": 6,
     "metadata": {},
     "output_type": "execute_result"
    }
   ],
   "source": [
    "import math\n",
    "def n_decay(t, n_initial=100, half_life=1):\n",
    "    \"\"\"This function describes the decay of an isotope\"\"\"\n",
    "    lam = math.log(2)/half_life\n",
    "    return n_initial*math.exp(-lam*t)\n",
    "\n",
    "\n",
    "# This code plots the decay of an isotope\n",
    "import numpy as np\n",
    "y = np.arange(24)\n",
    "x = np.arange(24)\n",
    "for t in range(0,24):\n",
    "    x[t] = t\n",
    "    y[t] = n_decay(t)\n",
    "    \n",
    "# creates a figure and axes with matplotlib\n",
    "fig, ax = plt.subplots()\n",
    "scatter = plt.scatter(x, y, color='blue', s=y*20, alpha=0.4)    \n",
    "ax.plot(x, y, color='red')    \n",
    "\n",
    "# adds labels to the plot\n",
    "ax.set_ylabel('N_i(t)')\n",
    "ax.set_xlabel('Time')\n",
    "ax.set_title('N_i')\n",
    "\n",
    "# adds tooltips\n",
    "import mpld3\n",
    "labels = ['{0}% remaining'.format(i) for i in y]\n",
    "tooltip = mpld3.plugins.PointLabelTooltip(scatter, labels=labels)\n",
    "mpld3.plugins.connect(fig, tooltip)\n",
    "\n",
    "mpld3.display()"
   ]
  },
  {
   "cell_type": "markdown",
   "metadata": {},
   "source": [
    "All elements smaller than Z=83 (Bismuth) have at least one stable isotope\n",
    "Exceptions: Technetium (Z=43) and Promethium (Z=61)\n",
    "\n",
    "Once nucleus gets past a certain size, it is unstable\n",
    "The larges stable nucleus is Pb-208, all isotopes larger than this are unstable\n",
    "\n",
    "Nuclear conservation laws apply. The following are conserved:\n",
    "- charge\n",
    "- number of nucleons (proton + neutron)\n",
    "- total energy (mass + energy)\n",
    "- linear momentum (in inertial frame of reference)\n",
    "- angular momentum (spin)\n",
    "  - alternatively: leptons (electrons + neutrinos)\n"
   ]
  },
  {
   "cell_type": "code",
   "execution_count": null,
   "metadata": {
    "collapsed": true
   },
   "outputs": [],
   "source": []
  }
 ],
 "metadata": {
  "kernelspec": {
   "display_name": "Python 3",
   "language": "python",
   "name": "python3"
  },
  "language_info": {
   "codemirror_mode": {
    "name": "ipython",
    "version": 3
   },
   "file_extension": ".py",
   "mimetype": "text/x-python",
   "name": "python",
   "nbconvert_exporter": "python",
   "pygments_lexer": "ipython3",
   "version": "3.5.2"
  }
 },
 "nbformat": 4,
 "nbformat_minor": 0
}
