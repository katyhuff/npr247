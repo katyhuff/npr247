{
 "metadata": {
  "name": "",
  "signature": "sha256:f26c942d66b029a79f3e39d0a2418c38b4224e66e9d7dfd1e2cd90b0b3437f2d"
 },
 "nbformat": 3,
 "nbformat_minor": 0,
 "worksheets": [
  {
   "cells": [
    {
     "cell_type": "markdown",
     "metadata": {},
     "source": [
      "# [ATM 623: Climate Modeling](../index.ipynb)\n",
      "[Brian E. J. Rose](http://www.atmos.albany.edu/facstaff/brose/index.html), University at Albany\n",
      "# Lecture N: No title"
     ]
    },
    {
     "cell_type": "markdown",
     "metadata": {},
     "source": [
      "## Contents\n",
      "\n",
      "1. [First section title](#section1)"
     ]
    },
    {
     "cell_type": "markdown",
     "metadata": {},
     "source": [
      "____________\n",
      "<a id='section1'></a>\n",
      "\n",
      "## 1. First section title\n",
      "____________\n",
      "\n",
      "Some text."
     ]
    },
    {
     "cell_type": "markdown",
     "metadata": {},
     "source": [
      "<div class=\"alert alert-success\">\n",
      "[Back to ATM 623 notebook home](../index.ipynb)\n",
      "</div>"
     ]
    },
    {
     "cell_type": "markdown",
     "metadata": {},
     "source": [
      "____________\n",
      "## Credits\n",
      "\n",
      "The author of this notebook is [Brian E. J. Rose](http://www.atmos.albany.edu/facstaff/brose/index.html), University at Albany.\n",
      "\n",
      "It was developed in support of [ATM 623: Climate Modeling](http://www.atmos.albany.edu/facstaff/brose/classes/ATM623_Spring2015/), a graduate-level course in the [Department of Atmospheric and Envionmental Sciences](http://www.albany.edu/atmos/index.php), offered in Spring 2015.\n",
      "____________"
     ]
    }
   ],
   "metadata": {}
  }
 ]
}