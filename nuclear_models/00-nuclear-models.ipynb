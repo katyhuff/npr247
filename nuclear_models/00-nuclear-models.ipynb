{
 "cells": [
  {
   "cell_type": "markdown",
   "metadata": {
    "deletable": true,
    "editable": true
   },
   "source": [
    "# Nuclear Models\n",
    "\n",
    "## Learning objectives\n",
    "\n",
    "- Summarize the history of atomic theory development.\n",
    "- Recognize the radiation signatures that drove early atomic theory.\n",
    "- List atomic models: Plum Pudding, Rutherford, Bohr, Bohr with Elliptical Orbits, Quantum Mechanical\n",
    "- Differentiate various atomic models by name and physics.\n",
    "- List nuclear models: Proton-electron, Proton-neutron, Liquid-Drop, Shell\n",
    "- Differentiate nuclear models by name and physics.\n",
    "- Identify the physics captured by various nuclear models."
   ]
  },
  {
   "cell_type": "markdown",
   "metadata": {
    "deletable": true,
    "editable": true
   },
   "source": [
    "## Discovery of Radioactivity\n",
    "\n",
    "Electrically charged plates impose a magnetic field (out of the page). \n",
    "\n",
    "![https://opentextbc.ca/chemistry/wp-content/uploads/sites/150/2016/05/CNX_Chem_21_03_Radiation.jpg](https://opentextbc.ca/chemistry/wp-content/uploads/sites/150/2016/05/CNX_Chem_21_03_Radiation.jpg)\n",
    "\n",
    "21.3 Radioactive Decay by Rice University is licensed under a Creative Commons Attribution 4.0 International License, except where otherwise noted. (https://opentextbc.ca/chemistry/chapter/21-3-radioactive-decay/)\n",
    "\n",
    "\n",
    "- Alpha $(\\alpha)$ particles are attracted to the negative plate and deflected by a relatively small amount.\n",
    "- Beta $(\\beta)$ particles are attracted to the positive plate and deflected by a larger amount.\n",
    "- Gamma $(\\gamma)$ particles seem to be unaffected.\n",
    "\n",
    "### Exercise: Think-pair-share\n",
    "\n",
    "Based on these experimental results:\n",
    "\n",
    "1. What can one determine about the charges of the alpha, beta, and gamma particles?\n",
    "2. What can one determine about the weights of the particles?\n"
   ]
  },
  {
   "cell_type": "markdown",
   "metadata": {
    "deletable": true,
    "editable": true
   },
   "source": [
    "### Plum Pudding Model\n",
    "\n",
    "J.J. Thomson correctly identified the beta rays as electrons. \n",
    "So, electrons must be somewhere in the atom. However, atoms seemed be generally electrically neutral. \n",
    "Being british, J.J. Thomson equated this to plum pudding:\n",
    "\n",
    "![https://cdn.cupcakeproject.com/wp-content/uploads/2016/12/Christmas-Pudding-01.jpg](https://cdn.cupcakeproject.com/wp-content/uploads/2016/12/Christmas-Pudding-01.jpg)\n",
    "\n",
    "\n",
    "He had no reason to believe that the charges were not uniformly distributed.\n",
    "\n",
    "![https://upload.wikimedia.org/wikipedia/commons/f/ff/Plum_pudding_atom.svg](https://upload.wikimedia.org/wikipedia/commons/f/ff/Plum_pudding_atom.svg)\n",
    "\n",
    "\n",
    "Explains:\n",
    "\n",
    "- electrically neutral atoms\n",
    "- size of the atom $(10^{-10} m)$\n",
    "- an ion is an atom from which an electron has been lost\n",
    "- charge of a singly ionized atom is exactly one \n",
    "- number of electrons equals approximately half of the atomic weight of the atom\n"
   ]
  },
  {
   "cell_type": "markdown",
   "metadata": {
    "collapsed": true,
    "deletable": true,
    "editable": true
   },
   "source": [
    "### Rutherford Model\n",
    "\n",
    "Gold foil experiment by Geiger and Marsden. Alpha particles bombarded a very thin gold sheet/foil. Reflected alphas were very unlikely to be observed if the Thomson model was correct.\n",
    "\n",
    "<a title=\"By Kurzon [CC BY-SA 3.0 \n",
    " (https://creativecommons.org/licenses/by-sa/3.0\n",
    ")], from Wikimedia Commons\" href=\"https://commons.wikimedia.org/wiki/File:Geiger-Marsden_experiment_expectation_and_result.svg\"><img width=\"512\" alt=\"Geiger-Marsden experiment expectation and result\" src=\"https://upload.wikimedia.org/wikipedia/commons/thumb/f/f9/Geiger-Marsden_experiment_expectation_and_result.svg/512px-Geiger-Marsden_experiment_expectation_and_result.svg.png\"></a>\n",
    "\n",
    "\n",
    "In **1911** Rutherford surmised that a dense, positively charged thing must be at the center of the atom, perhaps with a diameter of $10^{-14}m$ or less.\n",
    "\n",
    "Deficiency of Rutherford’s model:\n",
    "The accelerating charge (electron) would radiate away their kinetic energy and the atom will collapse. \n"
   ]
  },
  {
   "cell_type": "markdown",
   "metadata": {
    "deletable": true,
    "editable": true
   },
   "source": [
    "### Bohr Model\n",
    "\n",
    "In the 1880s, Balmer, Rydberg, and others had observed **discrete lines** in the wavelength spectrum of atomic hydrogen when atoms are excited.\n",
    "\n",
    "<a title=\"By Merikanto, Adrignola (File:Emission spectrum-H.png) [CC0], via Wikimedia Commons\" href=\"https://commons.wikimedia.org/wiki/File:Emission_spectrum-H.svg\"><img width=\"512\" alt=\"Emission spectrum-H\" src=\"https://upload.wikimedia.org/wikipedia/commons/thumb/6/60/Emission_spectrum-H.svg/512px-Emission_spectrum-H.svg.png\"></a>\n",
    "\n",
    "The equation explaining these emission lines was well known by the early 1900s.\n",
    "\n",
    "\\begin{align}\n",
    "\\frac{1}{\\lambda} &= R_H \\left[\\frac{1}{n_o^2} - \\frac{1}{n^2} \\right]\\\\\n",
    "\\mbox{where  }&\\\\\n",
    "\\lambda &= \\mbox{the wavelength of electromagnetic radiation emitted in vacuum}\\\\\n",
    "R_H &= \\mbox{the Rydberg constant } \\\\\n",
    "&\\simeq  1.097373156850865 \\times 10^7 m^{-1} \\\\\n",
    "\\implies \\frac{1}{R} &=912 \\mbox{ angstrom}\\\\\n",
    "\\end{align}\n",
    "\n",
    "In the Bohr model, then, electrons were allowed only in certain orbits. Specifically only those orbits whose angular momentum satisfied the following relation:\n",
    "\n",
    "\\begin{align}\n",
    "\\frac{m_ev^2}{r} &= \\frac{Ze^2}{4\\pi\\epsilon_or^2}\\\\\n",
    "L &\\equiv m_evr = n\\frac{h}{2\\pi}\\\\\n",
    "\\mbox{where }&\\\\\n",
    "n&=1,2,3...\\\\\n",
    "L&=\\mbox{angular momentum}\\\\\n",
    "v&=\\mbox{velocity of the electron}\\\\\n",
    "r&=\\mbox{radius of the electron orbit}\\\\\n",
    "\\epsilon_o&=\\mbox{permittivity of free space}\\\\\n",
    "&= 8.85418782 \\times 10^{-12} m^{-3} kg^{-1} s^4 A^2\n",
    "\\end{align}\n",
    "\n",
    "Solving those relations for $r$ and $v$ :\n",
    "\n",
    "\\begin{align}\n",
    "v_n &= \\frac{Ze^2}{2\\epsilon_onh}\\\\\n",
    "r_n &= \\frac{n^2h^2\\epsilon_o}{\\pi m_e Z e^2}\n",
    "\\end{align}\n",
    "\n",
    "\n",
    "This explained the discreteness, as electrons might radiate energy only when moving from one allowed orbit to another.\n",
    "\n",
    "<a title=\"JabberWok [GFDL (http://www.gnu.org/copyleft/fdl.html) or CC-BY-SA-3.0 (http://creativecommons.org/licenses/by-sa/3.0/)], via Wikimedia Commons\" href=\"https://commons.wikimedia.org/wiki/File:Bohr-atom-PAR.svg\"><img width=\"256\" alt=\"Bohr-atom-PAR\" src=\"https://upload.wikimedia.org/wikipedia/commons/thumb/5/55/Bohr-atom-PAR.svg/256px-Bohr-atom-PAR.svg.png\"></a>\n",
    "\n",
    "\n",
    "Electron’s total energy under a certain orbit:\n",
    "\n",
    "\\begin{align}\n",
    "E_n &= \\frac{-m_e(Ze^2)^2}{8\\epsilon_o^2 n^2 h^2}\\\\\n",
    "\\end{align}\n",
    "\n",
    "\n",
    "Energy difference between two allowed orbits:\n",
    "\n",
    "\\begin{align}\n",
    "\\Delta E_{n\\rightarrow n_o} &= h\\nu_{n\\rightarrow n_o} \\\\\n",
    " &=  \\frac{-m_e(Ze^2)^2}{8\\epsilon_o^2 h^2}\\left[\\frac{1}{n_o^2} - \\frac{1}{n^2}\\right]\\\\\n",
    "\\end{align}\n",
    "\n",
    "\n",
    "This model explained a lot.\n",
    "\n",
    "<a title=\"By A_hidrogen_szinkepei.jpg: User:Szdori\n",
    "derivative work: OrangeDog (talk • contribs) (A_hidrogen_szinkepei.jpg) [CC BY 2.5 \n",
    " (https://creativecommons.org/licenses/by/2.5\n",
    "), GFDL (http://www.gnu.org/copyleft/fdl.html) or CC-BY-SA-3.0 (http://creativecommons.org/licenses/by-sa/3.0/)], via Wikimedia Commons\" href=\"https://commons.wikimedia.org/wiki/File:Hydrogen_transitions.svg\"><img width=\"512\" alt=\"Hydrogen transitions\" src=\"https://upload.wikimedia.org/wikipedia/commons/thumb/b/b2/Hydrogen_transitions.svg/512px-Hydrogen_transitions.svg.png\"></a>"
   ]
  },
  {
   "cell_type": "markdown",
   "metadata": {
    "deletable": true,
    "editable": true
   },
   "source": [
    "### Bohr Model : Elliptic Orbits\n",
    "\n",
    "Fine structure: Spectral lines are consisted of a number of lines very close together.\n",
    "\n",
    "- Except the quantum number $n$, there are some energy levels lying close to one another. \n",
    "- Sommerfeld postulated elliptic orbits as well as circular orbits and introduced another quantum number to describe the **angular momentum** of orbits. \n",
    "\n",
    "However, Sommerfeld’s theory predicted more lines than were observed in experiments.\n",
    "\n",
    "Thus, a new quantum number  $n$  needed an _ad hoc_ selection rule to limit the number of predicted lines.\n",
    "\n",
    "\n",
    "<a title=\"By Pieter Kuiper [Public domain], from Wikimedia Commons\" href=\"https://commons.wikimedia.org/wiki/File:Sommerfeld_ellipses.svg\"><img width=\"512\" alt=\"Sommerfeld ellipses\" src=\"https://upload.wikimedia.org/wikipedia/commons/thumb/7/75/Sommerfeld_ellipses.svg/512px-Sommerfeld_ellipses.svg.png\"></a>\n",
    "\n",
    "\n",
    "Splitting of the spectral lines was observed: A third quantum number $m$ needed to be introduced to revise Bohr’s model. also predicted more lines\n",
    "\n",
    "The theory failed to applied to more complicated atoms (multiplet structure is observed).\n",
    "\n",
    "Further change of Bohr’s theory can no longer resolve the difficulties. "
   ]
  },
  {
   "cell_type": "markdown",
   "metadata": {
    "deletable": true,
    "editable": true
   },
   "source": [
    "### Quantum Mechanical Model\n",
    "\n",
    "The electrons are no longer modeled as particles moving in orbits. Instead, they are modeled as a standing wave around the nucleus. The magnitude of that wave reflects the probability of finding the electron in that locations.\n",
    "\n",
    "- Schrodinger’s new approach:  **the wave function**\n",
    "- The electrons are no longer point particles; they are visualized as a standing wave around the nucleus.\n",
    "\n",
    "The three quantum numbers ($n$, $l$ , $m$) arose from the theory naturally - no ad hoc selection rules were needed. \n",
    "\n",
    "A fourth quantum number $m_s$ was introduced to explain:\n",
    "- Multiple fine-line structure\n",
    "- Splitting of lines in a strong magnetic field ( the **anomalous Zeeman effect**)\n",
    "\n",
    "<a title=\"By Danski14 [CC BY-SA 3.0 \n",
    " (https://creativecommons.org/licenses/by-sa/3.0\n",
    ")], from Wikimedia Commons\" href=\"https://commons.wikimedia.org/wiki/File:Breit-rabi-Zeeman.png\"><img width=\"512\" alt=\"Breit-rabi-Zeeman\" src=\"https://upload.wikimedia.org/wikipedia/commons/thumb/5/56/Breit-rabi-Zeeman.png/512px-Breit-rabi-Zeeman.png\"></a>\n"
   ]
  },
  {
   "cell_type": "markdown",
   "metadata": {
    "deletable": true,
    "editable": true
   },
   "source": [
    "## Nuclear Models\n",
    "\n",
    "\n",
    "### Fundamental properties of the nucleus \n",
    "\n",
    "- The density of protons inside the spherical nuclei was well understood to be a function of the radius, dropping off appreciably at the boundary of the nucleus.\n",
    "- The radius of the nucleus is proportional to $A^{1/3}$\n",
    "\n",
    "### Proton Electron Model\n",
    "\n",
    "Assume all heavier nuclei were composed of multiples of the hydrogen nucleus (protons), which has the smallest mass(1 amu).\n",
    "\n",
    "Two difficulties with this P-E Model:\n",
    "\n",
    "1. Predicted angular momentum (spin) of the nuclei did not always agree with experiment. \n",
    "\n",
    "2. Uncertainty Principle \n",
    "\n",
    "\\begin{align}\n",
    "\\Delta p \\Delta x &\\ge \\frac{h}{4\\pi}\n",
    "\\end{align}\n",
    "   "
   ]
  },
  {
   "cell_type": "markdown",
   "metadata": {
    "deletable": true,
    "editable": true
   },
   "source": [
    "### Proton-Neutron Model\n",
    "\n",
    "- **1932** Chadwick discovered the neutron.\n",
    "- **1932** Heisenberg first suggested every nucleus is composed of only protons and neutrons.\n",
    "\n",
    "- This P-N Model avoids the failures of the P-E Model.\n",
    "- The ,ajor difficulty of P-N Model is Coulombic repulsive forces\n",
    "- To hold the protons and neutrons together: \n",
    "      nuclear force : p-n , n-n , p-p\n",
    "      1.  inside the nucleus: nuclear force (attractive)\n",
    "      2. outside the nucleus: Coulombic force (repulsive)\n",
    "\n",
    "The energy needed to separate nucleus into $p_s$ & $n_s$ : binding energy\n"
   ]
  },
  {
   "cell_type": "markdown",
   "metadata": {
    "deletable": true,
    "editable": true
   },
   "source": [
    "### Liquid Drop Model\n",
    "\n",
    "\n",
    "1. volume term: volume binding energy is proportional to the number of nucleons (i.e. # of nucleons.)\n",
    "\n",
    "2. Surface term: Nucleons near the surface of the nucleus are not completely surrounded by other nucleons as interior nucleons.\n",
    "\n",
    "3. Coulomb term: Coulombic repulsive force decrease the stability of nucleons (reduces the BE ).\n",
    "\n",
    "4. asymmetry term: a departure from symmetry (N=Z) tends to reduce nuclear stability. (Fig.3.10 )\n",
    "\n",
    "5. pairing term : pairing neutrons and protons are more stable. (even N or Z; odd N or Z ; even N (Z), odd Z (N)) (Fig.3.11 & Fig.3.12)\n",
    "\n",
    "\n",
    "<a title=\"By Daniel FR [CC BY-SA 3.0 \n",
    " (https://creativecommons.org/licenses/by-sa/3.0\n",
    ")], via Wikimedia Commons\" href=\"https://commons.wikimedia.org/wiki/File:Liquid_drop_model.svg\"><img width=\"512\" alt=\"Liquid drop model\" src=\"https://upload.wikimedia.org/wikipedia/commons/thumb/5/5b/Liquid_drop_model.svg/512px-Liquid_drop_model.svg.png\"></a>\n",
    "\n",
    "Higher binding energy $\\implies$ a more stable nuclide."
   ]
  },
  {
   "cell_type": "markdown",
   "metadata": {
    "deletable": true,
    "editable": true
   },
   "source": [
    "### Shell Model\n",
    "\n",
    "The liquid drop model cannot explain the abnormal high stable nuclides(magic numbers:2,8,20,28,50,82,126).\n",
    "The shell model assume: (Shrodinger’s wave eq.)\n",
    "Each nucleon moves independently.\n",
    "Each nucleon moves in a potential well.\n",
    "\n",
    "When the model’s quantum-mechanical wave eq. is solved, the nucleons are found to distribute themselves into a number of energy levels.\n",
    "Filled shells are indicated by large gaps between each adjacent energy level.\n"
   ]
  },
  {
   "cell_type": "markdown",
   "metadata": {
    "deletable": true,
    "editable": true
   },
   "source": [
    "<a title=\"By Fujnky [CC BY-SA 4.0 \n",
    " (https://creativecommons.org/licenses/by-sa/4.0\n",
    ")], from Wikimedia Commons\" href=\"https://commons.wikimedia.org/wiki/File:Bethe-Weizs%C3%A4cker.png\"><img width=\"512\" alt=\"Bethe-Weizsäcker\" src=\"https://upload.wikimedia.org/wikipedia/commons/thumb/3/3b/Bethe-Weizs%C3%A4cker.png/512px-Bethe-Weizs%C3%A4cker.png\"></a>"
   ]
  },
  {
   "cell_type": "code",
   "execution_count": null,
   "metadata": {
    "collapsed": true,
    "deletable": true,
    "editable": true
   },
   "outputs": [],
   "source": []
  },
  {
   "cell_type": "code",
   "execution_count": null,
   "metadata": {
    "collapsed": true,
    "deletable": true,
    "editable": true
   },
   "outputs": [],
   "source": []
  }
 ],
 "metadata": {
  "kernelspec": {
   "display_name": "Python 3",
   "language": "python",
   "name": "python3"
  },
  "language_info": {
   "codemirror_mode": {
    "name": "ipython",
    "version": 3
   },
   "file_extension": ".py",
   "mimetype": "text/x-python",
   "name": "python",
   "nbconvert_exporter": "python",
   "pygments_lexer": "ipython3",
   "version": "3.5.2"
  }
 },
 "nbformat": 4,
 "nbformat_minor": 0
}
