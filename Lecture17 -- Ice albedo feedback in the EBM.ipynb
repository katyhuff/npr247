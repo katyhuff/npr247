{
 "cells": [
  {
   "cell_type": "markdown",
   "metadata": {},
   "source": [
    "# [ATM 623: Climate Modeling](../index.ipynb)\n",
    "[Brian E. J. Rose](http://www.atmos.albany.edu/facstaff/brose/index.html), University at Albany\n",
    "# Lecture 17: Ice albedo feedback in the EBM"
   ]
  },
  {
   "cell_type": "markdown",
   "metadata": {},
   "source": [
    "### About these notes:\n",
    "\n",
    "This document uses the interactive [`IPython notebook`](http://ipython.org/notebook.html) format (now also called [`Jupyter`](https://jupyter.org)). The notes can be accessed in several different ways:\n",
    "\n",
    "- The interactive notebooks are hosted on `github` at https://github.com/brian-rose/ClimateModeling_courseware\n",
    "- The latest versions can be viewed as static web pages [rendered on nbviewer](http://nbviewer.ipython.org/github/brian-rose/ClimateModeling_courseware/blob/master/index.ipynb)\n",
    "- A complete snapshot of the notes as of May 2015 (end of spring semester) are [available on Brian's website](http://www.atmos.albany.edu/facstaff/brose/classes/ATM623_Spring2015/Notes/index.html).\n",
    "\n",
    "Many of these notes make use of the `climlab` package, available at https://github.com/brian-rose/climlab"
   ]
  },
  {
   "cell_type": "markdown",
   "metadata": {},
   "source": [
    "## Contents\n",
    "\n",
    "1. [Interactive snow and ice line in the EBM](#section1)\n",
    "2. [Polar-amplified warming in the EBM](#section2)\n",
    "3. [Effects of diffusivity in the annual mean EBM with albedo feedback](#section3)\n",
    "4. [Diffusive response to a point source of energy](#section4)"
   ]
  },
  {
   "cell_type": "markdown",
   "metadata": {},
   "source": [
    "____________\n",
    "<a id='section1'></a>\n",
    "\n",
    "## 1. Interactive snow and ice line in the EBM\n",
    "____________\n"
   ]
  },
  {
   "cell_type": "markdown",
   "metadata": {},
   "source": [
    "### The annual mean EBM\n",
    "\n",
    "the equation is\n",
    "\n",
    "$$ C(\\phi) \\frac{\\partial T_s}{\\partial t} = (1-\\alpha) ~ Q - \\left( A + B~T_s \\right) + \\frac{D}{\\cos⁡\\phi } \\frac{\\partial }{\\partial \\phi} \\left(   \\cos⁡\\phi  ~ \\frac{\\partial T_s}{\\partial \\phi} \\right) $$\n",
    "\n",
    "\n"
   ]
  },
  {
   "cell_type": "markdown",
   "metadata": {},
   "source": [
    "### Temperature-dependent ice line\n",
    "\n",
    "Let the surface albedo be larger wherever the temperature is below some threshold $T_f$:\n",
    "\n",
    "$$ \\alpha\\left(\\phi, T(\\phi) \\right) = \\left\\{\\begin{array}{ccc} \n",
    "\\alpha_0 + \\alpha_2 P_2(\\sin\\phi) & ~ & T(\\phi) > T_f \\\\\n",
    "a_i & ~ & T(\\phi) \\le T_f \\\\\n",
    "\\end{array} \\right. $$\n"
   ]
  },
  {
   "cell_type": "code",
   "execution_count": 1,
   "metadata": {
    "collapsed": true
   },
   "outputs": [],
   "source": [
    "%matplotlib inline\n",
    "import numpy as np\n",
    "import matplotlib.pyplot as plt\n",
    "import climlab"
   ]
  },
  {
   "cell_type": "code",
   "execution_count": 2,
   "metadata": {
    "collapsed": false
   },
   "outputs": [
    {
     "name": "stdout",
     "output_type": "stream",
     "text": [
      "climlab Process of type <class 'climlab.model.ebm.EBM_annual'>. \n",
      "State variables and domain shapes: \n",
      "  Ts: (180, 1) \n",
      "The subprocess tree: \n",
      "top: <class 'climlab.model.ebm.EBM_annual'>\n",
      "   diffusion: <class 'climlab.dynamics.diffusion.MeridionalDiffusion'>\n",
      "   LW: <class 'climlab.radiation.AplusBT.AplusBT'>\n",
      "   albedo: <class 'climlab.surface.albedo.StepFunctionAlbedo'>\n",
      "      iceline: <class 'climlab.surface.albedo.Iceline'>\n",
      "      warm albedo: <class 'climlab.surface.albedo.P2Albedo'>\n",
      "      cold albedo: <class 'climlab.surface.albedo.ConstantAlbedo'>\n",
      "   insolation: <class 'climlab.radiation.insolation.AnnualMeanInsolation'>\n",
      "\n"
     ]
    }
   ],
   "source": [
    "#  for convenience, set up a dictionary with our reference parameters\n",
    "param = {'A':210, 'B':2, 'a0':0.3, 'a2':0.078, 'ai':0.62, 'Tf':-10.}\n",
    "model1 = climlab.EBM_annual( num_lat=180, D=0.55, **param )\n",
    "print model1"
   ]
  },
  {
   "cell_type": "markdown",
   "metadata": {},
   "source": [
    "Because we provided a parameter `ai` for the icy albedo, our model now contains several sub-processes contained within the process called `albedo`. Together these implement the step-function formula above.\n",
    "\n",
    "The process called `iceline` simply looks for grid cells with temperature below $T_f$."
   ]
  },
  {
   "cell_type": "code",
   "execution_count": 3,
   "metadata": {
    "collapsed": false
   },
   "outputs": [
    {
     "name": "stdout",
     "output_type": "stream",
     "text": [
      "{'A': 210, 'B': 2, 'D': 0.55, 'ai': 0.62, 'timestep': 350632.51200000005, 'S0': 1365.2, 'a0': 0.3, 'a2': 0.078, 'Tf': -10.0, 'water_depth': 10.0}\n"
     ]
    }
   ],
   "source": [
    "print model1.param"
   ]
  },
  {
   "cell_type": "code",
   "execution_count": 4,
   "metadata": {
    "collapsed": true
   },
   "outputs": [],
   "source": [
    "def ebm_plot( model, figsize=(8,12), show=True ):\n",
    "    '''This function makes a plot of the current state of the model,\n",
    "    including temperature, energy budget, and heat transport.'''\n",
    "    templimits = -30,35\n",
    "    radlimits = -340, 340\n",
    "    htlimits = -7,7\n",
    "    latlimits = -90,90\n",
    "    lat_ticks = np.arange(-90,90,30)\n",
    "    \n",
    "    fig = plt.figure(figsize=figsize)\n",
    "    \n",
    "    ax1 = fig.add_subplot(3,1,1)\n",
    "    ax1.plot(model.lat, model.Ts)\n",
    "    ax1.set_xlim(latlimits)\n",
    "    ax1.set_ylim(templimits)\n",
    "    ax1.set_ylabel('Temperature (deg C)')\n",
    "    ax1.set_xticks( lat_ticks )\n",
    "    ax1.grid()\n",
    "    \n",
    "    ax2 = fig.add_subplot(3,1,2)\n",
    "    ax2.plot(model.lat, model.diagnostics['ASR'], 'k--', label='SW' )\n",
    "    ax2.plot(model.lat, -model.diagnostics['OLR'], 'r--', label='LW' )\n",
    "    ax2.plot(model.lat, model.diagnostics['net_radiation'], 'c-', label='net rad' )\n",
    "    ax2.plot(model.lat, model.heat_transport_convergence(), 'g--', label='dyn' )\n",
    "    ax2.plot(model.lat, model.diagnostics['net_radiation'].squeeze() \n",
    "             + model.heat_transport_convergence(), 'b-', label='total' )\n",
    "    ax2.set_xlim(latlimits)\n",
    "    ax2.set_ylim(radlimits)\n",
    "    ax2.set_ylabel('Energy budget (W m$^{-2}$)')\n",
    "    ax2.set_xticks( lat_ticks )\n",
    "    ax2.grid()\n",
    "    ax2.legend()\n",
    "    \n",
    "    ax3 = fig.add_subplot(3,1,3)\n",
    "    ax3.plot(model.lat_bounds, model.heat_transport() )\n",
    "    ax3.set_xlim(latlimits)\n",
    "    ax3.set_ylim(htlimits)\n",
    "    ax3.set_ylabel('Heat transport (PW)')\n",
    "    ax3.set_xlabel('Latitude')\n",
    "    ax3.set_xticks( lat_ticks )\n",
    "    ax3.grid()\n",
    "\n",
    "    return fig"
   ]
  },
  {
   "cell_type": "code",
   "execution_count": 5,
   "metadata": {
    "collapsed": false
   },
   "outputs": [
    {
     "name": "stdout",
     "output_type": "stream",
     "text": [
      "Integrating for 450 steps, 1826.211 days, or 5 years.\n",
      "Total elapsed time is 5.0 years.\n"
     ]
    },
    {
     "data": {
      "image/png": "[encoded data removed]",
      "text/plain": [
       "<matplotlib.figure.Figure at 0x110962c10>"
      ]
     },
     "metadata": {},
     "output_type": "display_data"
    }
   ],
   "source": [
    "model1.integrate_years(5)\n",
    "f = ebm_plot(model1)"
   ]
  },
  {
   "cell_type": "code",
   "execution_count": 6,
   "metadata": {
    "collapsed": false
   },
   "outputs": [
    {
     "data": {
      "text/plain": [
       "array([-70.,  70.])"
      ]
     },
     "execution_count": 6,
     "metadata": {},
     "output_type": "execute_result"
    }
   ],
   "source": [
    "model1.diagnostics['icelat']"
   ]
  },
  {
   "cell_type": "markdown",
   "metadata": {},
   "source": [
    "____________\n",
    "<a id='section2'></a>\n",
    "\n",
    "## 2. Polar-amplified warming in the EBM\n",
    "____________\n",
    "\n"
   ]
  },
  {
   "cell_type": "markdown",
   "metadata": {},
   "source": [
    "### Add a small radiative forcing\n",
    "\n",
    "The equivalent of doubling CO2 in this model is something like \n",
    "\n",
    "$$ A \\rightarrow A - \\delta A $$\n",
    "\n",
    "where $\\delta A = 4$ W m$^{-2}$.\n"
   ]
  },
  {
   "cell_type": "code",
   "execution_count": 7,
   "metadata": {
    "collapsed": false
   },
   "outputs": [
    {
     "data": {
      "text/plain": [
       "[<matplotlib.lines.Line2D at 0x111676410>]"
      ]
     },
     "execution_count": 7,
     "metadata": {},
     "output_type": "execute_result"
    },
    {
     "data": {
      "image/png": "[encoded data removed]",
      "text/plain": [
       "<matplotlib.figure.Figure at 0x1111cd8d0>"
      ]
     },
     "metadata": {},
     "output_type": "display_data"
    }
   ],
   "source": [
    "deltaA = 4.\n",
    "\n",
    "model2 = climlab.process_like(model1)\n",
    "model2.subprocess['LW'].A = param['A'] - deltaA\n",
    "model2.integrate_years(5, verbose=False)\n",
    "\n",
    "plt.plot(model1.lat, model1.Ts)\n",
    "plt.plot(model2.lat, model2.Ts)"
   ]
  },
  {
   "cell_type": "markdown",
   "metadata": {},
   "source": [
    "The warming is polar-amplified:  more warming at the poles than elsewhere.\n",
    "\n",
    "Why?\n",
    "\n",
    "Also, the current ice line is now:"
   ]
  },
  {
   "cell_type": "code",
   "execution_count": 8,
   "metadata": {
    "collapsed": false
   },
   "outputs": [
    {
     "data": {
      "text/plain": [
       "array([-90.,  90.])"
      ]
     },
     "execution_count": 8,
     "metadata": {},
     "output_type": "execute_result"
    }
   ],
   "source": [
    "model2.diagnostics['icelat']"
   ]
  },
  {
   "cell_type": "markdown",
   "metadata": {},
   "source": [
    "There is no ice left!\n",
    "\n",
    "Let's do some more greenhouse warming:"
   ]
  },
  {
   "cell_type": "code",
   "execution_count": 9,
   "metadata": {
    "collapsed": false
   },
   "outputs": [
    {
     "data": {
      "image/png": "[encoded data removed]",
      "text/plain": [
       "<matplotlib.figure.Figure at 0x111628110>"
      ]
     },
     "metadata": {},
     "output_type": "display_data"
    }
   ],
   "source": [
    "model3 = climlab.process_like(model1)\n",
    "model3.subprocess['LW'].A = param['A'] - 2*deltaA\n",
    "model3.integrate_years(5, verbose=False)\n",
    "\n",
    "plt.plot(model1.lat, model1.Ts)\n",
    "plt.plot(model2.lat, model2.Ts)\n",
    "plt.plot(model3.lat, model3.Ts)\n",
    "plt.xlim(-90, 90)\n",
    "plt.grid()"
   ]
  },
  {
   "cell_type": "markdown",
   "metadata": {},
   "source": [
    "In the ice-free regime, there is no polar-amplified warming. A uniform radiative forcing produces a uniform warming."
   ]
  },
  {
   "cell_type": "markdown",
   "metadata": {},
   "source": [
    "____________\n",
    "<a id='section3'></a>\n",
    "\n",
    "## 3. Effects of diffusivity in the annual mean EBM with albedo feedback\n",
    "____________\n",
    "\n"
   ]
  },
  {
   "cell_type": "markdown",
   "metadata": {},
   "source": [
    "### In-class investigation:\n",
    "\n",
    "We will repeat the exercise from Lecture 14, but this time with albedo feedback included in our model.\n",
    "\n",
    "- Solve the annual-mean EBM (integrate out to equilibrium) over a range of different diffusivity parameters.\n",
    "- Make three plots:\n",
    "    - Global-mean temperature as a function of $D$\n",
    "    - Equator-to-pole temperature difference $\\Delta T$ as a function of $D$\n",
    "    - Poleward heat transport across 35 degrees $\\mathcal{H}_{max}$ as a function of $D$\n",
    "- Choose a value of $D$ that gives a reasonable approximation to observations:\n",
    "    - $\\Delta T \\approx 45$ ºC\n",
    "\n",
    "Use these parameter values:"
   ]
  },
  {
   "cell_type": "code",
   "execution_count": 10,
   "metadata": {
    "collapsed": false
   },
   "outputs": [
    {
     "name": "stdout",
     "output_type": "stream",
     "text": [
      "{'A': 210, 'B': 2, 'ai': 0.62, 'a0': 0.3, 'a2': 0.078, 'Tf': -10.0}\n"
     ]
    }
   ],
   "source": [
    "param = {'A':210, 'B':2, 'a0':0.3, 'a2':0.078, 'ai':0.62, 'Tf':-10.}\n",
    "print param"
   ]
  },
  {
   "cell_type": "code",
   "execution_count": null,
   "metadata": {
    "collapsed": true
   },
   "outputs": [],
   "source": []
  },
  {
   "cell_type": "code",
   "execution_count": null,
   "metadata": {
    "collapsed": true
   },
   "outputs": [],
   "source": []
  },
  {
   "cell_type": "markdown",
   "metadata": {},
   "source": [
    "### One possible way to do this:"
   ]
  },
  {
   "cell_type": "code",
   "execution_count": 11,
   "metadata": {
    "collapsed": true
   },
   "outputs": [],
   "source": [
    "Darray = np.arange(0., 2.05, 0.05)"
   ]
  },
  {
   "cell_type": "code",
   "execution_count": 12,
   "metadata": {
    "collapsed": false
   },
   "outputs": [],
   "source": [
    "model_list = []\n",
    "Tmean_list = []\n",
    "deltaT_list = []\n",
    "Hmax_list = []\n",
    "for D in Darray:\n",
    "    ebm = climlab.EBM_annual(num_lat=360, D=D, **param )\n",
    "    #ebm.subprocess['insolation'].s2 = -0.473\n",
    "    ebm.integrate_years(5., verbose=False)\n",
    "    Tmean = ebm.global_mean_temperature()\n",
    "    deltaT = np.max(ebm.Ts) - np.min(ebm.Ts)\n",
    "    HT = ebm.heat_transport()\n",
    "    #Hmax = np.max(np.abs(HT))\n",
    "    ind = np.where(ebm.lat_bounds==35.5)[0]\n",
    "    Hmax = HT[ind]\n",
    "    model_list.append(ebm)\n",
    "    Tmean_list.append(Tmean)\n",
    "    deltaT_list.append(deltaT)\n",
    "    Hmax_list.append(Hmax)"
   ]
  },
  {
   "cell_type": "code",
   "execution_count": 13,
   "metadata": {
    "collapsed": false
   },
   "outputs": [
    {
     "data": {
      "image/png": "[encoded data removed]",
      "text/plain": [
       "<matplotlib.figure.Figure at 0x112b66c90>"
      ]
     },
     "metadata": {},
     "output_type": "display_data"
    }
   ],
   "source": [
    "color1 = 'b'\n",
    "color2 = 'r'\n",
    "\n",
    "fig = plt.figure(figsize=(8,6))\n",
    "ax1 = fig.add_subplot(111)\n",
    "ax1.plot(Darray, deltaT_list, color=color1, label='$\\Delta T$')\n",
    "ax1.plot(Darray, Tmean_list, '--', color=color1, label='$\\overline{T}$')\n",
    "ax1.set_xlabel('D (W m$^{-2}$ K$^{-1}$)', fontsize=14)\n",
    "ax1.set_xticks(np.arange(Darray[0], Darray[-1], 0.2))\n",
    "ax1.set_ylabel('Temperature ($^\\circ$C)', fontsize=14,  color=color1)\n",
    "for tl in ax1.get_yticklabels():\n",
    "    tl.set_color(color1)\n",
    "ax1.legend(loc='center right')\n",
    "ax2 = ax1.twinx()\n",
    "ax2.plot(Darray, Hmax_list, color=color2)\n",
    "ax2.set_ylabel('Poleward heat transport across 35.5$^\\circ$ (PW)', fontsize=14, color=color2)\n",
    "for tl in ax2.get_yticklabels():\n",
    "    tl.set_color(color2)\n",
    "ax1.set_title('Effect of diffusivity on EBM with albedo feedback', fontsize=16)\n",
    "ax1.grid()\n"
   ]
  },
  {
   "cell_type": "markdown",
   "metadata": {},
   "source": [
    "____________\n",
    "<a id='section4'></a>\n",
    "\n",
    "## 4. Diffusive response to a point source of energy\n",
    "____________\n",
    "\n",
    "Let's add a point heat source to the EBM and see what sets the spatial structure of the response.\n",
    "\n",
    "We will add a heat source at about 45º latitude.\n",
    "\n",
    "First, we will calculate the response in a model **without albedo feedback**."
   ]
  },
  {
   "cell_type": "code",
   "execution_count": 14,
   "metadata": {
    "collapsed": false
   },
   "outputs": [
    {
     "name": "stdout",
     "output_type": "stream",
     "text": [
      "climlab Process of type <class 'climlab.model.ebm.EBM_annual'>. \n",
      "State variables and domain shapes: \n",
      "  Ts: (180, 1) \n",
      "The subprocess tree: \n",
      "top: <class 'climlab.model.ebm.EBM_annual'>\n",
      "   diffusion: <class 'climlab.dynamics.diffusion.MeridionalDiffusion'>\n",
      "   LW: <class 'climlab.radiation.AplusBT.AplusBT'>\n",
      "   albedo: <class 'climlab.surface.albedo.P2Albedo'>\n",
      "   insolation: <class 'climlab.radiation.insolation.AnnualMeanInsolation'>\n",
      "\n"
     ]
    }
   ],
   "source": [
    "param_noalb = {'A': 210, 'B': 2, 'D': 0.55, 'Tf': -10.0, 'a0': 0.3, 'a2': 0.078}\n",
    "m1 = climlab.EBM_annual(num_lat=180, **param_noalb)\n",
    "print m1"
   ]
  },
  {
   "cell_type": "code",
   "execution_count": 15,
   "metadata": {
    "collapsed": false
   },
   "outputs": [
    {
     "name": "stdout",
     "output_type": "stream",
     "text": [
      "Integrating for 450 steps, 1826.211 days, or 5.0 years.\n",
      "Total elapsed time is 5.0 years.\n"
     ]
    }
   ],
   "source": [
    "m1.integrate_years(5.)"
   ]
  },
  {
   "cell_type": "code",
   "execution_count": 16,
   "metadata": {
    "collapsed": true
   },
   "outputs": [],
   "source": [
    "m2 = climlab.process_like(m1)"
   ]
  },
  {
   "cell_type": "code",
   "execution_count": 17,
   "metadata": {
    "collapsed": false
   },
   "outputs": [
    {
     "name": "stdout",
     "output_type": "stream",
     "text": [
      "climlab Process of type <class 'climlab.model.ebm.EBM_annual'>. \n",
      "State variables and domain shapes: \n",
      "  Ts: (180, 1) \n",
      "The subprocess tree: \n",
      "top: <class 'climlab.model.ebm.EBM_annual'>\n",
      "   diffusion: <class 'climlab.dynamics.diffusion.MeridionalDiffusion'>\n",
      "   LW: <class 'climlab.radiation.AplusBT.AplusBT'>\n",
      "   albedo: <class 'climlab.surface.albedo.P2Albedo'>\n",
      "   insolation: <class 'climlab.radiation.insolation.AnnualMeanInsolation'>\n",
      "   point source: <class 'climlab.process.energy_budget.ExternalEnergySource'>\n",
      "\n"
     ]
    }
   ],
   "source": [
    "point_source = climlab.process.energy_budget.ExternalEnergySource(state=m2.state)\n",
    "ind = np.where(m2.lat == 45.5)\n",
    "point_source.heating_rate['Ts'][ind] = 100.\n",
    "\n",
    "m2.add_subprocess('point source', point_source)\n",
    "print m2"
   ]
  },
  {
   "cell_type": "code",
   "execution_count": 18,
   "metadata": {
    "collapsed": false
   },
   "outputs": [
    {
     "name": "stdout",
     "output_type": "stream",
     "text": [
      "Integrating for 450 steps, 1826.211 days, or 5.0 years.\n",
      "Total elapsed time is 10.0 years.\n"
     ]
    }
   ],
   "source": [
    "m2.integrate_years(5.)"
   ]
  },
  {
   "cell_type": "code",
   "execution_count": 19,
   "metadata": {
    "collapsed": false
   },
   "outputs": [
    {
     "data": {
      "image/png": "[encoded data removed]",
      "text/plain": [
       "<matplotlib.figure.Figure at 0x111d60190>"
      ]
     },
     "metadata": {},
     "output_type": "display_data"
    }
   ],
   "source": [
    "plt.plot(m2.lat, m2.Ts - m1.Ts)\n",
    "plt.xlim(-90,90)\n",
    "plt.grid()"
   ]
  },
  {
   "cell_type": "markdown",
   "metadata": {},
   "source": [
    "The warming effects of our point source are felt **at all latitudes** but the effects decay away from the heat source.\n",
    "\n",
    "Some analysis will show that the length scale of the warming is proportional to \n",
    "\n",
    "$$  \\sqrt{\\frac{D}{B}} $$\n",
    "\n",
    "so increases with the diffusivity."
   ]
  },
  {
   "cell_type": "markdown",
   "metadata": {},
   "source": [
    "Now repeat this calculate **with ice albedo feedback**"
   ]
  },
  {
   "cell_type": "code",
   "execution_count": 20,
   "metadata": {
    "collapsed": false
   },
   "outputs": [
    {
     "name": "stdout",
     "output_type": "stream",
     "text": [
      "Integrating for 450 steps, 1826.211 days, or 5.0 years.\n",
      "Total elapsed time is 5.0 years.\n",
      "Integrating for 450 steps, 1826.211 days, or 5.0 years.\n",
      "Total elapsed time is 10.0 years.\n"
     ]
    }
   ],
   "source": [
    "m3 = climlab.EBM_annual(num_lat=180, **param)\n",
    "m3.integrate_years(5.)\n",
    "m4 = climlab.process_like(m3)\n",
    "point_source = climlab.process.energy_budget.ExternalEnergySource(state=m4.state)\n",
    "point_source.heating_rate['Ts'][ind] = 100.\n",
    "m4.add_subprocess('point source', point_source)\n",
    "m4.integrate_years(5.)"
   ]
  },
  {
   "cell_type": "code",
   "execution_count": 21,
   "metadata": {
    "collapsed": false
   },
   "outputs": [
    {
     "data": {
      "image/png": "[encoded data removed]",
      "text/plain": [
       "<matplotlib.figure.Figure at 0x112035510>"
      ]
     },
     "metadata": {},
     "output_type": "display_data"
    }
   ],
   "source": [
    "plt.plot(m4.lat, m4.Ts - m3.Ts)\n",
    "plt.xlim(-90,90)\n",
    "plt.grid()"
   ]
  },
  {
   "cell_type": "markdown",
   "metadata": {},
   "source": [
    "Now the maximum warming **does not coincide with the heat source at 45º**!\n",
    "\n",
    "Our heat source has led to melting of snow and ice, which induces an additional heat source in the high northern latitudes.\n",
    "\n",
    "**Heat transport communicates the external warming to the ice cap, and also commuicates the increased shortwave absorption due to ice melt globally!**"
   ]
  },
  {
   "cell_type": "markdown",
   "metadata": {},
   "source": [
    "<div class=\"alert alert-success\">\n",
    "[Back to ATM 623 notebook home](../index.ipynb)\n",
    "</div>"
   ]
  },
  {
   "cell_type": "markdown",
   "metadata": {},
   "source": [
    "____________\n",
    "## Credits\n",
    "\n",
    "The author of this notebook is [Brian E. J. Rose](http://www.atmos.albany.edu/facstaff/brose/index.html), University at Albany.\n",
    "\n",
    "It was developed in support of [ATM 623: Climate Modeling](http://www.atmos.albany.edu/facstaff/brose/classes/ATM623_Spring2015/), a graduate-level course in the [Department of Atmospheric and Envionmental Sciences](http://www.albany.edu/atmos/index.php), offered in Spring 2015.\n",
    "____________"
   ]
  },
  {
   "cell_type": "markdown",
   "metadata": {},
   "source": [
    "____________\n",
    "## Version information\n",
    "____________\n"
   ]
  },
  {
   "cell_type": "code",
   "execution_count": 22,
   "metadata": {
    "collapsed": false
   },
   "outputs": [
    {
     "name": "stdout",
     "output_type": "stream",
     "text": [
      "Installed version_information.py. To use it, type:\n",
      "  %load_ext version_information\n"
     ]
    },
    {
     "data": {
      "application/json": {
       "Software versions": [
        {
         "module": "Python",
         "version": "2.7.9 64bit [GCC 4.2.1 (Apple Inc. build 5577)]"
        },
        {
         "module": "IPython",
         "version": "3.1.0"
        },
        {
         "module": "OS",
         "version": "Darwin 14.3.0 x86_64 i386 64bit"
        },
        {
         "module": "numpy",
         "version": "1.9.2"
        },
        {
         "module": "climlab",
         "version": "0.2.11"
        }
       ]
      },
      "text/html": [
       "<table><tr><th>Software</th><th>Version</th></tr><tr><td>Python</td><td>2.7.9 64bit [GCC 4.2.1 (Apple Inc. build 5577)]</td></tr><tr><td>IPython</td><td>3.1.0</td></tr><tr><td>OS</td><td>Darwin 14.3.0 x86_64 i386 64bit</td></tr><tr><td>numpy</td><td>1.9.2</td></tr><tr><td>climlab</td><td>0.2.11</td></tr><tr><td colspan='2'>Thu May 14 16:16:09 2015 EDT</td></tr></table>"
      ],
      "text/latex": [
       "\\begin{tabular}{|l|l|}\\hline\n",
       "{\\bf Software} & {\\bf Version} \\\\ \\hline\\hline\n",
       "Python & 2.7.9 64bit [GCC 4.2.1 (Apple Inc. build 5577)] \\\\ \\hline\n",
       "IPython & 3.1.0 \\\\ \\hline\n",
       "OS & Darwin 14.3.0 x86\\_64 i386 64bit \\\\ \\hline\n",
       "numpy & 1.9.2 \\\\ \\hline\n",
       "climlab & 0.2.11 \\\\ \\hline\n",
       "\\hline \\multicolumn{2}{|l|}{Thu May 14 16:16:09 2015 EDT} \\\\ \\hline\n",
       "\\end{tabular}\n"
      ],
      "text/plain": [
       "Software versions\n",
       "Python 2.7.9 64bit [GCC 4.2.1 (Apple Inc. build 5577)]\n",
       "IPython 3.1.0\n",
       "OS Darwin 14.3.0 x86_64 i386 64bit\n",
       "numpy 1.9.2\n",
       "climlab 0.2.11\n",
       "Thu May 14 16:16:09 2015 EDT"
      ]
     },
     "execution_count": 22,
     "metadata": {},
     "output_type": "execute_result"
    }
   ],
   "source": [
    "%install_ext http://raw.github.com/jrjohansson/version_information/master/version_information.py\n",
    "%load_ext version_information\n",
    "%version_information numpy, climlab"
   ]
  },
  {
   "cell_type": "code",
   "execution_count": null,
   "metadata": {
    "collapsed": true
   },
   "outputs": [],
   "source": []
  }
 ],
 "metadata": {
  "kernelspec": {
   "display_name": "Python 2",
   "language": "python",
   "name": "python2"
  },
  "language_info": {
   "codemirror_mode": {
    "name": "ipython",
    "version": 2
   },
   "file_extension": ".py",
   "mimetype": "text/x-python",
   "name": "python",
   "nbconvert_exporter": "python",
   "pygments_lexer": "ipython2",
   "version": "2.7.9"
  }
 },
 "nbformat": 4,
 "nbformat_minor": 0
}
